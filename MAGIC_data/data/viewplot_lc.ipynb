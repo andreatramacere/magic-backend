{
 "cells": [
  {
   "cell_type": "code",
   "execution_count": 2,
   "metadata": {
    "collapsed": true
   },
   "outputs": [],
   "source": [
    "from astropy.table  import  Table,Column\n",
    "from astropy import units as u\n",
    "import matplotlib.pyplot as plt\n",
    "import numpy as np\n",
    "%matplotlib inline"
   ]
  },
  {
   "cell_type": "code",
   "execution_count": 41,
   "metadata": {
    "scrolled": false
   },
   "outputs": [
    {
     "data": {
      "text/html": [
       "&lt;Table length=67&gt;\n",
       "<table id=\"table4608892096\" class=\"table-striped table-bordered table-condensed\">\n",
       "<thead><tr><th>nufnu</th><th>nufnu_elo</th><th>nufnu_eup</th><th>tstart</th><th>tstop</th><th>texpo</th><th>comments</th></tr></thead>\n",
       "<thead><tr><th>erg / (cm2 s)</th><th>erg / (cm2 s)</th><th>erg / (cm2 s)</th><th>mjd</th><th>mjd</th><th>s</th><th>latex</th></tr></thead>\n",
       "<thead><tr><th>float32</th><th>float32</th><th>float32</th><th>float32</th><th>float32</th><th>float32</th><th>str15</th></tr></thead>\n",
       "<tr><td>1.327e-11</td><td>3.4724e-12</td><td>3.4724e-12</td><td>54683.6</td><td>nan</td><td>339.6</td><td>photon counting</td></tr>\n",
       "<tr><td>1.2247e-11</td><td>6.2596e-13</td><td>6.2596e-13</td><td>54685.6</td><td>nan</td><td>3259.0</td><td>photon counting</td></tr>\n",
       "<tr><td>8.7033e-12</td><td>7.135e-13</td><td>7.135e-13</td><td>54686.0</td><td>nan</td><td>3366.4</td><td>photon counting</td></tr>\n",
       "<tr><td>2.2589e-11</td><td>3.2199e-12</td><td>3.2199e-12</td><td>56567.0</td><td>nan</td><td>394.9</td><td>photon counting</td></tr>\n",
       "<tr><td>1.6561e-11</td><td>1.1168e-12</td><td>1.1168e-12</td><td>56567.0</td><td>nan</td><td>2356.8</td><td>photon counting</td></tr>\n",
       "<tr><td>2.8109e-11</td><td>1.3701e-12</td><td>1.3701e-12</td><td>56571.0</td><td>nan</td><td>5209.4</td><td>photon counting</td></tr>\n",
       "<tr><td>2.886e-11</td><td>3.9598e-12</td><td>3.9598e-12</td><td>56576.0</td><td>nan</td><td>539.4</td><td>photon counting</td></tr>\n",
       "<tr><td>1.8271e-11</td><td>9.6144e-13</td><td>9.6144e-13</td><td>56576.1</td><td>nan</td><td>5331.7</td><td>photon counting</td></tr>\n",
       "<tr><td>1.002e-11</td><td>1.854e-12</td><td>1.854e-12</td><td>56921.3</td><td>nan</td><td>944.0</td><td>photon counting</td></tr>\n",
       "<tr><td>...</td><td>...</td><td>...</td><td>...</td><td>...</td><td>...</td><td>...</td></tr>\n",
       "<tr><td>1.1706e-11</td><td>1.1452e-12</td><td>1.1452e-12</td><td>56217.4</td><td>nan</td><td>1025.6</td><td>windowed time</td></tr>\n",
       "<tr><td>1.6964e-11</td><td>1.8699e-12</td><td>1.8699e-12</td><td>56238.3</td><td>nan</td><td>1022.9</td><td>windowed time</td></tr>\n",
       "<tr><td>1.4353e-11</td><td>1.575e-12</td><td>1.575e-12</td><td>56245.3</td><td>nan</td><td>979.4</td><td>windowed time</td></tr>\n",
       "<tr><td>1.3137e-11</td><td>1.0116e-12</td><td>1.0116e-12</td><td>56264.1</td><td>nan</td><td>1506.3</td><td>windowed time</td></tr>\n",
       "<tr><td>1.5492e-11</td><td>1.52e-12</td><td>1.52e-12</td><td>56274.1</td><td>nan</td><td>1229.4</td><td>windowed time</td></tr>\n",
       "<tr><td>1.6769e-11</td><td>1.6495e-12</td><td>1.6495e-12</td><td>56278.1</td><td>nan</td><td>1149.1</td><td>windowed time</td></tr>\n",
       "<tr><td>2.0152e-11</td><td>1.5917e-12</td><td>1.5917e-12</td><td>56569.4</td><td>nan</td><td>996.8</td><td>windowed time</td></tr>\n",
       "<tr><td>1.0696e-11</td><td>2.3939e-12</td><td>2.3939e-12</td><td>56654.1</td><td>nan</td><td>370.6</td><td>windowed time</td></tr>\n",
       "<tr><td>2.1311e-11</td><td>1.979e-12</td><td>1.979e-12</td><td>56656.1</td><td>nan</td><td>1057.5</td><td>windowed time</td></tr>\n",
       "<tr><td>1.6309e-11</td><td>1.6217e-12</td><td>1.6217e-12</td><td>56680.1</td><td>nan</td><td>959.5</td><td>windowed time</td></tr>\n",
       "</table>"
      ],
      "text/plain": [
       "<Table length=67>\n",
       "    nufnu       nufnu_elo     nufnu_eup   ...  tstop   texpo      comments   \n",
       "erg / (cm2 s) erg / (cm2 s) erg / (cm2 s) ...   mjd      s         latex     \n",
       "   float32       float32       float32    ... float32 float32      str15     \n",
       "------------- ------------- ------------- ... ------- ------- ---------------\n",
       "    1.327e-11    3.4724e-12    3.4724e-12 ...     nan   339.6 photon counting\n",
       "   1.2247e-11    6.2596e-13    6.2596e-13 ...     nan  3259.0 photon counting\n",
       "   8.7033e-12     7.135e-13     7.135e-13 ...     nan  3366.4 photon counting\n",
       "   2.2589e-11    3.2199e-12    3.2199e-12 ...     nan   394.9 photon counting\n",
       "   1.6561e-11    1.1168e-12    1.1168e-12 ...     nan  2356.8 photon counting\n",
       "   2.8109e-11    1.3701e-12    1.3701e-12 ...     nan  5209.4 photon counting\n",
       "    2.886e-11    3.9598e-12    3.9598e-12 ...     nan   539.4 photon counting\n",
       "   1.8271e-11    9.6144e-13    9.6144e-13 ...     nan  5331.7 photon counting\n",
       "    1.002e-11     1.854e-12     1.854e-12 ...     nan   944.0 photon counting\n",
       "          ...           ...           ... ...     ...     ...             ...\n",
       "   1.1706e-11    1.1452e-12    1.1452e-12 ...     nan  1025.6   windowed time\n",
       "   1.6964e-11    1.8699e-12    1.8699e-12 ...     nan  1022.9   windowed time\n",
       "   1.4353e-11     1.575e-12     1.575e-12 ...     nan   979.4   windowed time\n",
       "   1.3137e-11    1.0116e-12    1.0116e-12 ...     nan  1506.3   windowed time\n",
       "   1.5492e-11      1.52e-12      1.52e-12 ...     nan  1229.4   windowed time\n",
       "   1.6769e-11    1.6495e-12    1.6495e-12 ...     nan  1149.1   windowed time\n",
       "   2.0152e-11    1.5917e-12    1.5917e-12 ...     nan   996.8   windowed time\n",
       "   1.0696e-11    2.3939e-12    2.3939e-12 ...     nan   370.6   windowed time\n",
       "   2.1311e-11     1.979e-12     1.979e-12 ...     nan  1057.5   windowed time\n",
       "   1.6309e-11    1.6217e-12    1.6217e-12 ...     nan   959.5   windowed time"
      ]
     },
     "execution_count": 41,
     "metadata": {},
     "output_type": "execute_result"
    }
   ],
   "source": [
    "ecsvdata=Table.read('19e/magic_19e_lc1_fig2_target11.ecsv', format='ascii.ecsv')\n",
    "ecsvdata"
   ]
  },
  {
   "cell_type": "code",
   "execution_count": 47,
   "metadata": {},
   "outputs": [
    {
     "data": {
      "image/png": "[encoded data removed]",
      "text/plain": [
       "<matplotlib.figure.Figure at 0x11284e048>"
      ]
     },
     "metadata": {},
     "output_type": "display_data"
    }
   ],
   "source": [
    "y=ecsvdata['nufnu'].data\n",
    "x=ecsvdata['tstart'].data\n",
    "\n",
    "y_elo = ecsvdata['nufnu_elo'].data\n",
    "y_eup = ecsvdata['nufnu_eup'].data\n",
    "y_asym_error = [y_elo, y_eup]\n",
    "\n",
    "plt.errorbar(x,y,yerr=y_asym_error,marker='o',linewidth=0, elinewidth=0.5 )\n",
    "plt.xlabel('MJD')\n",
    "plt.ylabel('erg / (cm^2 s)')\n",
    "plt.semilogy()\n",
    "plt.grid()\n",
    "plt.show()"
   ]
  },
  {
   "cell_type": "code",
   "execution_count": null,
   "metadata": {
    "collapsed": true
   },
   "outputs": [],
   "source": []
  },
  {
   "cell_type": "code",
   "execution_count": null,
   "metadata": {
    "collapsed": true
   },
   "outputs": [],
   "source": []
  }
 ],
 "metadata": {
  "kernelspec": {
   "display_name": "Python 3",
   "language": "python",
   "name": "python3"
  },
  "language_info": {
   "codemirror_mode": {
    "name": "ipython",
    "version": 3
   },
   "file_extension": ".py",
   "mimetype": "text/x-python",
   "name": "python",
   "nbconvert_exporter": "python",
   "pygments_lexer": "ipython3",
   "version": "3.6.3"
  }
 },
 "nbformat": 4,
 "nbformat_minor": 2
}

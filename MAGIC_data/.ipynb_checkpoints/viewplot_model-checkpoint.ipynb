{
 "cells": [
  {
   "cell_type": "code",
   "execution_count": 1,
   "metadata": {
    "collapsed": true
   },
   "outputs": [],
   "source": [
    "from astropy.table  import  Table,Column\n",
    "from astropy import units as u\n",
    "import matplotlib.pyplot as plt\n",
    "import numpy as np\n",
    "%matplotlib inline"
   ]
  },
  {
   "cell_type": "code",
   "execution_count": 12,
   "metadata": {
    "scrolled": false
   },
   "outputs": [
    {
     "data": {
      "text/html": [
       "&lt;Table length=47&gt;\n",
       "<table id=\"table4607849360\" class=\"table-striped table-bordered table-condensed\">\n",
       "<thead><tr><th>freq</th><th>freq_elo</th><th>freq_eup</th><th>nufnu</th><th>nufnu_elo</th><th>nufnu_eup</th><th>tstart</th><th>tstop</th><th>texpo</th><th>comments</th></tr></thead>\n",
       "<thead><tr><th>1 / s</th><th>1 / s</th><th>1 / s</th><th>erg / (cm2 s)</th><th>erg / (cm2 s)</th><th>erg / (cm2 s)</th><th>mjd</th><th>mjd</th><th>s</th><th>latex</th></tr></thead>\n",
       "<thead><tr><th>float32</th><th>float32</th><th>float32</th><th>float32</th><th>float32</th><th>float32</th><th>float32</th><th>float32</th><th>float32</th><th>str13</th></tr></thead>\n",
       "<tr><td>5.55e+14</td><td>0.0</td><td>0.0</td><td>1.35088e-11</td><td>6.9276e-13</td><td>6.9276e-13</td><td>57417.0</td><td>57417.0</td><td>nan</td><td>UVOT</td></tr>\n",
       "<tr><td>6.925e+14</td><td>0.0</td><td>0.0</td><td>8.53249e-12</td><td>4.11655e-13</td><td>4.11655e-13</td><td>57417.0</td><td>57417.0</td><td>nan</td><td>UVOT</td></tr>\n",
       "<tr><td>8.563e+14</td><td>0.0</td><td>0.0</td><td>4.65134e-12</td><td>3.28533e-13</td><td>3.28533e-13</td><td>57417.0</td><td>57417.0</td><td>nan</td><td>UVOT</td></tr>\n",
       "<tr><td>1.157e+15</td><td>0.0</td><td>0.0</td><td>2.84482e-12</td><td>3.09832e-13</td><td>3.09832e-13</td><td>57417.0</td><td>57417.0</td><td>nan</td><td>UVOT</td></tr>\n",
       "<tr><td>1.345e+15</td><td>0.0</td><td>0.0</td><td>2.74284e-12</td><td>2.98444e-13</td><td>2.98444e-13</td><td>57417.0</td><td>57417.0</td><td>nan</td><td>UVOT</td></tr>\n",
       "<tr><td>1.475e+15</td><td>0.0</td><td>0.0</td><td>2.40491e-12</td><td>1.60978e-13</td><td>1.60978e-13</td><td>57417.0</td><td>57417.0</td><td>nan</td><td>UVOT</td></tr>\n",
       "<tr><td>2.08e+17</td><td>1.93e+16</td><td>1.93e+16</td><td>3.5e-12</td><td>1.89e-13</td><td>1.89e-13</td><td>57417.0</td><td>57417.0</td><td>nan</td><td>XRT</td></tr>\n",
       "<tr><td>2.45e+17</td><td>1.81e+16</td><td>1.81e+16</td><td>3.56e-12</td><td>2.1e-13</td><td>2.1e-13</td><td>57417.0</td><td>57417.0</td><td>nan</td><td>XRT</td></tr>\n",
       "<tr><td>2.82e+17</td><td>1.81e+16</td><td>1.81e+16</td><td>3.75e-12</td><td>2.4e-13</td><td>2.4e-13</td><td>57417.0</td><td>57417.0</td><td>nan</td><td>XRT</td></tr>\n",
       "<tr><td>...</td><td>...</td><td>...</td><td>...</td><td>...</td><td>...</td><td>...</td><td>...</td><td>...</td><td>...</td></tr>\n",
       "<tr><td>2.63e+18</td><td>1.06e+17</td><td>1.06e+17</td><td>5.83e-12</td><td>4.63e-13</td><td>4.63e-13</td><td>57417.0</td><td>57417.0</td><td>nan</td><td>NuSTAR</td></tr>\n",
       "<tr><td>2.91e+18</td><td>1.74e+17</td><td>1.74e+17</td><td>5.39e-12</td><td>4.17e-13</td><td>4.17e-13</td><td>57417.0</td><td>57417.0</td><td>nan</td><td>NuSTAR</td></tr>\n",
       "<tr><td>3.31e+18</td><td>2.22e+17</td><td>2.22e+17</td><td>5.31e-12</td><td>4.35e-13</td><td>4.35e-13</td><td>57417.0</td><td>57417.0</td><td>nan</td><td>NuSTAR</td></tr>\n",
       "<tr><td>4.9368e+23</td><td>2.5168e+23</td><td>5.13474e+23</td><td>9.94e-13</td><td>0.0</td><td>0.0</td><td>57388.0</td><td>58118.0</td><td>nan</td><td>Fermi-LAT; UL</td></tr>\n",
       "<tr><td>2.05458e+24</td><td>1.04743e+24</td><td>2.13698e+24</td><td>1.13e-12</td><td>4.18176e-13</td><td>4.18176e-13</td><td>57388.0</td><td>58118.0</td><td>nan</td><td>Fermi-LAT</td></tr>\n",
       "<tr><td>8.55083e+24</td><td>4.35927e+24</td><td>8.89358e+24</td><td>2.85e-12</td><td>0.0</td><td>0.0</td><td>57388.0</td><td>58118.0</td><td>nan</td><td>Fermi-LAT; UL</td></tr>\n",
       "<tr><td>3.55873e+25</td><td>1.81429e+25</td><td>3.70127e+25</td><td>9.91e-12</td><td>0.0</td><td>0.0</td><td>57388.0</td><td>58118.0</td><td>nan</td><td>Fermi-LAT; UL</td></tr>\n",
       "<tr><td>1.45e+26</td><td>0.0</td><td>0.0</td><td>6.79e-13</td><td>2.89e-13</td><td>2.89e-13</td><td>57370.0</td><td>58042.0</td><td>102960.0</td><td>MAGIC</td></tr>\n",
       "<tr><td>3.63e+26</td><td>0.0</td><td>0.0</td><td>9.27e-13</td><td>3.46e-13</td><td>3.46e-13</td><td>57370.0</td><td>58042.0</td><td>102960.0</td><td>MAGIC</td></tr>\n",
       "<tr><td>9.13e+26</td><td>0.0</td><td>0.0</td><td>1.28e-12</td><td>4.92e-13</td><td>4.92e-13</td><td>57370.0</td><td>58042.0</td><td>102960.0</td><td>MAGIC</td></tr>\n",
       "</table>"
      ],
      "text/plain": [
       "<Table length=47>\n",
       "    freq      freq_elo    freq_eup  ...  tstop   texpo      comments  \n",
       "   1 / s       1 / s       1 / s    ...   mjd      s         latex    \n",
       "  float32     float32     float32   ... float32 float32      str13    \n",
       "----------- ----------- ----------- ... ------- -------- -------------\n",
       "   5.55e+14         0.0         0.0 ... 57417.0      nan          UVOT\n",
       "  6.925e+14         0.0         0.0 ... 57417.0      nan          UVOT\n",
       "  8.563e+14         0.0         0.0 ... 57417.0      nan          UVOT\n",
       "  1.157e+15         0.0         0.0 ... 57417.0      nan          UVOT\n",
       "  1.345e+15         0.0         0.0 ... 57417.0      nan          UVOT\n",
       "  1.475e+15         0.0         0.0 ... 57417.0      nan          UVOT\n",
       "   2.08e+17    1.93e+16    1.93e+16 ... 57417.0      nan           XRT\n",
       "   2.45e+17    1.81e+16    1.81e+16 ... 57417.0      nan           XRT\n",
       "   2.82e+17    1.81e+16    1.81e+16 ... 57417.0      nan           XRT\n",
       "        ...         ...         ... ...     ...      ...           ...\n",
       "   2.63e+18    1.06e+17    1.06e+17 ... 57417.0      nan        NuSTAR\n",
       "   2.91e+18    1.74e+17    1.74e+17 ... 57417.0      nan        NuSTAR\n",
       "   3.31e+18    2.22e+17    2.22e+17 ... 57417.0      nan        NuSTAR\n",
       " 4.9368e+23  2.5168e+23 5.13474e+23 ... 58118.0      nan Fermi-LAT; UL\n",
       "2.05458e+24 1.04743e+24 2.13698e+24 ... 58118.0      nan     Fermi-LAT\n",
       "8.55083e+24 4.35927e+24 8.89358e+24 ... 58118.0      nan Fermi-LAT; UL\n",
       "3.55873e+25 1.81429e+25 3.70127e+25 ... 58118.0      nan Fermi-LAT; UL\n",
       "   1.45e+26         0.0         0.0 ... 58042.0 102960.0         MAGIC\n",
       "   3.63e+26         0.0         0.0 ... 58042.0 102960.0         MAGIC\n",
       "   9.13e+26         0.0         0.0 ... 58042.0 102960.0         MAGIC"
      ]
     },
     "execution_count": 12,
     "metadata": {},
     "output_type": "execute_result"
    }
   ],
   "source": [
    "ecsvdata=Table.read('19e/magic_19e_sed_fig3_mwl_target01.ecsv', format='ascii.ecsv')\n",
    "ecsvdata2=Table.read('19e/magic_19e_sed_fig3_nofit_target01.ecsv', format='ascii.ecsv')\n",
    "ecsvdata"
   ]
  },
  {
   "cell_type": "code",
   "execution_count": 13,
   "metadata": {},
   "outputs": [
    {
     "data": {
      "text/plain": [
       "'TXS 0210+515'"
      ]
     },
     "execution_count": 13,
     "metadata": {},
     "output_type": "execute_result"
    }
   ],
   "source": [
    "target = ecsvdata.meta['Source']\n",
    "target"
   ]
  },
  {
   "cell_type": "code",
   "execution_count": 14,
   "metadata": {},
   "outputs": [
    {
     "data": {
      "image/png": "[encoded data removed]",
      "text/plain": [
       "<matplotlib.figure.Figure at 0x112b37208>"
      ]
     },
     "metadata": {},
     "output_type": "display_data"
    }
   ],
   "source": [
    "y=ecsvdata['nufnu'].data\n",
    "x=ecsvdata['freq'].data\n",
    "\n",
    "x_wlo = ecsvdata['freq_elo'].data\n",
    "x_wup = ecsvdata['freq_eup'].data\n",
    "x_asym_error = [x_wlo, x_wup]\n",
    "\n",
    "y_elo = ecsvdata['nufnu_elo'].data\n",
    "y_eup = ecsvdata['nufnu_eup'].data\n",
    "y_asym_error = [y_elo, y_eup]\n",
    "\n",
    "plt.errorbar(x,y,xerr=x_asym_error,yerr=y_asym_error,marker='o',linewidth=0, elinewidth=0.5, label='SED MWL '+target)\n",
    "plt.xlabel('Hz')\n",
    "plt.ylabel('erg / (cm^2 s)')\n",
    "plt.xlim(1e9,1e34)\n",
    "plt.loglog()\n",
    "plt.grid()\n",
    "plt.legend(loc='upper right')\n",
    "plt.show()"
   ]
  },
  {
   "cell_type": "code",
   "execution_count": 29,
   "metadata": {},
   "outputs": [
    {
     "data": {
      "image/png": "[encoded data removed]",
      "text/plain": [
       "<matplotlib.figure.Figure at 0x10fccb1d0>"
      ]
     },
     "metadata": {},
     "output_type": "display_data"
    }
   ],
   "source": [
    "y=ecsvdata['nufnu'].data\n",
    "x=ecsvdata['freq'].data\n",
    "\n",
    "x_wlo = ecsvdata['freq_elo'].data\n",
    "x_wup = ecsvdata['freq_eup'].data\n",
    "x_asym_error = [x_wlo, x_wup]\n",
    "\n",
    "y_elo = ecsvdata['nufnu_elo'].data\n",
    "y_eup = ecsvdata['nufnu_eup'].data\n",
    "y_asym_error = [y_elo, y_eup]\n",
    "\n",
    "y2=ecsvdata2['nufnu'].data\n",
    "x2=ecsvdata2['freq'].data\n",
    "\n",
    "x2_wlo = ecsvdata2['freq_elo'].data\n",
    "x2_wup = ecsvdata2['freq_eup'].data\n",
    "x2_asym_error = [x2_wlo, x2_wup]\n",
    "\n",
    "y2_elo = ecsvdata2['nufnu_elo'].data\n",
    "y2_eup = ecsvdata2['nufnu_eup'].data\n",
    "y2_asym_error = [y2_elo, y2_eup]\n",
    "\n",
    "plt.errorbar(x2,y2,xerr=x2_asym_error,yerr=y2_asym_error,marker='s',color='gray', alpha=0.3, linewidth=0, elinewidth=0.5, label='Not used in fit ')\n",
    "plt.errorbar(x,y,xerr=x_asym_error,yerr=y_asym_error,marker='o',color='blue',linewidth=0, elinewidth=0.5, label='SED MWL '+target)\n",
    "plt.xlabel('Hz')\n",
    "plt.ylabel('erg / (cm^2 s)')\n",
    "plt.xlim(1e9,1e29)\n",
    "plt.ylim(1e-15,1e-10)\n",
    "plt.loglog()\n",
    "plt.grid()\n",
    "plt.legend(loc='upper right')\n",
    "plt.show()"
   ]
  },
  {
   "cell_type": "code",
   "execution_count": null,
   "metadata": {
    "collapsed": true
   },
   "outputs": [],
   "source": []
  }
 ],
 "metadata": {
  "kernelspec": {
   "display_name": "Python 3",
   "language": "python",
   "name": "python3"
  },
  "language_info": {
   "codemirror_mode": {
    "name": "ipython",
    "version": 3
   },
   "file_extension": ".py",
   "mimetype": "text/x-python",
   "name": "python",
   "nbconvert_exporter": "python",
   "pygments_lexer": "ipython3",
   "version": "3.6.3"
  }
 },
 "nbformat": 4,
 "nbformat_minor": 2
}

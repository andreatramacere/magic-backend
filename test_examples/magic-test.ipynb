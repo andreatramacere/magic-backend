{
 "cells": [
  {
   "cell_type": "code",
   "execution_count": 1,
   "metadata": {},
   "outputs": [],
   "source": [
    "from astropy.table import Table\n",
    "import json\n",
    "import  base64\n",
    "import pickle\n",
    "import requests\n",
    "from astropy.io import ascii\n",
    "from collections import OrderedDict\n",
    "import sys\n",
    "import inspect\n",
    "from magic_data_server.client_api import MagicClientAPI"
   ]
  },
  {
   "cell_type": "code",
   "execution_count": 2,
   "metadata": {},
   "outputs": [],
   "source": [
    "c=MagicClientAPI(port=5001)"
   ]
  },
  {
   "cell_type": "code",
   "execution_count": 3,
   "metadata": {},
   "outputs": [
    {
     "name": "stdout",
     "output_type": "stream",
     "text": [
      "request http://0.0.0.0:5001/api/v1.0/magic/catalog None\n",
      "{'catalog': {'File_info': 'Fdate = 20190819 Fvers = 1 Fgen = Michele Doro, michele.doro@unipd.it Fmail = magic_sapo@mpp.mpg.de Flink = XXXX', 'Paper info': {'Pref': 'Astrophysical Journal Supplement XXX', 'Pdoi': 'https:// doi.org/XXX', 'Parxiv': 'http://arxiv.org/abs/arXiv:XXX', 'Pcoll': 'magic', 'Pcauthor': 'Elisa Prandini, Cornelia Arcaro, Vandad Fallah Ramazani', 'Pads': 'XX', 'Pinspire': 'XXX'}, 'Targets in file': {'Tpname01': 'TXS0210+515', 'Taname01': 'BZBJ0214+5144; 1RXSJ021417.8+514457; 87GB02109+5130; GB6J0214+5145; 5BZGJ0214+5144; GB6B0210+5131; 2WHSPJ021417.8+514451; 2FHLJ0214.9+5149', 'Tpname02': 'TXS0637-128', 'Taname02': None, 'Tpname03': 'BZBJ0809+3455', 'Taname03': None, 'Tpname04': 'RBS0723', 'Taname04': None, 'Tpname05': '1ES0927+500', 'Taname05': None, 'Tpname06': 'RBS0921', 'Taname06': None, 'Tpname07': '1ES1426+428', 'Taname07': None, 'Tpname08': '1ES2037+521', 'Taname09': None, 'Tpname09': 'RGBJ2042+244', 'Tpname10': 'RGBJ2323+147', 'Taname10': None, 'Tpname11': '1ES0229+200', 'Taname11': None}, 'File list MAGIC': ['magic_19e_sed_fig1_target_all.ecsv', 'magic_19e_sed_fig1_target01.ecsv', 'magic_19e_sed_fig1_target04.ecsv', 'magic_19e_sed_fig1_target07.ecsv', 'magic_19e_sed_fig1_target08.ecsv', 'magic_19e_sed_fig1_target09.ecsv'], 'File list MWL': ['magic_19e_lc1_fig2_target_all.ecsv', 'magic_19e_lc1_fig2_target01.ecsv', 'magic_19e_lc1_fig2_target02.ecsv', 'magic_19e_lc1_fig2_target03.ecsv', 'magic_19e_lc1_fig2_target04.ecsv', 'magic_19e_lc1_fig2_target05.ecsv', 'magic_19e_lc1_fig2_target06.ecsv', 'magic_19e_lc1_fig2_target07.ecsv', 'magic_19e_lc1_fig2_target08.ecsv', 'magic_19e_lc1_fig2_target09.ecsv', 'magic_19e_lc1_fig2_target010.ecsv', 'magic_19e_lc1_fig2_target011.ecsv', 'magic_19e_sed_fig3_mwl_target_all.ecsv', 'magic_19e_sed_fig3_mwl_target11.ecsv', 'magic_19e_sed_fig3_mwl_target07.ecsv', 'magic_19e_sed_fig3_mwl_target04.ecsv', 'magic_19e_sed_fig3_mwl_target08.ecsv', 'magic_19e_sed_fig3_mwl_target09.ecsv', 'magic_19e_sed_fig3_mwl_target01.ecsv', 'magic_19e_sed_fig3_nofit_target_all.ecsv', 'magic_19e_sed_fig3_nofit_target11.ecsv', 'magic_19e_sed_fig3_nofit_target07.ecsv', 'magic_19e_sed_fig3_nofit_target04.ecsv', 'magic_19e_sed_fig3_nofit_target08.ecsv', 'magic_19e_sed_fig3_nofit_target09.ecsv', 'magic_19e_sed_fig3_nofit_target01.ecsv', 'magic_19e_sed_fig4_mwl_target_all.ecsv', 'magic_19e_sed_fig4_mwl_target05.ecsv', 'magic_19e_sed_fig4_mwl_target03.ecsv', 'magic_19e_sed_fig4_mwl_target10.ecsv', 'magic_19e_sed_fig4_mwl_target02.ecsv', 'magic_19e_sed_fig4_nofit_target_all.ecsv', 'magic_19e_sed_fig4_nofit_target05.ecsv', 'magic_19e_sed_fig4_nofit_target03.ecsv', 'magic_19e_sed_fig4_nofit_target10.ecsv', 'magic_19e_sed_fig4_nofit_target02.ecsv'], 'File on demands (available on request to Fmail)': ['magic_19e_sed1_fig1_target01_eblcorrected.ecsv', 'magic_19e_sed1_fig1_target04_eblcorrected.ecsv', 'magic_19e_sed1_fig1_target07_eblcorrected.ecsv', 'magic_19e_sed1_fig1_target08_eblcorrected.ecsv', 'magic_19e_sed1_fig1_target09_eblcorrected.ecsv', 'magic_19e_sed_fig3_model_target_all.ecsv', 'magic_19e_sed_fig3_model_target11.ecsv', 'magic_19e_sed_fig3_model_target07.ecsv', 'magic_19e_sed_fig3_model_target04.ecsv', 'magic_19e_sed_fig3_model_target08.ecsv', 'magic_19e_sed_fig3_model_target09.ecsv', 'magic_19e_sed_fig3_model_target01.ecsv', 'magic_19e_sed_fig4_model_target_all.ecsv', 'magic_19e_sed_fig4_model_target05.ecsv', 'magic_19e_sed_fig4_model_target03.ecsv', 'magic_19e_sed_fig4_model_target10.ecsv', 'magic_19e_sed_fig4_model_target02.ecsv'], 'Comments': None}}\n"
     ]
    },
    {
     "data": {
      "text/plain": [
       "{'catalog': {'File_info': 'Fdate = 20190819 Fvers = 1 Fgen = Michele Doro, michele.doro@unipd.it Fmail = magic_sapo@mpp.mpg.de Flink = XXXX',\n",
       "  'Paper info': {'Pref': 'Astrophysical Journal Supplement XXX',\n",
       "   'Pdoi': 'https:// doi.org/XXX',\n",
       "   'Parxiv': 'http://arxiv.org/abs/arXiv:XXX',\n",
       "   'Pcoll': 'magic',\n",
       "   'Pcauthor': 'Elisa Prandini, Cornelia Arcaro, Vandad Fallah Ramazani',\n",
       "   'Pads': 'XX',\n",
       "   'Pinspire': 'XXX'},\n",
       "  'Targets in file': {'Tpname01': 'TXS0210+515',\n",
       "   'Taname01': 'BZBJ0214+5144; 1RXSJ021417.8+514457; 87GB02109+5130; GB6J0214+5145; 5BZGJ0214+5144; GB6B0210+5131; 2WHSPJ021417.8+514451; 2FHLJ0214.9+5149',\n",
       "   'Tpname02': 'TXS0637-128',\n",
       "   'Taname02': None,\n",
       "   'Tpname03': 'BZBJ0809+3455',\n",
       "   'Taname03': None,\n",
       "   'Tpname04': 'RBS0723',\n",
       "   'Taname04': None,\n",
       "   'Tpname05': '1ES0927+500',\n",
       "   'Taname05': None,\n",
       "   'Tpname06': 'RBS0921',\n",
       "   'Taname06': None,\n",
       "   'Tpname07': '1ES1426+428',\n",
       "   'Taname07': None,\n",
       "   'Tpname08': '1ES2037+521',\n",
       "   'Taname09': None,\n",
       "   'Tpname09': 'RGBJ2042+244',\n",
       "   'Tpname10': 'RGBJ2323+147',\n",
       "   'Taname10': None,\n",
       "   'Tpname11': '1ES0229+200',\n",
       "   'Taname11': None},\n",
       "  'File list MAGIC': ['magic_19e_sed_fig1_target_all.ecsv',\n",
       "   'magic_19e_sed_fig1_target01.ecsv',\n",
       "   'magic_19e_sed_fig1_target04.ecsv',\n",
       "   'magic_19e_sed_fig1_target07.ecsv',\n",
       "   'magic_19e_sed_fig1_target08.ecsv',\n",
       "   'magic_19e_sed_fig1_target09.ecsv'],\n",
       "  'File list MWL': ['magic_19e_lc1_fig2_target_all.ecsv',\n",
       "   'magic_19e_lc1_fig2_target01.ecsv',\n",
       "   'magic_19e_lc1_fig2_target02.ecsv',\n",
       "   'magic_19e_lc1_fig2_target03.ecsv',\n",
       "   'magic_19e_lc1_fig2_target04.ecsv',\n",
       "   'magic_19e_lc1_fig2_target05.ecsv',\n",
       "   'magic_19e_lc1_fig2_target06.ecsv',\n",
       "   'magic_19e_lc1_fig2_target07.ecsv',\n",
       "   'magic_19e_lc1_fig2_target08.ecsv',\n",
       "   'magic_19e_lc1_fig2_target09.ecsv',\n",
       "   'magic_19e_lc1_fig2_target010.ecsv',\n",
       "   'magic_19e_lc1_fig2_target011.ecsv',\n",
       "   'magic_19e_sed_fig3_mwl_target_all.ecsv',\n",
       "   'magic_19e_sed_fig3_mwl_target11.ecsv',\n",
       "   'magic_19e_sed_fig3_mwl_target07.ecsv',\n",
       "   'magic_19e_sed_fig3_mwl_target04.ecsv',\n",
       "   'magic_19e_sed_fig3_mwl_target08.ecsv',\n",
       "   'magic_19e_sed_fig3_mwl_target09.ecsv',\n",
       "   'magic_19e_sed_fig3_mwl_target01.ecsv',\n",
       "   'magic_19e_sed_fig3_nofit_target_all.ecsv',\n",
       "   'magic_19e_sed_fig3_nofit_target11.ecsv',\n",
       "   'magic_19e_sed_fig3_nofit_target07.ecsv',\n",
       "   'magic_19e_sed_fig3_nofit_target04.ecsv',\n",
       "   'magic_19e_sed_fig3_nofit_target08.ecsv',\n",
       "   'magic_19e_sed_fig3_nofit_target09.ecsv',\n",
       "   'magic_19e_sed_fig3_nofit_target01.ecsv',\n",
       "   'magic_19e_sed_fig4_mwl_target_all.ecsv',\n",
       "   'magic_19e_sed_fig4_mwl_target05.ecsv',\n",
       "   'magic_19e_sed_fig4_mwl_target03.ecsv',\n",
       "   'magic_19e_sed_fig4_mwl_target10.ecsv',\n",
       "   'magic_19e_sed_fig4_mwl_target02.ecsv',\n",
       "   'magic_19e_sed_fig4_nofit_target_all.ecsv',\n",
       "   'magic_19e_sed_fig4_nofit_target05.ecsv',\n",
       "   'magic_19e_sed_fig4_nofit_target03.ecsv',\n",
       "   'magic_19e_sed_fig4_nofit_target10.ecsv',\n",
       "   'magic_19e_sed_fig4_nofit_target02.ecsv'],\n",
       "  'File on demands (available on request to Fmail)': ['magic_19e_sed1_fig1_target01_eblcorrected.ecsv',\n",
       "   'magic_19e_sed1_fig1_target04_eblcorrected.ecsv',\n",
       "   'magic_19e_sed1_fig1_target07_eblcorrected.ecsv',\n",
       "   'magic_19e_sed1_fig1_target08_eblcorrected.ecsv',\n",
       "   'magic_19e_sed1_fig1_target09_eblcorrected.ecsv',\n",
       "   'magic_19e_sed_fig3_model_target_all.ecsv',\n",
       "   'magic_19e_sed_fig3_model_target11.ecsv',\n",
       "   'magic_19e_sed_fig3_model_target07.ecsv',\n",
       "   'magic_19e_sed_fig3_model_target04.ecsv',\n",
       "   'magic_19e_sed_fig3_model_target08.ecsv',\n",
       "   'magic_19e_sed_fig3_model_target09.ecsv',\n",
       "   'magic_19e_sed_fig3_model_target01.ecsv',\n",
       "   'magic_19e_sed_fig4_model_target_all.ecsv',\n",
       "   'magic_19e_sed_fig4_model_target05.ecsv',\n",
       "   'magic_19e_sed_fig4_model_target03.ecsv',\n",
       "   'magic_19e_sed_fig4_model_target10.ecsv',\n",
       "   'magic_19e_sed_fig4_model_target02.ecsv'],\n",
       "  'Comments': None}}"
      ]
     },
     "execution_count": 3,
     "metadata": {},
     "output_type": "execute_result"
    }
   ],
   "source": [
    "c.get_catalog()"
   ]
  },
  {
   "cell_type": "code",
   "execution_count": 4,
   "metadata": {},
   "outputs": [
    {
     "name": "stdout",
     "output_type": "stream",
     "text": [
      "request http://0.0.0.0:5001/api/v1.0/magic/targets None\n",
      "{'Tpname01': 'TXS0210+515', 'Taname01': 'BZBJ0214+5144; 1RXSJ021417.8+514457; 87GB02109+5130; GB6J0214+5145; 5BZGJ0214+5144; GB6B0210+5131; 2WHSPJ021417.8+514451; 2FHLJ0214.9+5149', 'Tpname02': 'TXS0637-128', 'Taname02': None, 'Tpname03': 'BZBJ0809+3455', 'Taname03': None, 'Tpname04': 'RBS0723', 'Taname04': None, 'Tpname05': '1ES0927+500', 'Taname05': None, 'Tpname06': 'RBS0921', 'Taname06': None, 'Tpname07': '1ES1426+428', 'Taname07': None, 'Tpname08': '1ES2037+521', 'Taname09': None, 'Tpname09': 'RGBJ2042+244', 'Tpname10': 'RGBJ2323+147', 'Taname10': None, 'Tpname11': '1ES0229+200', 'Taname11': None}\n"
     ]
    },
    {
     "data": {
      "text/plain": [
       "{'Tpname01': 'TXS0210+515',\n",
       " 'Taname01': 'BZBJ0214+5144; 1RXSJ021417.8+514457; 87GB02109+5130; GB6J0214+5145; 5BZGJ0214+5144; GB6B0210+5131; 2WHSPJ021417.8+514451; 2FHLJ0214.9+5149',\n",
       " 'Tpname02': 'TXS0637-128',\n",
       " 'Taname02': None,\n",
       " 'Tpname03': 'BZBJ0809+3455',\n",
       " 'Taname03': None,\n",
       " 'Tpname04': 'RBS0723',\n",
       " 'Taname04': None,\n",
       " 'Tpname05': '1ES0927+500',\n",
       " 'Taname05': None,\n",
       " 'Tpname06': 'RBS0921',\n",
       " 'Taname06': None,\n",
       " 'Tpname07': '1ES1426+428',\n",
       " 'Taname07': None,\n",
       " 'Tpname08': '1ES2037+521',\n",
       " 'Taname09': None,\n",
       " 'Tpname09': 'RGBJ2042+244',\n",
       " 'Tpname10': 'RGBJ2323+147',\n",
       " 'Taname10': None,\n",
       " 'Tpname11': '1ES0229+200',\n",
       " 'Taname11': None}"
      ]
     },
     "execution_count": 4,
     "metadata": {},
     "output_type": "execute_result"
    }
   ],
   "source": [
    "c.get_targets()"
   ]
  },
  {
   "cell_type": "code",
   "execution_count": 5,
   "metadata": {},
   "outputs": [
    {
     "name": "stdout",
     "output_type": "stream",
     "text": [
      "request http://0.0.0.0:5001/api/v1.0/magic/search-by-name {'target_name': 'BZBJ0214+5144'}\n",
      "{'MWL_files': ['magic_19e_lc1_fig2_target01.ecsv', 'magic_19e_lc1_fig2_target010.ecsv', 'magic_19e_lc1_fig2_target011.ecsv', 'magic_19e_sed_fig3_mwl_target01.ecsv', 'magic_19e_sed_fig3_nofit_target01.ecsv'], 'MAGIC_files': ['magic_19e_sed_fig1_target01.ecsv']}\n"
     ]
    },
    {
     "data": {
      "text/plain": [
       "{'MWL_files': ['magic_19e_lc1_fig2_target01.ecsv',\n",
       "  'magic_19e_lc1_fig2_target010.ecsv',\n",
       "  'magic_19e_lc1_fig2_target011.ecsv',\n",
       "  'magic_19e_sed_fig3_mwl_target01.ecsv',\n",
       "  'magic_19e_sed_fig3_nofit_target01.ecsv'],\n",
       " 'MAGIC_files': ['magic_19e_sed_fig1_target01.ecsv']}"
      ]
     },
     "execution_count": 5,
     "metadata": {},
     "output_type": "execute_result"
    }
   ],
   "source": [
    "c.search_by_name('BZBJ0214+5144')"
   ]
  },
  {
   "cell_type": "code",
   "execution_count": 6,
   "metadata": {},
   "outputs": [
    {
     "name": "stdout",
     "output_type": "stream",
     "text": [
      "request http://0.0.0.0:5001/api/v1.0/magic/data {'file_name': 'magic_19e_sed_fig3_mwl_target01.ecsv'}\n",
      "{\"astropy_table\": {\"binary\": null, \"ascii\": \"# %ECSV 0.9\\n# ---\\n# datatype:\\n# - {name: freq, unit: 1 / s, datatype: float32, description: Frequency}\\n# - {name: freq_elo, unit: 1 / s, datatype: float32, description: \\\"Lower Stat error (1 sigma) on \\\\u2018freq\\\\u2018\\\"}\\n# - {name: freq_eup, unit: 1 / s, datatype: float32, description: \\\"Upper Stat error (1 sigma) on \\\\u2018freq\\\\u2018\\\"}\\n# - {name: nufnu, unit: erg / (cm2 s), datatype: float32, description: \\\"Differential photon flux at \\\\u2018freq'\\\"}\\n# - {name: nufnu_elo, unit: erg / (cm2 s), datatype: float32, description: \\\"Lower Stat error (1 sigma) on \\\\u2018nufnu\\\\u2018\\\"}\\n# - {name: nufnu_eup, unit: erg / (cm2 s), datatype: float32, description: \\\"Upper Stat error (1 sigma) on \\\\u2018nufnu\\\\u2018\\\"}\\n# - {name: tstart, unit: mjd, datatype: float32, description: MJD start}\\n# - {name: tstop, unit: mjd, datatype: float32, description: MJD stop}\\n# - {name: texpo, unit: s, datatype: float32, description: Exposure time}\\n# - {name: comments, unit: latex, datatype: string, description: Comments}\\n# meta: !!omap\\n# - {Filename: magic_19e_sed_fig3_mwl_target01.ecsv}\\n# - {Source: TXS 0210+515}\\n# schema: astropy-2.0\\nfreq freq_elo freq_eup nufnu nufnu_elo nufnu_eup tstart tstop texpo comments\\n555000000000000.0 0.0 0.0 1.3508825e-11 6.9276025e-13 6.9276025e-13 57417.0 57417.0 nan UVOT\\n692500000000000.0 0.0 0.0 8.5324916e-12 4.116553e-13 4.116553e-13 57417.0 57417.0 nan UVOT\\n856300000000000.0 0.0 0.0 4.6513414e-12 3.2853342e-13 3.2853342e-13 57417.0 57417.0 nan UVOT\\n1157000000000000.0 0.0 0.0 2.8448196e-12 3.0983183e-13 3.0983183e-13 57417.0 57417.0 nan UVOT\\n1345000000000000.0 0.0 0.0 2.7428424e-12 2.98444e-13 2.98444e-13 57417.0 57417.0 nan UVOT\\n1475000000000000.0 0.0 0.0 2.4049107e-12 1.6097778e-13 1.6097778e-13 57417.0 57417.0 nan UVOT\\n2.08e+17 1.93e+16 1.93e+16 3.5e-12 1.89e-13 1.89e-13 57417.0 57417.0 nan XRT\\n2.45e+17 1.81e+16 1.81e+16 3.56e-12 2.1e-13 2.1e-13 57417.0 57417.0 nan XRT\\n2.82e+17 1.81e+16 1.81e+16 3.75e-12 2.4e-13 2.4e-13 57417.0 57417.0 nan XRT\\n3.19e+17 1.93e+16 1.93e+16 3.9e-12 2.64e-13 2.64e-13 57417.0 57417.0 nan XRT\\n3.59e+17 2.06e+16 2.06e+16 4.72e-12 3.21e-13 3.21e-13 57417.0 57417.0 nan XRT\\n4.06e+17 2.66e+16 2.66e+16 4.75e-12 3.39e-13 3.39e-13 57417.0 57417.0 nan XRT\\n4.69e+17 3.63e+16 3.63e+16 4.75e-12 3.65e-13 3.65e-13 57417.0 57417.0 nan XRT\\n5.61e+17 5.56e+16 5.56e+16 5.08e-12 4.02e-13 4.02e-13 57417.0 57417.0 nan XRT\\n7.19e+17 1.03e+17 1.03e+17 5.13e-12 3.56e-13 3.56e-13 57417.0 57417.0 nan XRT\\n9.9e+17 1.68e+17 1.68e+17 5.21e-12 3.78e-13 3.78e-13 57417.0 57417.0 nan XRT\\n1.51e+18 3.55e+17 3.55e+17 5.41e-12 5.37e-13 5.37e-13 57417.0 57417.0 nan XRT\\n7.59e+17 3.39e+16 3.39e+16 5.53e-12 4.31e-13 4.31e-13 57417.0 57417.0 nan NuSTAR\\n8.22e+17 2.9e+16 2.9e+16 5.83e-12 4.61e-13 4.61e-13 57417.0 57417.0 nan NuSTAR\\n8.8e+17 2.9e+16 2.9e+16 5.4e-12 4.36e-13 4.36e-13 57417.0 57417.0 nan NuSTAR\\n9.43e+17 3.39e+16 3.39e+16 5.32e-12 4e-13 4e-13 57417.0 57417.0 nan NuSTAR\\n1.01e+18 3.39e+16 3.39e+16 5.65e-12 4.09e-13 4.09e-13 57417.0 57417.0 nan NuSTAR\\n1.07e+18 2.42e+16 2.42e+16 6.02e-12 4.96e-13 4.96e-13 57417.0 57417.0 nan NuSTAR\\n1.13e+18 3.87e+16 3.87e+16 5.45e-12 3.9e-13 3.9e-13 57417.0 57417.0 nan NuSTAR\\n1.2e+18 3.39e+16 3.39e+16 5.69e-12 4.34e-13 4.34e-13 57417.0 57417.0 nan NuSTAR\\n1.27e+18 3.39e+16 3.39e+16 6.12e-12 4.56e-13 4.56e-13 57417.0 57417.0 nan NuSTAR\\n1.34e+18 3.87e+16 3.87e+16 5.61e-12 4.2e-13 4.2e-13 57417.0 57417.0 nan NuSTAR\\n1.42e+18 3.87e+16 3.87e+16 6.22e-12 4.55e-13 4.55e-13 57417.0 57417.0 nan NuSTAR\\n1.51e+18 4.84e+16 4.84e+16 5.06e-12 3.82e-13 3.82e-13 57417.0 57417.0 nan NuSTAR\\n1.6e+18 3.87e+16 3.87e+16 5.68e-12 4.68e-13 4.68e-13 57417.0 57417.0 nan NuSTAR\\n1.68e+18 4.84e+16 4.84e+16 5.97e-12 4.48e-13 4.48e-13 57417.0 57417.0 nan NuSTAR\\n1.78e+18 4.84e+16 4.84e+16 5.91e-12 4.55e-13 4.55e-13 57417.0 57417.0 nan NuSTAR\\n1.88e+18 4.84e+16 4.84e+16 5.9e-12 4.8e-13 4.8e-13 57417.0 57417.0 nan NuSTAR\\n1.99e+18 6.77e+16 6.77e+16 5.27e-12 4.03e-13 4.03e-13 57417.0 57417.0 nan NuSTAR\\n2.12e+18 6.29e+16 6.29e+16 6.1e-12 4.64e-13 4.64e-13 57417.0 57417.0 nan NuSTAR\\n2.27e+18 8.22e+16 8.22e+16 5.61e-12 4.17e-13 4.17e-13 57417.0 57417.0 nan NuSTAR\\n2.44e+18 8.7e+16 8.7e+16 5.55e-12 4.45e-13 4.45e-13 57417.0 57417.0 nan NuSTAR\\n2.63e+18 1.06e+17 1.06e+17 5.83e-12 4.63e-13 4.63e-13 57417.0 57417.0 nan NuSTAR\\n2.91e+18 1.74e+17 1.74e+17 5.39e-12 4.17e-13 4.17e-13 57417.0 57417.0 nan NuSTAR\\n3.31e+18 2.22e+17 2.22e+17 5.31e-12 4.35e-13 4.35e-13 57417.0 57417.0 nan NuSTAR\\n4.9368e+23 2.5168e+23 5.13474e+23 9.94e-13 0.0 0.0 57388.0 58118.0 nan \\\"Fermi-LAT; UL\\\"\\n2.05458e+24 1.04743e+24 2.13698e+24 1.13e-12 4.18176e-13 4.18176e-13 57388.0 58118.0 nan Fermi-LAT\\n8.55083e+24 4.35927e+24 8.89358e+24 2.85e-12 0.0 0.0 57388.0 58118.0 nan \\\"Fermi-LAT; UL\\\"\\n3.55873e+25 1.81429e+25 3.70127e+25 9.91e-12 0.0 0.0 57388.0 58118.0 nan \\\"Fermi-LAT; UL\\\"\\n1.45e+26 0.0 0.0 6.79e-13 2.89e-13 2.89e-13 57370.0 58042.0 102960.0 MAGIC\\n3.63e+26 0.0 0.0 9.27e-13 3.46e-13 3.46e-13 57370.0 58042.0 102960.0 MAGIC\\n9.13e+26 0.0 0.0 1.28e-12 4.92e-13 4.92e-13 57370.0 58042.0 102960.0 MAGIC\\n\", \"name\": \"MAGIC TABLE\", \"meta_data\": \"{}\"}}\n"
     ]
    }
   ],
   "source": [
    "sed_table=c.get_table_data(file_name='magic_19e_sed_fig3_mwl_target01.ecsv')"
   ]
  },
  {
   "cell_type": "code",
   "execution_count": 7,
   "metadata": {},
   "outputs": [
    {
     "data": {
      "text/html": [
       "<i>Table length=47</i>\n",
       "<table id=\"table4915031232\" class=\"table-striped table-bordered table-condensed\">\n",
       "<thead><tr><th>freq</th><th>freq_elo</th><th>freq_eup</th><th>nufnu</th><th>nufnu_elo</th><th>nufnu_eup</th><th>tstart</th><th>tstop</th><th>texpo</th><th>comments</th></tr></thead>\n",
       "<thead><tr><th>1 / s</th><th>1 / s</th><th>1 / s</th><th>erg / (cm2 s)</th><th>erg / (cm2 s)</th><th>erg / (cm2 s)</th><th>mjd</th><th>mjd</th><th>s</th><th>latex</th></tr></thead>\n",
       "<thead><tr><th>float32</th><th>float32</th><th>float32</th><th>float32</th><th>float32</th><th>float32</th><th>float32</th><th>float32</th><th>float32</th><th>str13</th></tr></thead>\n",
       "<tr><td>555000000000000.0</td><td>0.0</td><td>0.0</td><td>1.3508825e-11</td><td>6.9276025e-13</td><td>6.9276025e-13</td><td>57417.0</td><td>57417.0</td><td>nan</td><td>UVOT</td></tr>\n",
       "<tr><td>692500000000000.0</td><td>0.0</td><td>0.0</td><td>8.5324916e-12</td><td>4.116553e-13</td><td>4.116553e-13</td><td>57417.0</td><td>57417.0</td><td>nan</td><td>UVOT</td></tr>\n",
       "<tr><td>856300000000000.0</td><td>0.0</td><td>0.0</td><td>4.6513414e-12</td><td>3.2853342e-13</td><td>3.2853342e-13</td><td>57417.0</td><td>57417.0</td><td>nan</td><td>UVOT</td></tr>\n",
       "<tr><td>1157000000000000.0</td><td>0.0</td><td>0.0</td><td>2.8448196e-12</td><td>3.0983183e-13</td><td>3.0983183e-13</td><td>57417.0</td><td>57417.0</td><td>nan</td><td>UVOT</td></tr>\n",
       "<tr><td>1345000000000000.0</td><td>0.0</td><td>0.0</td><td>2.7428424e-12</td><td>2.98444e-13</td><td>2.98444e-13</td><td>57417.0</td><td>57417.0</td><td>nan</td><td>UVOT</td></tr>\n",
       "<tr><td>1475000000000000.0</td><td>0.0</td><td>0.0</td><td>2.4049107e-12</td><td>1.6097778e-13</td><td>1.6097778e-13</td><td>57417.0</td><td>57417.0</td><td>nan</td><td>UVOT</td></tr>\n",
       "<tr><td>2.08e+17</td><td>1.93e+16</td><td>1.93e+16</td><td>3.5e-12</td><td>1.89e-13</td><td>1.89e-13</td><td>57417.0</td><td>57417.0</td><td>nan</td><td>XRT</td></tr>\n",
       "<tr><td>2.45e+17</td><td>1.81e+16</td><td>1.81e+16</td><td>3.56e-12</td><td>2.1e-13</td><td>2.1e-13</td><td>57417.0</td><td>57417.0</td><td>nan</td><td>XRT</td></tr>\n",
       "<tr><td>2.82e+17</td><td>1.81e+16</td><td>1.81e+16</td><td>3.75e-12</td><td>2.4e-13</td><td>2.4e-13</td><td>57417.0</td><td>57417.0</td><td>nan</td><td>XRT</td></tr>\n",
       "<tr><td>...</td><td>...</td><td>...</td><td>...</td><td>...</td><td>...</td><td>...</td><td>...</td><td>...</td><td>...</td></tr>\n",
       "<tr><td>2.63e+18</td><td>1.06e+17</td><td>1.06e+17</td><td>5.83e-12</td><td>4.63e-13</td><td>4.63e-13</td><td>57417.0</td><td>57417.0</td><td>nan</td><td>NuSTAR</td></tr>\n",
       "<tr><td>2.91e+18</td><td>1.74e+17</td><td>1.74e+17</td><td>5.39e-12</td><td>4.17e-13</td><td>4.17e-13</td><td>57417.0</td><td>57417.0</td><td>nan</td><td>NuSTAR</td></tr>\n",
       "<tr><td>3.31e+18</td><td>2.22e+17</td><td>2.22e+17</td><td>5.31e-12</td><td>4.35e-13</td><td>4.35e-13</td><td>57417.0</td><td>57417.0</td><td>nan</td><td>NuSTAR</td></tr>\n",
       "<tr><td>4.9368e+23</td><td>2.5168e+23</td><td>5.13474e+23</td><td>9.94e-13</td><td>0.0</td><td>0.0</td><td>57388.0</td><td>58118.0</td><td>nan</td><td>Fermi-LAT; UL</td></tr>\n",
       "<tr><td>2.05458e+24</td><td>1.04743e+24</td><td>2.13698e+24</td><td>1.13e-12</td><td>4.18176e-13</td><td>4.18176e-13</td><td>57388.0</td><td>58118.0</td><td>nan</td><td>Fermi-LAT</td></tr>\n",
       "<tr><td>8.55083e+24</td><td>4.35927e+24</td><td>8.89358e+24</td><td>2.85e-12</td><td>0.0</td><td>0.0</td><td>57388.0</td><td>58118.0</td><td>nan</td><td>Fermi-LAT; UL</td></tr>\n",
       "<tr><td>3.55873e+25</td><td>1.81429e+25</td><td>3.70127e+25</td><td>9.91e-12</td><td>0.0</td><td>0.0</td><td>57388.0</td><td>58118.0</td><td>nan</td><td>Fermi-LAT; UL</td></tr>\n",
       "<tr><td>1.45e+26</td><td>0.0</td><td>0.0</td><td>6.79e-13</td><td>2.89e-13</td><td>2.89e-13</td><td>57370.0</td><td>58042.0</td><td>102960.0</td><td>MAGIC</td></tr>\n",
       "<tr><td>3.63e+26</td><td>0.0</td><td>0.0</td><td>9.27e-13</td><td>3.46e-13</td><td>3.46e-13</td><td>57370.0</td><td>58042.0</td><td>102960.0</td><td>MAGIC</td></tr>\n",
       "<tr><td>9.13e+26</td><td>0.0</td><td>0.0</td><td>1.28e-12</td><td>4.92e-13</td><td>4.92e-13</td><td>57370.0</td><td>58042.0</td><td>102960.0</td><td>MAGIC</td></tr>\n",
       "</table>"
      ],
      "text/plain": [
       "<Table length=47>\n",
       "       freq          freq_elo    freq_eup  ...  tstop   texpo      comments  \n",
       "      1 / s           1 / s       1 / s    ...   mjd      s         latex    \n",
       "     float32         float32     float32   ... float32 float32      str13    \n",
       "------------------ ----------- ----------- ... ------- -------- -------------\n",
       " 555000000000000.0         0.0         0.0 ... 57417.0      nan          UVOT\n",
       " 692500000000000.0         0.0         0.0 ... 57417.0      nan          UVOT\n",
       " 856300000000000.0         0.0         0.0 ... 57417.0      nan          UVOT\n",
       "1157000000000000.0         0.0         0.0 ... 57417.0      nan          UVOT\n",
       "1345000000000000.0         0.0         0.0 ... 57417.0      nan          UVOT\n",
       "1475000000000000.0         0.0         0.0 ... 57417.0      nan          UVOT\n",
       "          2.08e+17    1.93e+16    1.93e+16 ... 57417.0      nan           XRT\n",
       "          2.45e+17    1.81e+16    1.81e+16 ... 57417.0      nan           XRT\n",
       "          2.82e+17    1.81e+16    1.81e+16 ... 57417.0      nan           XRT\n",
       "               ...         ...         ... ...     ...      ...           ...\n",
       "          2.63e+18    1.06e+17    1.06e+17 ... 57417.0      nan        NuSTAR\n",
       "          2.91e+18    1.74e+17    1.74e+17 ... 57417.0      nan        NuSTAR\n",
       "          3.31e+18    2.22e+17    2.22e+17 ... 57417.0      nan        NuSTAR\n",
       "        4.9368e+23  2.5168e+23 5.13474e+23 ... 58118.0      nan Fermi-LAT; UL\n",
       "       2.05458e+24 1.04743e+24 2.13698e+24 ... 58118.0      nan     Fermi-LAT\n",
       "       8.55083e+24 4.35927e+24 8.89358e+24 ... 58118.0      nan Fermi-LAT; UL\n",
       "       3.55873e+25 1.81429e+25 3.70127e+25 ... 58118.0      nan Fermi-LAT; UL\n",
       "          1.45e+26         0.0         0.0 ... 58042.0 102960.0         MAGIC\n",
       "          3.63e+26         0.0         0.0 ... 58042.0 102960.0         MAGIC\n",
       "          9.13e+26         0.0         0.0 ... 58042.0 102960.0         MAGIC"
      ]
     },
     "execution_count": 7,
     "metadata": {},
     "output_type": "execute_result"
    }
   ],
   "source": [
    "sed_table"
   ]
  },
  {
   "cell_type": "code",
   "execution_count": 8,
   "metadata": {},
   "outputs": [],
   "source": [
    "from magic_data_server.client_api import DataPlot"
   ]
  },
  {
   "cell_type": "code",
   "execution_count": 9,
   "metadata": {},
   "outputs": [
    {
     "data": {
      "image/png": "[encoded data removed]",
      "text/plain": [
       "<Figure size 576x432 with 1 Axes>"
      ]
     },
     "metadata": {
      "needs_background": "light"
     },
     "output_type": "display_data"
    }
   ],
   "source": [
    "sed_plot=DataPlot()\n",
    "sed_plot.add_data_plot(x=sed_table['freq'],y=sed_table['nufnu'],label='BZBJ0214+5144')\n"
   ]
  },
  {
   "cell_type": "code",
   "execution_count": 10,
   "metadata": {},
   "outputs": [
    {
     "name": "stdout",
     "output_type": "stream",
     "text": [
      "request http://0.0.0.0:5001/api/v1.0/magic/data {'file_name': 'magic_19e_lc1_fig2_target010.ecsv'}\n",
      "{'message': 'Internal Server Error'}\n"
     ]
    },
    {
     "ename": "TypeError",
     "evalue": "the JSON object must be str, bytes or bytearray, not dict",
     "output_type": "error",
     "traceback": [
      "\u001b[0;31m---------------------------------------------------------------------------\u001b[0m",
      "\u001b[0;31mTypeError\u001b[0m                                 Traceback (most recent call last)",
      "\u001b[0;32m<ipython-input-10-48e8dbfd6016>\u001b[0m in \u001b[0;36m<module>\u001b[0;34m\u001b[0m\n\u001b[0;32m----> 1\u001b[0;31m \u001b[0mlc_table\u001b[0m\u001b[0;34m=\u001b[0m\u001b[0mc\u001b[0m\u001b[0;34m.\u001b[0m\u001b[0mget_table_data\u001b[0m\u001b[0;34m(\u001b[0m\u001b[0mfile_name\u001b[0m\u001b[0;34m=\u001b[0m\u001b[0;34m'magic_19e_lc1_fig2_target010.ecsv'\u001b[0m\u001b[0;34m)\u001b[0m\u001b[0;34m\u001b[0m\u001b[0;34m\u001b[0m\u001b[0m\n\u001b[0m",
      "\u001b[0;32m~/anaconda3/lib/python3.7/site-packages/magic_data_server-1.0-py3.7.egg/magic_data_server/client_api.py\u001b[0m in \u001b[0;36mget_table_data\u001b[0;34m(self, file_name)\u001b[0m\n\u001b[1;32m    132\u001b[0m     \u001b[0;32mdef\u001b[0m \u001b[0mget_table_data\u001b[0m\u001b[0;34m(\u001b[0m\u001b[0mself\u001b[0m\u001b[0;34m,\u001b[0m\u001b[0mfile_name\u001b[0m\u001b[0;34m)\u001b[0m\u001b[0;34m:\u001b[0m\u001b[0;34m\u001b[0m\u001b[0;34m\u001b[0m\u001b[0m\n\u001b[1;32m    133\u001b[0m         \u001b[0mres\u001b[0m \u001b[0;34m=\u001b[0m \u001b[0mself\u001b[0m\u001b[0;34m.\u001b[0m\u001b[0mrequest\u001b[0m\u001b[0;34m(\u001b[0m\u001b[0mproduct\u001b[0m\u001b[0;34m=\u001b[0m\u001b[0;34m'data'\u001b[0m\u001b[0;34m,\u001b[0m\u001b[0mparams\u001b[0m \u001b[0;34m=\u001b[0m \u001b[0mdict\u001b[0m\u001b[0;34m(\u001b[0m\u001b[0mfile_name\u001b[0m\u001b[0;34m=\u001b[0m\u001b[0mfile_name\u001b[0m\u001b[0;34m)\u001b[0m\u001b[0;34m)\u001b[0m\u001b[0;34m\u001b[0m\u001b[0;34m\u001b[0m\u001b[0m\n\u001b[0;32m--> 134\u001b[0;31m         \u001b[0m_o_dict\u001b[0m \u001b[0;34m=\u001b[0m \u001b[0mjson\u001b[0m\u001b[0;34m.\u001b[0m\u001b[0mloads\u001b[0m\u001b[0;34m(\u001b[0m\u001b[0mres\u001b[0m\u001b[0;34m.\u001b[0m\u001b[0mjson\u001b[0m\u001b[0;34m(\u001b[0m\u001b[0;34m)\u001b[0m\u001b[0;34m)\u001b[0m\u001b[0;34m\u001b[0m\u001b[0;34m\u001b[0m\u001b[0m\n\u001b[0m\u001b[1;32m    135\u001b[0m         \u001b[0mt_rec\u001b[0m \u001b[0;34m=\u001b[0m \u001b[0mascii\u001b[0m\u001b[0;34m.\u001b[0m\u001b[0mread\u001b[0m\u001b[0;34m(\u001b[0m\u001b[0m_o_dict\u001b[0m\u001b[0;34m[\u001b[0m\u001b[0;34m'astropy_table'\u001b[0m\u001b[0;34m]\u001b[0m\u001b[0;34m[\u001b[0m\u001b[0;34m'ascii'\u001b[0m\u001b[0;34m]\u001b[0m\u001b[0;34m)\u001b[0m\u001b[0;34m\u001b[0m\u001b[0;34m\u001b[0m\u001b[0m\n\u001b[1;32m    136\u001b[0m         \u001b[0;32mreturn\u001b[0m \u001b[0mt_rec\u001b[0m\u001b[0;34m\u001b[0m\u001b[0;34m\u001b[0m\u001b[0m\n",
      "\u001b[0;32m~/anaconda3/lib/python3.7/json/__init__.py\u001b[0m in \u001b[0;36mloads\u001b[0;34m(s, encoding, cls, object_hook, parse_float, parse_int, parse_constant, object_pairs_hook, **kw)\u001b[0m\n\u001b[1;32m    339\u001b[0m     \u001b[0;32melse\u001b[0m\u001b[0;34m:\u001b[0m\u001b[0;34m\u001b[0m\u001b[0;34m\u001b[0m\u001b[0m\n\u001b[1;32m    340\u001b[0m         \u001b[0;32mif\u001b[0m \u001b[0;32mnot\u001b[0m \u001b[0misinstance\u001b[0m\u001b[0;34m(\u001b[0m\u001b[0ms\u001b[0m\u001b[0;34m,\u001b[0m \u001b[0;34m(\u001b[0m\u001b[0mbytes\u001b[0m\u001b[0;34m,\u001b[0m \u001b[0mbytearray\u001b[0m\u001b[0;34m)\u001b[0m\u001b[0;34m)\u001b[0m\u001b[0;34m:\u001b[0m\u001b[0;34m\u001b[0m\u001b[0;34m\u001b[0m\u001b[0m\n\u001b[0;32m--> 341\u001b[0;31m             raise TypeError(f'the JSON object must be str, bytes or bytearray, '\n\u001b[0m\u001b[1;32m    342\u001b[0m                             f'not {s.__class__.__name__}')\n\u001b[1;32m    343\u001b[0m         \u001b[0ms\u001b[0m \u001b[0;34m=\u001b[0m \u001b[0ms\u001b[0m\u001b[0;34m.\u001b[0m\u001b[0mdecode\u001b[0m\u001b[0;34m(\u001b[0m\u001b[0mdetect_encoding\u001b[0m\u001b[0;34m(\u001b[0m\u001b[0ms\u001b[0m\u001b[0;34m)\u001b[0m\u001b[0;34m,\u001b[0m \u001b[0;34m'surrogatepass'\u001b[0m\u001b[0;34m)\u001b[0m\u001b[0;34m\u001b[0m\u001b[0;34m\u001b[0m\u001b[0m\n",
      "\u001b[0;31mTypeError\u001b[0m: the JSON object must be str, bytes or bytearray, not dict"
     ]
    }
   ],
   "source": [
    "lc_table=c.get_table_data(file_name='magic_19e_lc1_fig2_target010.ecsv')"
   ]
  },
  {
   "cell_type": "code",
   "execution_count": 60,
   "metadata": {},
   "outputs": [],
   "source": [
    "\n",
    "from astropy import coordinates"
   ]
  },
  {
   "cell_type": "code",
   "execution_count": 61,
   "metadata": {},
   "outputs": [],
   "source": [
    "c=coordinates.SkyCoord.from_name('Mrk 421')"
   ]
  },
  {
   "cell_type": "code",
   "execution_count": 62,
   "metadata": {},
   "outputs": [
    {
     "data": {
      "text/plain": [
       "<SkyCoord (ICRS): (ra, dec) in deg\n",
       "    (166.113808, 38.20883287)>"
      ]
     },
     "execution_count": 62,
     "metadata": {},
     "output_type": "execute_result"
    }
   ],
   "source": [
    "c"
   ]
  },
  {
   "cell_type": "code",
   "execution_count": null,
   "metadata": {},
   "outputs": [],
   "source": []
  }
 ],
 "metadata": {
  "kernel_info": {
   "name": "python3"
  },
  "kernelspec": {
   "display_name": "Python 3",
   "language": "python",
   "name": "python3"
  },
  "language_info": {
   "codemirror_mode": {
    "name": "ipython",
    "version": 3
   },
   "file_extension": ".py",
   "mimetype": "text/x-python",
   "name": "python",
   "nbconvert_exporter": "python",
   "pygments_lexer": "ipython3",
   "version": "3.7.3"
  },
  "nteract": {
   "version": "0.15.0"
  },
  "toc": {
   "base_numbering": 1,
   "nav_menu": {},
   "number_sections": false,
   "sideBar": false,
   "skip_h1_title": false,
   "title_cell": "Table of Contents",
   "title_sidebar": "Contents",
   "toc_cell": false,
   "toc_position": {},
   "toc_section_display": false,
   "toc_window_display": false
  }
 },
 "nbformat": 4,
 "nbformat_minor": 4
}

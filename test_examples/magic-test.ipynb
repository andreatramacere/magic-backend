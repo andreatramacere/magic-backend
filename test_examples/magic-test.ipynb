{
 "cells": [
  {
   "cell_type": "code",
   "execution_count": 1,
   "metadata": {},
   "outputs": [],
   "source": [
    "import pprint as pp"
   ]
  },
  {
   "cell_type": "markdown",
   "metadata": {},
   "source": [
    "# BACKEND API"
   ]
  },
  {
   "cell_type": "markdown",
   "metadata": {},
   "source": [
    "## Client Setup"
   ]
  },
  {
   "cell_type": "code",
   "execution_count": 2,
   "metadata": {},
   "outputs": [],
   "source": [
    "from magic_data_server.client_api import MagicClientAPI\n",
    "client=MagicClientAPI(host='0.0.0.0',port=5001,protocol='http')"
   ]
  },
  {
   "cell_type": "code",
   "execution_count": 3,
   "metadata": {},
   "outputs": [
    {
     "name": "stdout",
     "output_type": "stream",
     "text": [
      "request http://0.0.0.0:5001/api/v1.0/magic/test-connection None\n",
      "<Response [200]>\n"
     ]
    },
    {
     "data": {
      "text/plain": [
       "['connection OK']"
      ]
     },
     "execution_count": 3,
     "metadata": {},
     "output_type": "execute_result"
    }
   ],
   "source": [
    "client.test_connection()"
   ]
  },
  {
   "cell_type": "code",
   "execution_count": 4,
   "metadata": {},
   "outputs": [
    {
     "name": "stdout",
     "output_type": "stream",
     "text": [
      "request http://0.0.0.0:5001/api/v1.0/magic/paper_ids None\n",
      "<Response [200]>\n"
     ]
    },
    {
     "data": {
      "text/plain": [
       "['2019c_M15', '2019e', 'data', 'old']"
      ]
     },
     "execution_count": 4,
     "metadata": {},
     "output_type": "execute_result"
    }
   ],
   "source": [
    "client.get_paper_ids()"
   ]
  },
  {
   "cell_type": "markdown",
   "metadata": {},
   "source": [
    "## Accessing products"
   ]
  },
  {
   "cell_type": "code",
   "execution_count": 5,
   "metadata": {},
   "outputs": [
    {
     "name": "stdout",
     "output_type": "stream",
     "text": [
      "request http://0.0.0.0:5001/api/v1.0/magic/search-by-name {'target_name': 'M15', 'paper_id': None, 'get_products': True}\n",
      "<Response [200]>\n",
      "p -> prod_id_0\n"
     ]
    }
   ],
   "source": [
    "files_dict=client.search_by_name('M15',get_products=True)"
   ]
  },
  {
   "cell_type": "code",
   "execution_count": 6,
   "metadata": {},
   "outputs": [
    {
     "data": {
      "text/plain": [
       "{'src_name': 'M15',\n",
       " 'src_aliases': ['4U2127+119; AXS_J212957+1209; SAXWFCJ2130.0+1209.7; 2127+119; CXOJ212958.1+121002; 1RXSJ212958.4+120959; 4U2129+12; 1WGAJ2129.9+1210; PSRB2127+11; 1ES2127+119; PBCJ2129.9+1210'],\n",
       " 'MWL_files': {},\n",
       " 'MAGIC_files': {'prod_id_0': {'src_name': 'M15',\n",
       "   'src_aliases': '4U2127+119; AXS_J212957+1209; SAXWFCJ2130.0+1209.7; 2127+119; CXOJ212958.1+121002; 1RXSJ212958.4+120959; 4U2129+12; 1WGAJ2129.9+1210; PSRB2127+11; 1ES2127+119; PBCJ2129.9+1210',\n",
       "   'file': 'magic_2019c_fig3_sed.ecsv',\n",
       "   'paper_id': '2019c_M15',\n",
       "   'astropy_table': <Table length=13>\n",
       "   srcname    en     en_wlo   en_wup  ...  texpo  instrument dataformat comments\n",
       "    latex    GeV      GeV      GeV    ...    h      latex      latex     latex  \n",
       "     str3  float32  float32  float32  ... float32    str5       str2      str1  \n",
       "   ------- -------- -------- -------- ... ------- ---------- ---------- --------\n",
       "       M15 59.44692 47.22056 74.83894 ...   173.0      MAGIC         ul       --\n",
       "       M15 94.21626 74.83894 118.6108 ...   173.0      MAGIC         ul       --\n",
       "       M15 149.3215 118.6108 187.9839 ...   173.0      MAGIC         ul       --\n",
       "       M15 236.6567 187.9839  297.932 ...   173.0      MAGIC         ul       --\n",
       "       M15 375.0726  297.932 472.1865 ...   173.0      MAGIC         ul       --\n",
       "       M15 594.4452 472.1865 748.3591 ...   173.0      MAGIC         ul       --\n",
       "       M15 942.1245 748.3591  1186.06 ...   173.0      MAGIC         ul       --\n",
       "       M15 1493.155  1186.06 1879.763 ...   173.0      MAGIC         ul       --\n",
       "       M15 2366.472 1879.763 2979.199 ...   173.0      MAGIC         ul       --\n",
       "       M15 3750.574 2979.199 4721.674 ...   173.0      MAGIC         ul       --\n",
       "       M15 5944.212 4721.674 7483.289 ...   173.0      MAGIC         ul       --\n",
       "       M15 9420.865 7483.289 11860.12 ...   173.0      MAGIC         ul       --\n",
       "       M15 14930.94 11860.12 18796.87 ...   173.0      MAGIC         ul       --}}}"
      ]
     },
     "execution_count": 6,
     "metadata": {},
     "output_type": "execute_result"
    }
   ],
   "source": [
    "files_dict"
   ]
  },
  {
   "cell_type": "code",
   "execution_count": 7,
   "metadata": {},
   "outputs": [
    {
     "data": {
      "text/plain": [
       "OrderedDict([('Filename', 'magic_2019c_fig3_sed.ecsv'),\n",
       "             ('Source', 'M15'),\n",
       "             ('Figure',\n",
       "              'Figure 3 in the paper. Broadband SED data. Only upper limits.'),\n",
       "             ('Title',\n",
       "              'Deep observations of the globular cluster M15 with the MAGIC telescopes'),\n",
       "             ('Comments', 'Only upper limits')])"
      ]
     },
     "execution_count": 7,
     "metadata": {},
     "output_type": "execute_result"
    }
   ],
   "source": [
    "files_dict['MAGIC_files']['prod_id_0']['astropy_table'].meta"
   ]
  },
  {
   "cell_type": "code",
   "execution_count": 8,
   "metadata": {},
   "outputs": [
    {
     "data": {
      "text/plain": [
       "dict_keys(['src_name', 'src_aliases', 'MWL_files', 'MAGIC_files'])"
      ]
     },
     "execution_count": 8,
     "metadata": {},
     "output_type": "execute_result"
    }
   ],
   "source": [
    "files_dict.keys()"
   ]
  },
  {
   "cell_type": "code",
   "execution_count": 9,
   "metadata": {},
   "outputs": [
    {
     "name": "stdout",
     "output_type": "stream",
     "text": [
      "request http://0.0.0.0:5001/api/v1.0/magic/paper_ids None\n",
      "<Response [200]>\n"
     ]
    }
   ],
   "source": [
    "p_ids=client.get_paper_ids()\n"
   ]
  },
  {
   "cell_type": "code",
   "execution_count": 10,
   "metadata": {},
   "outputs": [
    {
     "name": "stdout",
     "output_type": "stream",
     "text": [
      "['2019c_M15', '2019e', 'data', 'old']\n"
     ]
    }
   ],
   "source": [
    "print(p_ids)"
   ]
  },
  {
   "cell_type": "code",
   "execution_count": 11,
   "metadata": {},
   "outputs": [
    {
     "name": "stdout",
     "output_type": "stream",
     "text": [
      "request http://0.0.0.0:5001/api/v1.0/magic/catalog {'paper_id': '2019e'}\n",
      "<Response [200]>\n"
     ]
    }
   ],
   "source": [
    "catalog=client.get_catalog(paper_id='2019e')\n"
   ]
  },
  {
   "cell_type": "code",
   "execution_count": 12,
   "metadata": {},
   "outputs": [
    {
     "name": "stdout",
     "output_type": "stream",
     "text": [
      "{'File list MAGIC': ['magic_2019e_sed_fig1.ecsv'],\n",
      " 'File_info': 'Fdate = 20191125 Fvers = 1 Fgen = Elisa Prandini, '\n",
      "              'elisa.prandini@unipd.it Fmail = contact.magic@mpp.mpg.de Flink '\n",
      "              \"= <link_to_thisfile_repository> Fstatus = 'In completion, some \"\n",
      "              \"paper info to be updated after publication'\",\n",
      " 'Paper info': {'Pads': '2019arXiv191106680M',\n",
      "                'Parxiv': 'http://arxiv.org/abs/arXiv:1911.06680',\n",
      "                'Pcauthor': 'Elisa Prandini, Cornelia Arcaro, Vandad Fallah '\n",
      "                            'Ramazani',\n",
      "                'Pcoll': 'magic',\n",
      "                'Pdoi': 'https:// doi.org/XXX',\n",
      "                'Pfauthor': 'Acciari V.A., Ansoldi S., Antonelli L.A., Engels '\n",
      "                            'A.A., Asano K., Baack D., Babic A., Banerjee B., '\n",
      "                            'Barres de Almeida U., Barrio J.A., Becerra '\n",
      "                            'Gonzalez J., Bednarek W., Bellizzi L., Bernardini '\n",
      "                            'E., Berti A., Besenrieder J., Bhattacharyya W., '\n",
      "                            'Bigongiari C., Biland A., Blanch O., Bonnoli G., '\n",
      "                            'Bosnjak Z., Busetto G., Carosi R., Ceribella G., '\n",
      "                            'Cerruti M., Chai Y., Chilingaryan A., Cikota S., '\n",
      "                            'Colak S.M., Colin U., Colombo E., Contreras J.L., '\n",
      "                            \"Cortina J., Covino S., D'Elia V., Da Vela P., \"\n",
      "                            'Dazzi F., De Angelis A., De Lotto B., Delfino M., '\n",
      "                            'Delgado J., Depaoli D., Di Pierro F., Di Venere '\n",
      "                            'L., Do Souto Espineira E., Dominis Prester D., '\n",
      "                            'Donini A., Dorner D., Doro M., Elsaesser D., '\n",
      "                            'Fallah Ramazani V., Fattorini A., Ferrara G., '\n",
      "                            'Fidalgo D., Foffano L., Fonseca M.V., Font L., '\n",
      "                            'Fruck C., Fukami S., Garcia Lopez R.J., '\n",
      "                            'Garczarczyk M., Gasparyan S., Gaug M., Giglietto '\n",
      "                            'N., Giordano F., Godinovic N., Green D., Guberman '\n",
      "                            'D., Hadasch D., Hahn A., Herrera J., Hoang J., '\n",
      "                            'Hrupec D., Hutten M., Inada T., Inoue S., Ishio '\n",
      "                            'K., Iwamura Y., Jouvin L., Kerszberg D., Kubo H., '\n",
      "                            'Kushida J., Lamastra A., Lelas D., Leone F., '\n",
      "                            'Lindfors E., Lombardi S., Longo F., Lopez M., '\n",
      "                            'Lopez-Coto R., Lopez-Oramas A., Loporchio S., '\n",
      "                            'Machado de Oliveira Fraga B., Maggio C., Majumdar '\n",
      "                            'P., Makariev M., Mallamaci M., Maneva G., '\n",
      "                            'Manganaro M., Mannheim K., Maraschi L., Mariotti '\n",
      "                            'M., Martinez M., Mazin D., Micanovic S., Miceli '\n",
      "                            'D., Minev M., Miranda J.M., Mirzoyan R., Molina '\n",
      "                            'E., Moralejo A., Morcuende D., Moreno V., Moretti '\n",
      "                            'E., Munar-Adrover P., Neustroev V., Nigro C., '\n",
      "                            'Nilsson K., Ninci D., Nishijima K., Noda K., '\n",
      "                            'Nogues L., Nozaki S., Paiano S., Palatiello M., '\n",
      "                            'Paneque D., Paoletti R., Paredes J.M., Penil P., '\n",
      "                            'Peresano M., Persic M., Prada Moroni P.G., '\n",
      "                            'Prandini E., Puljak I., Rhode W., Ribo M., Rico '\n",
      "                            'J., Righi C., Rugliancich A., Saha L., Sahakyan '\n",
      "                            'N., Saito T., Sakurai S., Satalecka K., Schmidt '\n",
      "                            'K., Schweizer T., Sitarek J., Snidaric I., '\n",
      "                            'Sobczynska D., Somero A., Stamerra A., Strom D., '\n",
      "                            'Strzys M., Suda Y., Suric T., Takahashi M., '\n",
      "                            'Tavecchio F., Temnikov P., Terzic T., Teshima M., '\n",
      "                            'Torres-Alba N., Tosti L., Vagelli V., van '\n",
      "                            'Scherpenberg J., Vanzo G., Vazquez Acosta M., '\n",
      "                            'Vigorito C.F., Vitale V., Vovk I.,Will M., Zaric '\n",
      "                            \"D., Arcaro C., Carosi A., D'Ammando F., Tombesi \"\n",
      "                            'F., Lohfink A.',\n",
      "                'Pinspire': 'Acciari:2019jzj',\n",
      "                'Pref': 'Astrophysical Journal Supplement, in press.',\n",
      "                'Ptitle': 'New hard-TeV extreme blazars detected with the '\n",
      "                          'MAGIC telescopes'},\n",
      " 'Targets in file': {'Taname01': 'BZBJ0214+5144; 1RXSJ021417.8+514457; '\n",
      "                                 '87GB02109+5130; GB6J0214+5145; '\n",
      "                                 '5BZGJ0214+5144; GB6B0210+5131; '\n",
      "                                 '2WHSPJ021417.8+514451; 2FHLJ0214.9+5149',\n",
      "                     'Taname02': '3HSPJ064007.2-125315;  '\n",
      "                                 '2WHSPJ064007.0-125314; 1RXSJ064007.4-125316; '\n",
      "                                 '2FHLJ0639.9-1252;',\n",
      "                     'Taname03': 'BZBJ0809+3455; 2FHLJ0809.5+3458; 0806+350; '\n",
      "                                 '1WHSPJ080938.9+345537; '\n",
      "                                 'ROXAJ081002.5+502538.7; '\n",
      "                                 '3HSPJ080938.9+345537; GB6J0809+3455; '\n",
      "                                 'B20806+35; CRATESJ080937+345534; '\n",
      "                                 '5BZGJ0809+3455; GB6B0806+3504; '\n",
      "                                 '1FGL_J0809.4+3455; 2WHSPJ080938.8+345536; '\n",
      "                                 '1RXSJ080938.5+345544',\n",
      "                     'Taname04': 'BZBJ0847+1133; SHBLJ084712.9+113350; '\n",
      "                                 'SDSSJ084712.93+113350.2; 2FGLJ0847.2+1134; '\n",
      "                                 '1FGL_J0847.2+1134; 3HSPJ084712.9+113350; '\n",
      "                                 'RXSJ08472+1133; 1RXSJ084713.3+113349; '\n",
      "                                 '2WHSPJ084712.8+113350; 2FHLJ0847.2+1133; '\n",
      "                                 '1WHSPJ084712.9+113350; 5BZBJ0847+1133',\n",
      "                     'Taname05': 'BZBJ0930+4950; SHBLJ093037.5+495025; '\n",
      "                                 '1WHSPJ093037.5+495025; 1RXSJ093037.1+495028; '\n",
      "                                 '2WHSPJ093037.4+495025; '\n",
      "                                 'SDSSJ093037.57+495025.6; RXJ09306+4950; '\n",
      "                                 'ROXAJ093034.9+464408.4; 1ES0927+500; '\n",
      "                                 '3HSPJ093037.6+495026; 5BZBJ0930+4950',\n",
      "                     'Taname06': 'BZBJ1056+0252; 2WHSPJ105606.6+025213; '\n",
      "                                 'SDSSJ105606.61+025213.4; 5BZGJ1056+0252; '\n",
      "                                 'RXSJ10561+0252; 1WHSPJ105606.6+025213; '\n",
      "                                 '1RXSJ105607.0+025215; SHBLJ105606.6+025213; '\n",
      "                                 '3HSPJ105606.6+025214',\n",
      "                     'Taname07': 'BZBJ1428+4240; H1426+428; '\n",
      "                                 '2WHSPJ142832.5+424020; 2FGLJ1428.6+4240; '\n",
      "                                 'ROXAJ142832.6+424024.7; GB6B1426+4253; '\n",
      "                                 '5BZBJ1428+4240; 3HSPJ142832.6+424021; '\n",
      "                                 '2FHLJ1428.5+4239; 1RXSJ142832.6+424028; '\n",
      "                                 '1ES1426+428; 1WHSPJ142832.6+424021; '\n",
      "                                 '1H1430+423; 1WGAJ1428.5+4240; 1426+428; '\n",
      "                                 '1FGL_J1428.7+4239; SDSSJ142832.60+424021.0; '\n",
      "                                 'SHBLJ142832.6+424024; GB6J1428+4240',\n",
      "                     'Taname09': None,\n",
      "                     'Taname10': None,\n",
      "                     'Taname11': 'BZBJ0232+2017; 3HSPJ023248.6+201717; '\n",
      "                                 '1ES0229+200; 1WHSPJ023248.6+201717; '\n",
      "                                 'GB6B0229+2003; 2WHSPJ023248.5+201717; '\n",
      "                                 '1RXSJ023248.3+201722; GB6J0232+2017; '\n",
      "                                 '5BZGJ0232+2017',\n",
      "                     'Tpname01': 'TXS0210+515',\n",
      "                     'Tpname02': 'TXS0637-128',\n",
      "                     'Tpname03': 'BZBJ0809+3455',\n",
      "                     'Tpname04': 'RBS0723',\n",
      "                     'Tpname05': '1ES0927+500',\n",
      "                     'Tpname06': 'RBS0921',\n",
      "                     'Tpname07': '1ES1426+428',\n",
      "                     'Tpname08': '1ES2037+521',\n",
      "                     'Tpname09': 'RGBJ2042+244',\n",
      "                     'Tpname10': 'RGBJ2323+147',\n",
      "                     'Tpname11': '1ES0229+200'}}\n"
     ]
    }
   ],
   "source": [
    "pp.pprint(catalog[0])"
   ]
  },
  {
   "cell_type": "code",
   "execution_count": 13,
   "metadata": {},
   "outputs": [
    {
     "name": "stdout",
     "output_type": "stream",
     "text": [
      "request http://0.0.0.0:5001/api/v1.0/magic/targets {'paper_id': '2019c_M15'}\n",
      "<Response [200]>\n",
      "{'src_00': ['M15',\n",
      "            '4U2127+119',\n",
      "            ' AXS_J212957+1209',\n",
      "            ' SAXWFCJ2130.0+1209.7',\n",
      "            ' 2127+119',\n",
      "            ' CXOJ212958.1+121002',\n",
      "            ' 1RXSJ212958.4+120959',\n",
      "            ' 4U2129+12',\n",
      "            ' 1WGAJ2129.9+1210',\n",
      "            ' PSRB2127+11',\n",
      "            ' 1ES2127+119',\n",
      "            ' PBCJ2129.9+1210']}\n"
     ]
    }
   ],
   "source": [
    "targets_dict=client.get_targets(paper_id='2019c_M15')\n",
    "pp.pprint(targets_dict)"
   ]
  },
  {
   "cell_type": "code",
   "execution_count": 14,
   "metadata": {},
   "outputs": [
    {
     "data": {
      "text/plain": [
       "{'src_00': ['M15',\n",
       "  '4U2127+119',\n",
       "  ' AXS_J212957+1209',\n",
       "  ' SAXWFCJ2130.0+1209.7',\n",
       "  ' 2127+119',\n",
       "  ' CXOJ212958.1+121002',\n",
       "  ' 1RXSJ212958.4+120959',\n",
       "  ' 4U2129+12',\n",
       "  ' 1WGAJ2129.9+1210',\n",
       "  ' PSRB2127+11',\n",
       "  ' 1ES2127+119',\n",
       "  ' PBCJ2129.9+1210']}"
      ]
     },
     "execution_count": 14,
     "metadata": {},
     "output_type": "execute_result"
    }
   ],
   "source": [
    "targets_dict"
   ]
  },
  {
   "cell_type": "code",
   "execution_count": 15,
   "metadata": {},
   "outputs": [
    {
     "name": "stdout",
     "output_type": "stream",
     "text": [
      "request http://0.0.0.0:5001/api/v1.0/magic/search-by-name {'target_name': 'M15', 'paper_id': '2019c_M15', 'get_products': False}\n",
      "<Response [200]>\n"
     ]
    }
   ],
   "source": [
    " files_dict=client.search_by_name('M15',paper_id='2019c_M15')\n"
   ]
  },
  {
   "cell_type": "code",
   "execution_count": 16,
   "metadata": {},
   "outputs": [
    {
     "data": {
      "text/plain": [
       "{'src_name': 'M15',\n",
       " 'src_aliases': ['4U2127+119; AXS_J212957+1209; SAXWFCJ2130.0+1209.7; 2127+119; CXOJ212958.1+121002; 1RXSJ212958.4+120959; 4U2129+12; 1WGAJ2129.9+1210; PSRB2127+11; 1ES2127+119; PBCJ2129.9+1210'],\n",
       " 'MWL_files': {},\n",
       " 'MAGIC_files': {'prod_id_0': {'src_name': 'M15',\n",
       "   'src_aliases': '4U2127+119; AXS_J212957+1209; SAXWFCJ2130.0+1209.7; 2127+119; CXOJ212958.1+121002; 1RXSJ212958.4+120959; 4U2129+12; 1WGAJ2129.9+1210; PSRB2127+11; 1ES2127+119; PBCJ2129.9+1210',\n",
       "   'file': 'magic_2019c_fig3_sed.ecsv',\n",
       "   'paper_id': '2019c_M15',\n",
       "   'astropy_table': {'binary': None,\n",
       "    'ascii': '# %ECSV 0.9\\n# ---\\n# datatype:\\n# - {name: srcname, unit: latex, datatype: string, description: Source name}\\n# - {name: en, unit: GeV, datatype: float32, description: Energy}\\n# - {name: en_wlo, unit: GeV, datatype: float32, description: Energy bin width low}\\n# - {name: en_wup, unit: GeV, datatype: float32, description: Energy bin width up}\\n# - {name: nufnu, unit: erg / (cm2 s), datatype: float32, description: Differential photon flux at energy}\\n# - {name: nufnu_elo, unit: erg / (cm2 s), datatype: float32, description: Lower uncertainty in nufnu}\\n# - {name: nufnu_eup, unit: erg / (cm2 s), datatype: float32, description: Upper uncertainty in nufnu}\\n# - {name: tstart, unit: mjd, datatype: float32, description: MJD start}\\n# - {name: tstop, unit: mjd, datatype: float32, description: MJD stop}\\n# - {name: texpo, unit: h, datatype: float32, description: Observation time}\\n# - {name: instrument, unit: latex, datatype: string, description: Instrument}\\n# - {name: dataformat, unit: latex, datatype: string, description: Data Format}\\n# - {name: comments, unit: latex, datatype: string, description: Comments}\\n# meta: !!omap\\n# - {Filename: magic_2019c_fig3_sed.ecsv}\\n# - {Source: M15}\\n# - {Figure: Figure 3 in the paper. Broadband SED data. Only upper limits.}\\n# - {Title: Deep observations of the globular cluster M15 with the MAGIC telescopes}\\n# - {Comments: Only upper limits}\\n# schema: astropy-2.0\\nsrcname en en_wlo en_wup nufnu nufnu_elo nufnu_eup tstart tstop texpo instrument dataformat comments\\nM15 59.44692 47.22056 74.83894 2.8759e-11 nan nan 57174.0 57632.0 173.0 MAGIC ul \"\"\\nM15 94.21626 74.83894 118.6108 6.2414e-12 nan nan 57174.0 57632.0 173.0 MAGIC ul \"\"\\nM15 149.3215 118.6108 187.9839 1.3773e-12 nan nan 57174.0 57632.0 173.0 MAGIC ul \"\"\\nM15 236.6567 187.9839 297.932 4.8347e-13 nan nan 57174.0 57632.0 173.0 MAGIC ul \"\"\\nM15 375.0726 297.932 472.1865 6.1422e-13 nan nan 57174.0 57632.0 173.0 MAGIC ul \"\"\\nM15 594.4452 472.1865 748.3591 1.7449e-13 nan nan 57174.0 57632.0 173.0 MAGIC ul \"\"\\nM15 942.1245 748.3591 1186.06 1.6071e-13 nan nan 57174.0 57632.0 173.0 MAGIC ul \"\"\\nM15 1493.155 1186.06 1879.763 3.0143e-13 nan nan 57174.0 57632.0 173.0 MAGIC ul \"\"\\nM15 2366.472 1879.763 2979.199 2.7845e-13 nan nan 57174.0 57632.0 173.0 MAGIC ul \"\"\\nM15 3750.574 2979.199 4721.674 3.547e-13 nan nan 57174.0 57632.0 173.0 MAGIC ul \"\"\\nM15 5944.212 4721.674 7483.289 1.8031e-13 nan nan 57174.0 57632.0 173.0 MAGIC ul \"\"\\nM15 9420.865 7483.289 11860.12 2.1818e-13 nan nan 57174.0 57632.0 173.0 MAGIC ul \"\"\\nM15 14930.94 11860.12 18796.87 4.0687e-13 nan nan 57174.0 57632.0 173.0 MAGIC ul \"\"\\n',\n",
       "    'name': 'MAGIC TABLE',\n",
       "    'meta_data': '{\"Filename\": \"magic_2019c_fig3_sed.ecsv\", \"Source\": \"M15\", \"Figure\": \"Figure 3 in the paper. Broadband SED data. Only upper limits.\", \"Title\": \"Deep observations of the globular cluster M15 with the MAGIC telescopes\", \"Comments\": \"Only upper limits\"}'}}}}"
      ]
     },
     "execution_count": 16,
     "metadata": {},
     "output_type": "execute_result"
    }
   ],
   "source": [
    "files_dict"
   ]
  },
  {
   "cell_type": "code",
   "execution_count": 17,
   "metadata": {},
   "outputs": [
    {
     "name": "stdout",
     "output_type": "stream",
     "text": [
      "request http://0.0.0.0:5001/api/v1.0/magic/get-table {'file_name': 'magic_2019c_fig3_sed.ecsv', 'paper_id': '2019c_M15'}\n",
      "<Response [200]>\n"
     ]
    }
   ],
   "source": [
    "sed_table=client.get_table_data(file_name='magic_2019c_fig3_sed.ecsv',paper_id='2019c_M15')"
   ]
  },
  {
   "cell_type": "code",
   "execution_count": 18,
   "metadata": {},
   "outputs": [
    {
     "data": {
      "text/html": [
       "<i>Table length=13</i>\n",
       "<table id=\"table4903974736\" class=\"table-striped table-bordered table-condensed\">\n",
       "<thead><tr><th>srcname</th><th>en</th><th>en_wlo</th><th>en_wup</th><th>nufnu</th><th>nufnu_elo</th><th>nufnu_eup</th><th>tstart</th><th>tstop</th><th>texpo</th><th>instrument</th><th>dataformat</th><th>comments</th></tr></thead>\n",
       "<thead><tr><th>latex</th><th>GeV</th><th>GeV</th><th>GeV</th><th>erg / (cm2 s)</th><th>erg / (cm2 s)</th><th>erg / (cm2 s)</th><th>mjd</th><th>mjd</th><th>h</th><th>latex</th><th>latex</th><th>latex</th></tr></thead>\n",
       "<thead><tr><th>str3</th><th>float32</th><th>float32</th><th>float32</th><th>float32</th><th>float32</th><th>float32</th><th>float32</th><th>float32</th><th>float32</th><th>str5</th><th>str2</th><th>str1</th></tr></thead>\n",
       "<tr><td>M15</td><td>59.44692</td><td>47.22056</td><td>74.83894</td><td>2.8759e-11</td><td>nan</td><td>nan</td><td>57174.0</td><td>57632.0</td><td>173.0</td><td>MAGIC</td><td>ul</td><td>--</td></tr>\n",
       "<tr><td>M15</td><td>94.21626</td><td>74.83894</td><td>118.6108</td><td>6.2414e-12</td><td>nan</td><td>nan</td><td>57174.0</td><td>57632.0</td><td>173.0</td><td>MAGIC</td><td>ul</td><td>--</td></tr>\n",
       "<tr><td>M15</td><td>149.3215</td><td>118.6108</td><td>187.9839</td><td>1.3773e-12</td><td>nan</td><td>nan</td><td>57174.0</td><td>57632.0</td><td>173.0</td><td>MAGIC</td><td>ul</td><td>--</td></tr>\n",
       "<tr><td>M15</td><td>236.6567</td><td>187.9839</td><td>297.932</td><td>4.8347e-13</td><td>nan</td><td>nan</td><td>57174.0</td><td>57632.0</td><td>173.0</td><td>MAGIC</td><td>ul</td><td>--</td></tr>\n",
       "<tr><td>M15</td><td>375.0726</td><td>297.932</td><td>472.1865</td><td>6.1422e-13</td><td>nan</td><td>nan</td><td>57174.0</td><td>57632.0</td><td>173.0</td><td>MAGIC</td><td>ul</td><td>--</td></tr>\n",
       "<tr><td>M15</td><td>594.4452</td><td>472.1865</td><td>748.3591</td><td>1.7449e-13</td><td>nan</td><td>nan</td><td>57174.0</td><td>57632.0</td><td>173.0</td><td>MAGIC</td><td>ul</td><td>--</td></tr>\n",
       "<tr><td>M15</td><td>942.1245</td><td>748.3591</td><td>1186.06</td><td>1.6071e-13</td><td>nan</td><td>nan</td><td>57174.0</td><td>57632.0</td><td>173.0</td><td>MAGIC</td><td>ul</td><td>--</td></tr>\n",
       "<tr><td>M15</td><td>1493.155</td><td>1186.06</td><td>1879.763</td><td>3.0143e-13</td><td>nan</td><td>nan</td><td>57174.0</td><td>57632.0</td><td>173.0</td><td>MAGIC</td><td>ul</td><td>--</td></tr>\n",
       "<tr><td>M15</td><td>2366.472</td><td>1879.763</td><td>2979.199</td><td>2.7845e-13</td><td>nan</td><td>nan</td><td>57174.0</td><td>57632.0</td><td>173.0</td><td>MAGIC</td><td>ul</td><td>--</td></tr>\n",
       "<tr><td>M15</td><td>3750.574</td><td>2979.199</td><td>4721.674</td><td>3.547e-13</td><td>nan</td><td>nan</td><td>57174.0</td><td>57632.0</td><td>173.0</td><td>MAGIC</td><td>ul</td><td>--</td></tr>\n",
       "<tr><td>M15</td><td>5944.212</td><td>4721.674</td><td>7483.289</td><td>1.8031e-13</td><td>nan</td><td>nan</td><td>57174.0</td><td>57632.0</td><td>173.0</td><td>MAGIC</td><td>ul</td><td>--</td></tr>\n",
       "<tr><td>M15</td><td>9420.865</td><td>7483.289</td><td>11860.12</td><td>2.1818e-13</td><td>nan</td><td>nan</td><td>57174.0</td><td>57632.0</td><td>173.0</td><td>MAGIC</td><td>ul</td><td>--</td></tr>\n",
       "<tr><td>M15</td><td>14930.94</td><td>11860.12</td><td>18796.87</td><td>4.0687e-13</td><td>nan</td><td>nan</td><td>57174.0</td><td>57632.0</td><td>173.0</td><td>MAGIC</td><td>ul</td><td>--</td></tr>\n",
       "</table>"
      ],
      "text/plain": [
       "<Table length=13>\n",
       "srcname    en     en_wlo   en_wup  ...  texpo  instrument dataformat comments\n",
       " latex    GeV      GeV      GeV    ...    h      latex      latex     latex  \n",
       "  str3  float32  float32  float32  ... float32    str5       str2      str1  \n",
       "------- -------- -------- -------- ... ------- ---------- ---------- --------\n",
       "    M15 59.44692 47.22056 74.83894 ...   173.0      MAGIC         ul       --\n",
       "    M15 94.21626 74.83894 118.6108 ...   173.0      MAGIC         ul       --\n",
       "    M15 149.3215 118.6108 187.9839 ...   173.0      MAGIC         ul       --\n",
       "    M15 236.6567 187.9839  297.932 ...   173.0      MAGIC         ul       --\n",
       "    M15 375.0726  297.932 472.1865 ...   173.0      MAGIC         ul       --\n",
       "    M15 594.4452 472.1865 748.3591 ...   173.0      MAGIC         ul       --\n",
       "    M15 942.1245 748.3591  1186.06 ...   173.0      MAGIC         ul       --\n",
       "    M15 1493.155  1186.06 1879.763 ...   173.0      MAGIC         ul       --\n",
       "    M15 2366.472 1879.763 2979.199 ...   173.0      MAGIC         ul       --\n",
       "    M15 3750.574 2979.199 4721.674 ...   173.0      MAGIC         ul       --\n",
       "    M15 5944.212 4721.674 7483.289 ...   173.0      MAGIC         ul       --\n",
       "    M15 9420.865 7483.289 11860.12 ...   173.0      MAGIC         ul       --\n",
       "    M15 14930.94 11860.12 18796.87 ...   173.0      MAGIC         ul       --"
      ]
     },
     "execution_count": 18,
     "metadata": {},
     "output_type": "execute_result"
    }
   ],
   "source": [
    "sed_table"
   ]
  },
  {
   "cell_type": "code",
   "execution_count": 19,
   "metadata": {},
   "outputs": [
    {
     "data": {
      "text/plain": [
       "OrderedDict([('Filename', 'magic_2019c_fig3_sed.ecsv'),\n",
       "             ('Source', 'M15'),\n",
       "             ('Figure',\n",
       "              'Figure 3 in the paper. Broadband SED data. Only upper limits.'),\n",
       "             ('Title',\n",
       "              'Deep observations of the globular cluster M15 with the MAGIC telescopes'),\n",
       "             ('Comments', 'Only upper limits')])"
      ]
     },
     "execution_count": 19,
     "metadata": {},
     "output_type": "execute_result"
    }
   ],
   "source": [
    "sed_table.meta"
   ]
  },
  {
   "cell_type": "code",
   "execution_count": 20,
   "metadata": {},
   "outputs": [
    {
     "data": {
      "text/latex": [
       "$[1.7949956 \\times 10^{-8},~3.8955754 \\times 10^{-9},~8.5964297 \\times 10^{-10},~3.017582 \\times 10^{-10},~3.8336595 \\times 10^{-10},~1.0890808 \\times 10^{-10},~1.0030729 \\times 10^{-10},~1.881378 \\times 10^{-10},~1.7379481 \\times 10^{-10},~2.2138631 \\times 10^{-10},~1.1254065 \\times 10^{-10},~1.3617724 \\times 10^{-10},~2.5394828 \\times 10^{-10}] \\; \\mathrm{\\frac{GeV}{s\\,cm^{2}}}$"
      ],
      "text/plain": [
       "<Quantity [1.79499562e-08, 3.89557542e-09, 8.59642968e-10, 3.01758202e-10,\n",
       "           3.83365950e-10, 1.08908084e-10, 1.00307290e-10, 1.88137797e-10,\n",
       "           1.73794812e-10, 2.21386312e-10, 1.12540650e-10, 1.36177236e-10,\n",
       "           2.53948279e-10] GeV / (cm2 s)>"
      ]
     },
     "execution_count": 20,
     "metadata": {},
     "output_type": "execute_result"
    }
   ],
   "source": [
    "sed_table['nufnu'].to('GeV/(cm2 s)')"
   ]
  },
  {
   "cell_type": "code",
   "execution_count": 21,
   "metadata": {},
   "outputs": [],
   "source": [
    "from magic_data_server.plot_tools import DataPlot"
   ]
  },
  {
   "cell_type": "code",
   "execution_count": 22,
   "metadata": {},
   "outputs": [
    {
     "data": {
      "text/plain": [
       "array([ True,  True,  True,  True,  True,  True,  True,  True,  True,\n",
       "        True,  True,  True,  True])"
      ]
     },
     "execution_count": 22,
     "metadata": {},
     "output_type": "execute_result"
    }
   ],
   "source": [
    "sed_table['dataformat']=='ul'"
   ]
  },
  {
   "cell_type": "code",
   "execution_count": 23,
   "metadata": {},
   "outputs": [
    {
     "data": {
      "image/png": "[encoded data removed]",
      "text/plain": [
       "<Figure size 576x432 with 1 Axes>"
      ]
     },
     "metadata": {
      "needs_background": "light"
     },
     "output_type": "display_data"
    }
   ],
   "source": [
    "%matplotlib inline\n",
    "\n",
    "sed_plot=DataPlot()\n",
    "sed_plot.add_sed(sed_table)\n",
    "sed_plot.ax.set_ylim(5E-14,1E-9)\n",
    "sed_plot.ax.grid()"
   ]
  },
  {
   "cell_type": "code",
   "execution_count": 24,
   "metadata": {},
   "outputs": [
    {
     "name": "stdout",
     "output_type": "stream",
     "text": [
      "request http://0.0.0.0:5001/api/v1.0/magic/get-table {'file_name': 'magic_2019e_sed_fig1.ecsv', 'paper_id': '2019e'}\n",
      "<Response [200]>\n"
     ]
    }
   ],
   "source": [
    "sed_table=client.get_table_data(file_name='magic_2019e_sed_fig1.ecsv',paper_id='2019e')"
   ]
  },
  {
   "cell_type": "code",
   "execution_count": 25,
   "metadata": {},
   "outputs": [
    {
     "data": {
      "text/html": [
       "<i>Table length=3</i>\n",
       "<table id=\"table4849446480\" class=\"table-striped table-bordered table-condensed\">\n",
       "<thead><tr><th>srcname</th><th>en</th><th>en_wlo</th><th>en_wup</th><th>nufnu</th><th>nufnu_elo</th><th>nufnu_eup</th><th>tstart</th><th>tstop</th><th>texpo</th><th>instrument</th><th>dataformat</th><th>comments</th></tr></thead>\n",
       "<thead><tr><th>latex</th><th>GeV</th><th>GeV</th><th>GeV</th><th>erg / (cm2 s)</th><th>erg / (cm2 s)</th><th>erg / (cm2 s)</th><th>mjd</th><th>mjd</th><th>h</th><th>latex</th><th>latex</th><th>latex</th></tr></thead>\n",
       "<thead><tr><th>str11</th><th>float32</th><th>float32</th><th>float32</th><th>float32</th><th>float32</th><th>float32</th><th>float32</th><th>float32</th><th>float32</th><th>str5</th><th>str3</th><th>str1</th></tr></thead>\n",
       "<tr><td>TXS0210+515</td><td>598.132</td><td>0.0</td><td>0.0</td><td>8.89748e-13</td><td>3.78e-13</td><td>3.7871e-13</td><td>57370.0</td><td>58042.0</td><td>28.6</td><td>MAGIC</td><td>nan</td><td>--</td></tr>\n",
       "<tr><td>TXS0210+515</td><td>1502.44</td><td>0.0</td><td>0.0</td><td>1.40498e-13</td><td>5.23e-14</td><td>5.23943e-14</td><td>57370.0</td><td>58042.0</td><td>28.6</td><td>MAGIC</td><td>nan</td><td>--</td></tr>\n",
       "<tr><td>TXS0210+515</td><td>3773.96</td><td>0.0</td><td>0.0</td><td>2.43844e-14</td><td>9.36e-15</td><td>9.36573e-15</td><td>57370.0</td><td>58042.0</td><td>28.6</td><td>MAGIC</td><td>nan</td><td>--</td></tr>\n",
       "</table>"
      ],
      "text/plain": [
       "<Table length=3>\n",
       "  srcname      en    en_wlo  en_wup ...  texpo  instrument dataformat comments\n",
       "   latex      GeV     GeV     GeV   ...    h      latex      latex     latex  \n",
       "   str11    float32 float32 float32 ... float32    str5       str3      str1  \n",
       "----------- ------- ------- ------- ... ------- ---------- ---------- --------\n",
       "TXS0210+515 598.132     0.0     0.0 ...    28.6      MAGIC        nan       --\n",
       "TXS0210+515 1502.44     0.0     0.0 ...    28.6      MAGIC        nan       --\n",
       "TXS0210+515 3773.96     0.0     0.0 ...    28.6      MAGIC        nan       --"
      ]
     },
     "execution_count": 25,
     "metadata": {},
     "output_type": "execute_result"
    }
   ],
   "source": [
    "sed_table"
   ]
  },
  {
   "cell_type": "markdown",
   "metadata": {},
   "source": [
    "# ODA API "
   ]
  },
  {
   "cell_type": "code",
   "execution_count": 31,
   "metadata": {},
   "outputs": [],
   "source": [
    "from oda_api.api import DispatcherAPI\n",
    "from oda_api.plot_tools import OdaImage,OdaLightCurve\n",
    "from oda_api.data_products import BinaryData\n",
    "import os"
   ]
  },
  {
   "cell_type": "code",
   "execution_count": 32,
   "metadata": {},
   "outputs": [],
   "source": [
    "disp=DispatcherAPI(host='0.0.0.0',port=5000,instrument='mock',protocol='http')\n"
   ]
  },
  {
   "cell_type": "code",
   "execution_count": 33,
   "metadata": {},
   "outputs": [
    {
     "data": {
      "text/plain": [
       "['magic']"
      ]
     },
     "execution_count": 33,
     "metadata": {},
     "output_type": "execute_result"
    }
   ],
   "source": [
    "disp.get_instruments_list()"
   ]
  },
  {
   "cell_type": "code",
   "execution_count": 34,
   "metadata": {},
   "outputs": [
    {
     "name": "stdout",
     "output_type": "stream",
     "text": [
      "\n",
      "--------------\n",
      "instrumet: magic\n",
      "\n",
      "--------------\n",
      "query_name: src_query\n",
      " name: src_name,  value: test,  units: str, \n",
      " name: RA,  value: 0.0,  units: deg, \n",
      " name: DEC,  value: 0.0,  units: deg, \n",
      " name: T1,  value: 2001-12-11T00:00:00.000,  units: None, \n",
      " name: T2,  value: 2001-12-11T00:00:00.000,  units: None, \n",
      "\n",
      "--------------\n",
      "query_name: magic_parameters\n",
      " name: user_catalog,  value: None,  units: str, \n",
      " name: None,  value: [],  units: names_list, \n",
      " name: selected_catalog,  value: None,  units: str, \n",
      "\n",
      "--------------\n",
      "query_name: magic_table_query\n",
      " product_name: magic_table\n"
     ]
    }
   ],
   "source": [
    "disp.get_instrument_description('magic')"
   ]
  },
  {
   "cell_type": "code",
   "execution_count": 35,
   "metadata": {},
   "outputs": [
    {
     "name": "stdout",
     "output_type": "stream",
     "text": [
      "--------------\n",
      "parameters for  product magic_table and instrument magic\n",
      "\n",
      "--------------\n",
      "instrumet: magic\n",
      "\n",
      "--------------\n",
      "query_name: src_query\n",
      " name: src_name,  value: test,  units: str, \n",
      " name: RA,  value: 0.0,  units: deg, \n",
      " name: DEC,  value: 0.0,  units: deg, \n",
      " name: T1,  value: 2001-12-11T00:00:00.000,  units: None, \n",
      " name: T2,  value: 2001-12-11T00:00:00.000,  units: None, \n",
      "\n",
      "--------------\n",
      "query_name: magic_parameters\n",
      " name: user_catalog,  value: None,  units: str, \n",
      " name: None,  value: [],  units: names_list, \n",
      " name: selected_catalog,  value: None,  units: str, \n",
      "\n",
      "--------------\n",
      "query_name: magic_table_query\n",
      " product_name: magic_table\n"
     ]
    }
   ],
   "source": [
    "disp.get_product_description(instrument='magic',product_name='magic_table')"
   ]
  },
  {
   "cell_type": "code",
   "execution_count": 36,
   "metadata": {},
   "outputs": [
    {
     "name": "stdout",
     "output_type": "stream",
     "text": [
      "- waiting for remote response, please wait run_analysis http://0.0.0.0:5000\n",
      "src_name M15\n",
      "instrument magic\n",
      "product_type magic_table\n",
      "query_type Real\n",
      "off_line (False,)\n",
      "query_status ('new',)\n",
      "verbose (False,)\n",
      "session_id PO3D4S6CDO8PTRXC\n",
      "dry_run (False,)\n",
      "api True\n",
      "oda_api_version 1.0.1\n",
      "\n",
      "\n",
      "query done succesfully!\n"
     ]
    }
   ],
   "source": [
    "data=disp.get_product(instrument='magic',\n",
    "                      product='magic_table',\n",
    "                      src_name='M15',\n",
    "                      dry_run=False)"
   ]
  },
  {
   "cell_type": "code",
   "execution_count": 37,
   "metadata": {},
   "outputs": [
    {
     "name": "stdout",
     "output_type": "stream",
     "text": [
      "ID=0 prod_name=magic_table_0  meta_data: OrderedDict([('Filename', 'magic_2019c_fig3_sed.ecsv'), ('Source', 'M15'), ('Figure', 'Figure 3 in the paper. Broadband SED data. Only upper limits.'), ('Title', 'Deep observations of the globular cluster M15 with the MAGIC telescopes'), ('Comments', 'Only upper limits'), ('paper_id', '2019c_M15')])\n",
      "\n"
     ]
    }
   ],
   "source": [
    "data.show()"
   ]
  },
  {
   "cell_type": "code",
   "execution_count": 38,
   "metadata": {},
   "outputs": [
    {
     "data": {
      "text/html": [
       "<i>Table length=13</i>\n",
       "<table id=\"table4910004432\" class=\"table-striped table-bordered table-condensed\">\n",
       "<thead><tr><th>srcname</th><th>en</th><th>en_wlo</th><th>en_wup</th><th>nufnu</th><th>nufnu_elo</th><th>nufnu_eup</th><th>tstart</th><th>tstop</th><th>texpo</th><th>instrument</th><th>dataformat</th><th>comments</th></tr></thead>\n",
       "<thead><tr><th>latex</th><th>GeV</th><th>GeV</th><th>GeV</th><th>erg / (cm2 s)</th><th>erg / (cm2 s)</th><th>erg / (cm2 s)</th><th>mjd</th><th>mjd</th><th>h</th><th>latex</th><th>latex</th><th>latex</th></tr></thead>\n",
       "<thead><tr><th>str3</th><th>float32</th><th>float32</th><th>float32</th><th>float32</th><th>float32</th><th>float32</th><th>float32</th><th>float32</th><th>float32</th><th>str5</th><th>str2</th><th>str1</th></tr></thead>\n",
       "<tr><td>M15</td><td>59.44692</td><td>47.22056</td><td>74.83894</td><td>2.8759e-11</td><td>nan</td><td>nan</td><td>57174.0</td><td>57632.0</td><td>173.0</td><td>MAGIC</td><td>ul</td><td>--</td></tr>\n",
       "<tr><td>M15</td><td>94.21626</td><td>74.83894</td><td>118.6108</td><td>6.2414e-12</td><td>nan</td><td>nan</td><td>57174.0</td><td>57632.0</td><td>173.0</td><td>MAGIC</td><td>ul</td><td>--</td></tr>\n",
       "<tr><td>M15</td><td>149.3215</td><td>118.6108</td><td>187.9839</td><td>1.3773e-12</td><td>nan</td><td>nan</td><td>57174.0</td><td>57632.0</td><td>173.0</td><td>MAGIC</td><td>ul</td><td>--</td></tr>\n",
       "<tr><td>M15</td><td>236.6567</td><td>187.9839</td><td>297.932</td><td>4.8347e-13</td><td>nan</td><td>nan</td><td>57174.0</td><td>57632.0</td><td>173.0</td><td>MAGIC</td><td>ul</td><td>--</td></tr>\n",
       "<tr><td>M15</td><td>375.0726</td><td>297.932</td><td>472.1865</td><td>6.1422e-13</td><td>nan</td><td>nan</td><td>57174.0</td><td>57632.0</td><td>173.0</td><td>MAGIC</td><td>ul</td><td>--</td></tr>\n",
       "<tr><td>M15</td><td>594.4452</td><td>472.1865</td><td>748.3591</td><td>1.7449e-13</td><td>nan</td><td>nan</td><td>57174.0</td><td>57632.0</td><td>173.0</td><td>MAGIC</td><td>ul</td><td>--</td></tr>\n",
       "<tr><td>M15</td><td>942.1245</td><td>748.3591</td><td>1186.06</td><td>1.6071e-13</td><td>nan</td><td>nan</td><td>57174.0</td><td>57632.0</td><td>173.0</td><td>MAGIC</td><td>ul</td><td>--</td></tr>\n",
       "<tr><td>M15</td><td>1493.155</td><td>1186.06</td><td>1879.763</td><td>3.0143e-13</td><td>nan</td><td>nan</td><td>57174.0</td><td>57632.0</td><td>173.0</td><td>MAGIC</td><td>ul</td><td>--</td></tr>\n",
       "<tr><td>M15</td><td>2366.472</td><td>1879.763</td><td>2979.199</td><td>2.7845e-13</td><td>nan</td><td>nan</td><td>57174.0</td><td>57632.0</td><td>173.0</td><td>MAGIC</td><td>ul</td><td>--</td></tr>\n",
       "<tr><td>M15</td><td>3750.574</td><td>2979.199</td><td>4721.674</td><td>3.547e-13</td><td>nan</td><td>nan</td><td>57174.0</td><td>57632.0</td><td>173.0</td><td>MAGIC</td><td>ul</td><td>--</td></tr>\n",
       "<tr><td>M15</td><td>5944.212</td><td>4721.674</td><td>7483.289</td><td>1.8031e-13</td><td>nan</td><td>nan</td><td>57174.0</td><td>57632.0</td><td>173.0</td><td>MAGIC</td><td>ul</td><td>--</td></tr>\n",
       "<tr><td>M15</td><td>9420.865</td><td>7483.289</td><td>11860.12</td><td>2.1818e-13</td><td>nan</td><td>nan</td><td>57174.0</td><td>57632.0</td><td>173.0</td><td>MAGIC</td><td>ul</td><td>--</td></tr>\n",
       "<tr><td>M15</td><td>14930.94</td><td>11860.12</td><td>18796.87</td><td>4.0687e-13</td><td>nan</td><td>nan</td><td>57174.0</td><td>57632.0</td><td>173.0</td><td>MAGIC</td><td>ul</td><td>--</td></tr>\n",
       "</table>"
      ],
      "text/plain": [
       "<Table length=13>\n",
       "srcname    en     en_wlo   en_wup  ...  texpo  instrument dataformat comments\n",
       " latex    GeV      GeV      GeV    ...    h      latex      latex     latex  \n",
       "  str3  float32  float32  float32  ... float32    str5       str2      str1  \n",
       "------- -------- -------- -------- ... ------- ---------- ---------- --------\n",
       "    M15 59.44692 47.22056 74.83894 ...   173.0      MAGIC         ul       --\n",
       "    M15 94.21626 74.83894 118.6108 ...   173.0      MAGIC         ul       --\n",
       "    M15 149.3215 118.6108 187.9839 ...   173.0      MAGIC         ul       --\n",
       "    M15 236.6567 187.9839  297.932 ...   173.0      MAGIC         ul       --\n",
       "    M15 375.0726  297.932 472.1865 ...   173.0      MAGIC         ul       --\n",
       "    M15 594.4452 472.1865 748.3591 ...   173.0      MAGIC         ul       --\n",
       "    M15 942.1245 748.3591  1186.06 ...   173.0      MAGIC         ul       --\n",
       "    M15 1493.155  1186.06 1879.763 ...   173.0      MAGIC         ul       --\n",
       "    M15 2366.472 1879.763 2979.199 ...   173.0      MAGIC         ul       --\n",
       "    M15 3750.574 2979.199 4721.674 ...   173.0      MAGIC         ul       --\n",
       "    M15 5944.212 4721.674 7483.289 ...   173.0      MAGIC         ul       --\n",
       "    M15 9420.865 7483.289 11860.12 ...   173.0      MAGIC         ul       --\n",
       "    M15 14930.94 11860.12 18796.87 ...   173.0      MAGIC         ul       --"
      ]
     },
     "execution_count": 38,
     "metadata": {},
     "output_type": "execute_result"
    }
   ],
   "source": [
    "data.magic_table_0"
   ]
  },
  {
   "cell_type": "markdown",
   "metadata": {},
   "source": [
    "# Error communication "
   ]
  },
  {
   "cell_type": "markdown",
   "metadata": {},
   "source": [
    "The cells below show how error communication works."
   ]
  },
  {
   "cell_type": "code",
   "execution_count": 39,
   "metadata": {},
   "outputs": [
    {
     "name": "stdout",
     "output_type": "stream",
     "text": [
      "request http://0.0.0.0:5001/api/v1.0/magic/get-table {'file_name': 'magic_19e_lc1_fig2_targetX.ecsv', 'paper_id': '2019e'}\n",
      "<Response [410]>\n"
     ]
    },
    {
     "ename": "SystemExit",
     "evalue": "RemoteException (line 40): error on remote server: table file is empty/corrupted or missing: [Errno 2] No such file or directory: 'MAGIC_data/data/2019e/magic_19e_lc1_fig2_targetX.ecsv'",
     "output_type": "error",
     "traceback": [
      "An exception has occurred, use %tb to see the full traceback.\n",
      "\u001b[0;31mSystemExit\u001b[0m\u001b[0;31m:\u001b[0m RemoteException (line 40): error on remote server: table file is empty/corrupted or missing: [Errno 2] No such file or directory: 'MAGIC_data/data/2019e/magic_19e_lc1_fig2_targetX.ecsv'\n"
     ]
    }
   ],
   "source": [
    "#missing file error communication\n",
    "\n",
    "lc_table=client.get_table_data(file_name='magic_19e_lc1_fig2_targetX.ecsv',paper_id='2019e')"
   ]
  },
  {
   "cell_type": "code",
   "execution_count": 40,
   "metadata": {},
   "outputs": [
    {
     "name": "stdout",
     "output_type": "stream",
     "text": [
      "request http://0.0.0.0:5001/api/v1.0/magic/get-table {'file_name': 'magic_2019c_fig3_sed_test_wrong_format.ecsv', 'paper_id': '2019c_M15'}\n",
      "<Response [410]>\n"
     ]
    },
    {
     "ename": "SystemExit",
     "evalue": "RemoteException (line 40): error on remote server: table file is empty/corrupted or missing: \nERROR: Unable to guess table format with the guesses listed below:\nReader:Ecsv delimiter: ';' fast_reader: {'enable': True} fill_values: [('', '0')] strict_names: True\nReader:FixedWidthTwoLine delimiter: ';' fast_reader: {'enable': True} fill_values: [('', '0')] strict_names: True\nReader:RST delimiter: ';' fast_reader: {'enable': True} fill_values: [('', '0')] strict_names: True\nReader:FastBasic delimiter: ';' fast_reader: {'enable': True} fill_values: [('', '0')] strict_names: True\nReader:Basic delimiter: ';' fast_reader: {'enable': True} fill_values: [('', '0')] strict_names: True\nReader:FastRdb delimiter: ';' fast_reader: {'enable': True} fill_values: [('', '0')] strict_names: True\nReader:Rdb delimiter: ';' fast_reader: {'enable': True} fill_values: [('', '0')] strict_names: True\nReader:FastTab delimiter: ';' fast_reader: {'enable': True} fill_values: [('', '0')] strict_names: True\nReader:Tab delimiter: ';' fast_reader: {'enable': True} fill_values: [('', '0')] strict_names: True\nReader:Cds delimiter: ';' fast_reader: {'enable': True} fill_values: [('', '0')] strict_names: True\nReader:Daophot delimiter: ';' fast_reader: {'enable': True} fill_values: [('', '0')] strict_names: True\nReader:SExtractor delimiter: ';' fast_reader: {'enable': True} fill_values: [('', '0')] strict_names: True\nReader:Ipac delimiter: ';' fast_reader: {'enable': True} fill_values: [('', '0')] strict_names: True\nReader:Latex delimiter: ';' fast_reader: {'enable': True} fill_values: [('', '0')] strict_names: True\nReader:AASTex delimiter: ';' fast_reader: {'enable': True} fill_values: [('', '0')] strict_names: True\nReader:Basic delimiter: ';' fast_reader: {'enable': True} fill_values: [('', '0')]\n\n************************************************************************\n** ERROR: Unable to guess table format with the guesses listed above. **\n**                                                                    **\n** To figure out why the table did not read, use guess=False and      **\n** fast_reader=False, along with any appropriate arguments to read(). **\n** In particular specify the format and any known attributes like the **\n** delimiter.                                                         **\n************************************************************************",
     "output_type": "error",
     "traceback": [
      "An exception has occurred, use %tb to see the full traceback.\n",
      "\u001b[0;31mSystemExit\u001b[0m\u001b[0;31m:\u001b[0m RemoteException (line 40): error on remote server: table file is empty/corrupted or missing: \nERROR: Unable to guess table format with the guesses listed below:\nReader:Ecsv delimiter: ';' fast_reader: {'enable': True} fill_values: [('', '0')] strict_names: True\nReader:FixedWidthTwoLine delimiter: ';' fast_reader: {'enable': True} fill_values: [('', '0')] strict_names: True\nReader:RST delimiter: ';' fast_reader: {'enable': True} fill_values: [('', '0')] strict_names: True\nReader:FastBasic delimiter: ';' fast_reader: {'enable': True} fill_values: [('', '0')] strict_names: True\nReader:Basic delimiter: ';' fast_reader: {'enable': True} fill_values: [('', '0')] strict_names: True\nReader:FastRdb delimiter: ';' fast_reader: {'enable': True} fill_values: [('', '0')] strict_names: True\nReader:Rdb delimiter: ';' fast_reader: {'enable': True} fill_values: [('', '0')] strict_names: True\nReader:FastTab delimiter: ';' fast_reader: {'enable': True} fill_values: [('', '0')] strict_names: True\nReader:Tab delimiter: ';' fast_reader: {'enable': True} fill_values: [('', '0')] strict_names: True\nReader:Cds delimiter: ';' fast_reader: {'enable': True} fill_values: [('', '0')] strict_names: True\nReader:Daophot delimiter: ';' fast_reader: {'enable': True} fill_values: [('', '0')] strict_names: True\nReader:SExtractor delimiter: ';' fast_reader: {'enable': True} fill_values: [('', '0')] strict_names: True\nReader:Ipac delimiter: ';' fast_reader: {'enable': True} fill_values: [('', '0')] strict_names: True\nReader:Latex delimiter: ';' fast_reader: {'enable': True} fill_values: [('', '0')] strict_names: True\nReader:AASTex delimiter: ';' fast_reader: {'enable': True} fill_values: [('', '0')] strict_names: True\nReader:Basic delimiter: ';' fast_reader: {'enable': True} fill_values: [('', '0')]\n\n************************************************************************\n** ERROR: Unable to guess table format with the guesses listed above. **\n**                                                                    **\n** To figure out why the table did not read, use guess=False and      **\n** fast_reader=False, along with any appropriate arguments to read(). **\n** In particular specify the format and any known attributes like the **\n** delimiter.                                                         **\n************************************************************************\n"
     ]
    }
   ],
   "source": [
    "#worngly formatted file error communication\n",
    "\n",
    "sed_table=client.get_table_data(file_name='magic_2019c_fig3_sed_test_wrong_format.ecsv',paper_id='2019c_M15')"
   ]
  }
 ],
 "metadata": {
  "kernel_info": {
   "name": "python3"
  },
  "kernelspec": {
   "display_name": "Python 3",
   "language": "python",
   "name": "python3"
  },
  "language_info": {
   "codemirror_mode": {
    "name": "ipython",
    "version": 3
   },
   "file_extension": ".py",
   "mimetype": "text/x-python",
   "name": "python",
   "nbconvert_exporter": "python",
   "pygments_lexer": "ipython3",
   "version": "3.7.7"
  },
  "nteract": {
   "version": "0.15.0"
  },
  "toc": {
   "base_numbering": 1,
   "nav_menu": {},
   "number_sections": false,
   "sideBar": false,
   "skip_h1_title": false,
   "title_cell": "Table of Contents",
   "title_sidebar": "Contents",
   "toc_cell": false,
   "toc_position": {},
   "toc_section_display": false,
   "toc_window_display": false
  }
 },
 "nbformat": 4,
 "nbformat_minor": 4
}

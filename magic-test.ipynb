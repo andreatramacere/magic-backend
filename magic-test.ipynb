{
 "cells": [
  {
   "cell_type": "code",
   "execution_count": 54,
   "metadata": {},
   "outputs": [],
   "source": [
    "from astropy.table import Table\n",
    "import json\n",
    "import  base64\n",
    "import pickle\n",
    "import requests\n",
    "from astropy.io import ascii\n",
    "from collections import OrderedDict\n",
    "import sys\n",
    "import inspect\n"
   ]
  },
  {
   "cell_type": "code",
   "execution_count": 55,
   "metadata": {},
   "outputs": [],
   "source": [
    "class NoTraceBackWithLineNumber(Exception):\n",
    "    def __init__(self, msg):\n",
    "        try:\n",
    "            ln = sys.exc_info()[-1].tb_lineno\n",
    "        except AttributeError:\n",
    "            ln = inspect.currentframe().f_back.f_lineno\n",
    "        self.args = \"{0.__name__} (line {1}): {2}\".format(type(self), ln, msg),\n",
    "        sys.exit(self)\n",
    "\n",
    "class APIError(NoTraceBackWithLineNumber):\n",
    "    pass"
   ]
  },
  {
   "cell_type": "code",
   "execution_count": 56,
   "metadata": {},
   "outputs": [],
   "source": [
    "def show_catalog(cat,s=''):\n",
    "    if isinstance(cat, dict):\n",
    "        for k in cat.keys():\n",
    "            print('%s:%s'%(s,k))\n",
    "            show_catalog(cat[k],s=' '*2)\n",
    "    elif isinstance(cat, list) or isinstance(cat, tuple):\n",
    "        for item in cat:\n",
    "            show_catalog(item,s=' '*2)\n",
    "    else:\n",
    "       \n",
    "        print('%s %s'%(s,cat))\n",
    "\n"
   ]
  },
  {
   "cell_type": "code",
   "execution_count": 57,
   "metadata": {},
   "outputs": [],
   "source": [
    "def query_magic(url='http://localhost',port=32790,product='catalog',api='api/v1.0/magic',params=None):\n",
    "    s='%s:%d/%s/get-%s'%(url,port,api,product)\n",
    "    \n",
    "    \n",
    "    res = requests.get(s,params=params)\n",
    "    #print(res.json())\n",
    "    if 'error_message' in res.json():\n",
    "        raise APIError('error on remote server: %s'%res.json()['error_message'])\n",
    "\n",
    "    return res"
   ]
  },
  {
   "cell_type": "code",
   "execution_count": 63,
   "metadata": {
    "scrolled": false
   },
   "outputs": [
    {
     "name": "stdout",
     "output_type": "stream",
     "text": [
      "{\n",
      "    \"File_info\": \"Fdate = 20190819 Fvers = 1 Fgen = Michele Doro, michele.doro@unipd.it Fmail = magic_sapo@mpp.mpg.de Flink = XXXX\",\n",
      "    \"Paper info\": {\n",
      "        \"Pref\": \"Astrophysical Journal Supplement XXX\",\n",
      "        \"Pdoi\": \"https:// doi.org/XXX\",\n",
      "        \"Parxiv\": \"http://arxiv.org/abs/arXiv:XXX\",\n",
      "        \"Pcoll\": \"magic\",\n",
      "        \"Pcauthor\": \"Elisa Prandini, Cornelia Arcaro, Vandad Fallah Ramazani\",\n",
      "        \"Pads\": \"XX\",\n",
      "        \"Pinspire\": \"XXX\"\n",
      "    },\n",
      "    \"Targets in file\": {\n",
      "        \"Tpname01\": \"TXS0210+515\",\n",
      "        \"Taname01\": \"BZBJ0214+5144; 1RXSJ021417.8+514457; 87GB02109+5130; GB6J0214+5145; 5BZGJ0214+5144; GB6B0210+5131; 2WHSPJ021417.8+514451; 2FHLJ0214.9+5149\",\n",
      "        \"Tpname02\": \"TXS0637-128\",\n",
      "        \"Taname02\": null,\n",
      "        \"Tpname03\": \"BZBJ0809+3455\",\n",
      "        \"Taname03\": null,\n",
      "        \"Tpname04\": \"RBS0723\",\n",
      "        \"Taname04\": null,\n",
      "        \"Tpname05\": \"1ES0927+500\",\n",
      "        \"Taname05\": null,\n",
      "        \"Tpname06\": \"RBS0921\",\n",
      "        \"Taname06\": null,\n",
      "        \"Tpname07\": \"1ES1426+428\",\n",
      "        \"Taname07\": null,\n",
      "        \"Tpname08\": \"1ES2037+521\",\n",
      "        \"Taname09\": null,\n",
      "        \"Tpname09\": \"RGBJ2042+244\",\n",
      "        \"Tpname10\": \"RGBJ2323+147\",\n",
      "        \"Taname10\": null,\n",
      "        \"Tpname11\": \"1ES0229+200\",\n",
      "        \"Taname11\": null\n",
      "    },\n",
      "    \"File list MAGIC\": [\n",
      "        \"magic_19e_sed_fig1_target_all.ecsv\",\n",
      "        \"magic_19e_sed_fig1_target01.ecsv\",\n",
      "        \"magic_19e_sed_fig1_target04.ecsv\",\n",
      "        \"magic_19e_sed_fig1_target07.ecsv\",\n",
      "        \"magic_19e_sed_fig1_target08.ecsv\",\n",
      "        \"magic_19e_sed_fig1_target09.ecsv\"\n",
      "    ],\n",
      "    \"File list MWL\": [\n",
      "        \"magic_19e_lc1_fig2_target_all.ecsv\",\n",
      "        \"magic_19e_lc1_fig2_target01.ecsv\",\n",
      "        \"magic_19e_lc1_fig2_target02.ecsv\",\n",
      "        \"magic_19e_lc1_fig2_target03.ecsv\",\n",
      "        \"magic_19e_lc1_fig2_target04.ecsv\",\n",
      "        \"magic_19e_lc1_fig2_target05.ecsv\",\n",
      "        \"magic_19e_lc1_fig2_target06.ecsv\",\n",
      "        \"magic_19e_lc1_fig2_target07.ecsv\",\n",
      "        \"magic_19e_lc1_fig2_target08.ecsv\",\n",
      "        \"magic_19e_lc1_fig2_target09.ecsv\",\n",
      "        \"magic_19e_lc1_fig2_target010.ecsv\",\n",
      "        \"magic_19e_lc1_fig2_target011.ecsv\",\n",
      "        \"magic_19e_sed_fig3_mwl_target_all.ecsv\",\n",
      "        \"magic_19e_sed_fig3_mwl_target11.ecsv\",\n",
      "        \"magic_19e_sed_fig3_mwl_target07.ecsv\",\n",
      "        \"magic_19e_sed_fig3_mwl_target04.ecsv\",\n",
      "        \"magic_19e_sed_fig3_mwl_target08.ecsv\",\n",
      "        \"magic_19e_sed_fig3_mwl_target09.ecsv\",\n",
      "        \"magic_19e_sed_fig3_mwl_target01.ecsv\",\n",
      "        \"magic_19e_sed_fig3_nofit_target_all.ecsv\",\n",
      "        \"magic_19e_sed_fig3_nofit_target11.ecsv\",\n",
      "        \"magic_19e_sed_fig3_nofit_target07.ecsv\",\n",
      "        \"magic_19e_sed_fig3_nofit_target04.ecsv\",\n",
      "        \"magic_19e_sed_fig3_nofit_target08.ecsv\",\n",
      "        \"magic_19e_sed_fig3_nofit_target09.ecsv\",\n",
      "        \"magic_19e_sed_fig3_nofit_target01.ecsv\",\n",
      "        \"magic_19e_sed_fig4_mwl_target_all.ecsv\",\n",
      "        \"magic_19e_sed_fig4_mwl_target05.ecsv\",\n",
      "        \"magic_19e_sed_fig4_mwl_target03.ecsv\",\n",
      "        \"magic_19e_sed_fig4_mwl_target10.ecsv\",\n",
      "        \"magic_19e_sed_fig4_mwl_target02.ecsv\",\n",
      "        \"magic_19e_sed_fig4_nofit_target_all.ecsv\",\n",
      "        \"magic_19e_sed_fig4_nofit_target05.ecsv\",\n",
      "        \"magic_19e_sed_fig4_nofit_target03.ecsv\",\n",
      "        \"magic_19e_sed_fig4_nofit_target10.ecsv\",\n",
      "        \"magic_19e_sed_fig4_nofit_target02.ecsv\"\n",
      "    ],\n",
      "    \"File on demands (available on request to Fmail)\": [\n",
      "        \"magic_19e_sed1_fig1_target01_eblcorrected.ecsv\",\n",
      "        \"magic_19e_sed1_fig1_target04_eblcorrected.ecsv\",\n",
      "        \"magic_19e_sed1_fig1_target07_eblcorrected.ecsv\",\n",
      "        \"magic_19e_sed1_fig1_target08_eblcorrected.ecsv\",\n",
      "        \"magic_19e_sed1_fig1_target09_eblcorrected.ecsv\",\n",
      "        \"magic_19e_sed_fig3_model_target_all.ecsv\",\n",
      "        \"magic_19e_sed_fig3_model_target11.ecsv\",\n",
      "        \"magic_19e_sed_fig3_model_target07.ecsv\",\n",
      "        \"magic_19e_sed_fig3_model_target04.ecsv\",\n",
      "        \"magic_19e_sed_fig3_model_target08.ecsv\",\n",
      "        \"magic_19e_sed_fig3_model_target09.ecsv\",\n",
      "        \"magic_19e_sed_fig3_model_target01.ecsv\",\n",
      "        \"magic_19e_sed_fig4_model_target_all.ecsv\",\n",
      "        \"magic_19e_sed_fig4_model_target05.ecsv\",\n",
      "        \"magic_19e_sed_fig4_model_target03.ecsv\",\n",
      "        \"magic_19e_sed_fig4_model_target10.ecsv\",\n",
      "        \"magic_19e_sed_fig4_model_target02.ecsv\"\n",
      "    ],\n",
      "    \"Comments\": null\n",
      "}\n"
     ]
    }
   ],
   "source": [
    "res = query_magic(product='catalog',port=32792)\n",
    "cat_rec=json.loads(res.json(), object_pairs_hook=OrderedDict)\n",
    "print (json.dumps(cat_rec, indent=4))\n",
    "#show_catalog(cat_rec)"
   ]
  },
  {
   "cell_type": "code",
   "execution_count": 64,
   "metadata": {},
   "outputs": [],
   "source": [
    "res = query_magic(product='data',params=dict(file_name='magic_19e_sed_fig3_mwl_target01.ecsv'))\n",
    "_o_dict=json.loads(res.json())\n",
    "t_rec = ascii.read(_o_dict['astropy_table']['ascii'])\n"
   ]
  },
  {
   "cell_type": "code",
   "execution_count": 41,
   "metadata": {},
   "outputs": [
    {
     "data": {
      "text/html": [
       "<i>Table length=47</i>\n",
       "<table id=\"table4814672952\" class=\"table-striped table-bordered table-condensed\">\n",
       "<thead><tr><th>freq</th><th>freq_elo</th><th>freq_eup</th><th>nufnu</th><th>nufnu_elo</th><th>nufnu_eup</th><th>tstart</th><th>tstop</th><th>texpo</th><th>comments</th></tr></thead>\n",
       "<thead><tr><th>1 / s</th><th>1 / s</th><th>1 / s</th><th>erg / (cm2 s)</th><th>erg / (cm2 s)</th><th>erg / (cm2 s)</th><th>mjd</th><th>mjd</th><th>s</th><th>latex</th></tr></thead>\n",
       "<thead><tr><th>float32</th><th>float32</th><th>float32</th><th>float32</th><th>float32</th><th>float32</th><th>float32</th><th>float32</th><th>float32</th><th>str13</th></tr></thead>\n",
       "<tr><td>555000000000000.0</td><td>0.0</td><td>0.0</td><td>1.3508825e-11</td><td>6.9276025e-13</td><td>6.9276025e-13</td><td>57417.0</td><td>57417.0</td><td>nan</td><td>UVOT</td></tr>\n",
       "<tr><td>692500000000000.0</td><td>0.0</td><td>0.0</td><td>8.5324916e-12</td><td>4.116553e-13</td><td>4.116553e-13</td><td>57417.0</td><td>57417.0</td><td>nan</td><td>UVOT</td></tr>\n",
       "<tr><td>856300000000000.0</td><td>0.0</td><td>0.0</td><td>4.6513414e-12</td><td>3.2853342e-13</td><td>3.2853342e-13</td><td>57417.0</td><td>57417.0</td><td>nan</td><td>UVOT</td></tr>\n",
       "<tr><td>1157000000000000.0</td><td>0.0</td><td>0.0</td><td>2.8448196e-12</td><td>3.0983183e-13</td><td>3.0983183e-13</td><td>57417.0</td><td>57417.0</td><td>nan</td><td>UVOT</td></tr>\n",
       "<tr><td>1345000000000000.0</td><td>0.0</td><td>0.0</td><td>2.7428424e-12</td><td>2.98444e-13</td><td>2.98444e-13</td><td>57417.0</td><td>57417.0</td><td>nan</td><td>UVOT</td></tr>\n",
       "<tr><td>1475000000000000.0</td><td>0.0</td><td>0.0</td><td>2.4049107e-12</td><td>1.6097778e-13</td><td>1.6097778e-13</td><td>57417.0</td><td>57417.0</td><td>nan</td><td>UVOT</td></tr>\n",
       "<tr><td>2.08e+17</td><td>1.93e+16</td><td>1.93e+16</td><td>3.5e-12</td><td>1.89e-13</td><td>1.89e-13</td><td>57417.0</td><td>57417.0</td><td>nan</td><td>XRT</td></tr>\n",
       "<tr><td>2.45e+17</td><td>1.81e+16</td><td>1.81e+16</td><td>3.56e-12</td><td>2.1e-13</td><td>2.1e-13</td><td>57417.0</td><td>57417.0</td><td>nan</td><td>XRT</td></tr>\n",
       "<tr><td>2.82e+17</td><td>1.81e+16</td><td>1.81e+16</td><td>3.75e-12</td><td>2.4e-13</td><td>2.4e-13</td><td>57417.0</td><td>57417.0</td><td>nan</td><td>XRT</td></tr>\n",
       "<tr><td>...</td><td>...</td><td>...</td><td>...</td><td>...</td><td>...</td><td>...</td><td>...</td><td>...</td><td>...</td></tr>\n",
       "<tr><td>2.63e+18</td><td>1.06e+17</td><td>1.06e+17</td><td>5.83e-12</td><td>4.63e-13</td><td>4.63e-13</td><td>57417.0</td><td>57417.0</td><td>nan</td><td>NuSTAR</td></tr>\n",
       "<tr><td>2.91e+18</td><td>1.74e+17</td><td>1.74e+17</td><td>5.39e-12</td><td>4.17e-13</td><td>4.17e-13</td><td>57417.0</td><td>57417.0</td><td>nan</td><td>NuSTAR</td></tr>\n",
       "<tr><td>3.31e+18</td><td>2.22e+17</td><td>2.22e+17</td><td>5.31e-12</td><td>4.35e-13</td><td>4.35e-13</td><td>57417.0</td><td>57417.0</td><td>nan</td><td>NuSTAR</td></tr>\n",
       "<tr><td>4.9368e+23</td><td>2.5168e+23</td><td>5.13474e+23</td><td>9.94e-13</td><td>0.0</td><td>0.0</td><td>57388.0</td><td>58118.0</td><td>nan</td><td>Fermi-LAT; UL</td></tr>\n",
       "<tr><td>2.05458e+24</td><td>1.04743e+24</td><td>2.13698e+24</td><td>1.13e-12</td><td>4.18176e-13</td><td>4.18176e-13</td><td>57388.0</td><td>58118.0</td><td>nan</td><td>Fermi-LAT</td></tr>\n",
       "<tr><td>8.55083e+24</td><td>4.35927e+24</td><td>8.89358e+24</td><td>2.85e-12</td><td>0.0</td><td>0.0</td><td>57388.0</td><td>58118.0</td><td>nan</td><td>Fermi-LAT; UL</td></tr>\n",
       "<tr><td>3.55873e+25</td><td>1.81429e+25</td><td>3.70127e+25</td><td>9.91e-12</td><td>0.0</td><td>0.0</td><td>57388.0</td><td>58118.0</td><td>nan</td><td>Fermi-LAT; UL</td></tr>\n",
       "<tr><td>1.45e+26</td><td>0.0</td><td>0.0</td><td>6.79e-13</td><td>2.89e-13</td><td>2.89e-13</td><td>57370.0</td><td>58042.0</td><td>102960.0</td><td>MAGIC</td></tr>\n",
       "<tr><td>3.63e+26</td><td>0.0</td><td>0.0</td><td>9.27e-13</td><td>3.46e-13</td><td>3.46e-13</td><td>57370.0</td><td>58042.0</td><td>102960.0</td><td>MAGIC</td></tr>\n",
       "<tr><td>9.13e+26</td><td>0.0</td><td>0.0</td><td>1.28e-12</td><td>4.92e-13</td><td>4.92e-13</td><td>57370.0</td><td>58042.0</td><td>102960.0</td><td>MAGIC</td></tr>\n",
       "</table>"
      ],
      "text/plain": [
       "<Table length=47>\n",
       "       freq          freq_elo    freq_eup  ...  tstop   texpo      comments  \n",
       "      1 / s           1 / s       1 / s    ...   mjd      s         latex    \n",
       "     float32         float32     float32   ... float32 float32      str13    \n",
       "------------------ ----------- ----------- ... ------- -------- -------------\n",
       " 555000000000000.0         0.0         0.0 ... 57417.0      nan          UVOT\n",
       " 692500000000000.0         0.0         0.0 ... 57417.0      nan          UVOT\n",
       " 856300000000000.0         0.0         0.0 ... 57417.0      nan          UVOT\n",
       "1157000000000000.0         0.0         0.0 ... 57417.0      nan          UVOT\n",
       "1345000000000000.0         0.0         0.0 ... 57417.0      nan          UVOT\n",
       "1475000000000000.0         0.0         0.0 ... 57417.0      nan          UVOT\n",
       "          2.08e+17    1.93e+16    1.93e+16 ... 57417.0      nan           XRT\n",
       "          2.45e+17    1.81e+16    1.81e+16 ... 57417.0      nan           XRT\n",
       "          2.82e+17    1.81e+16    1.81e+16 ... 57417.0      nan           XRT\n",
       "               ...         ...         ... ...     ...      ...           ...\n",
       "          2.63e+18    1.06e+17    1.06e+17 ... 57417.0      nan        NuSTAR\n",
       "          2.91e+18    1.74e+17    1.74e+17 ... 57417.0      nan        NuSTAR\n",
       "          3.31e+18    2.22e+17    2.22e+17 ... 57417.0      nan        NuSTAR\n",
       "        4.9368e+23  2.5168e+23 5.13474e+23 ... 58118.0      nan Fermi-LAT; UL\n",
       "       2.05458e+24 1.04743e+24 2.13698e+24 ... 58118.0      nan     Fermi-LAT\n",
       "       8.55083e+24 4.35927e+24 8.89358e+24 ... 58118.0      nan Fermi-LAT; UL\n",
       "       3.55873e+25 1.81429e+25 3.70127e+25 ... 58118.0      nan Fermi-LAT; UL\n",
       "          1.45e+26         0.0         0.0 ... 58042.0 102960.0         MAGIC\n",
       "          3.63e+26         0.0         0.0 ... 58042.0 102960.0         MAGIC\n",
       "          9.13e+26         0.0         0.0 ... 58042.0 102960.0         MAGIC"
      ]
     },
     "execution_count": 41,
     "metadata": {},
     "output_type": "execute_result"
    }
   ],
   "source": [
    "t_rec\n"
   ]
  },
  {
   "cell_type": "code",
   "execution_count": 21,
   "metadata": {},
   "outputs": [
    {
     "data": {
      "text/plain": [
       "'MAGIC TABLE'"
      ]
     },
     "execution_count": 21,
     "metadata": {},
     "output_type": "execute_result"
    }
   ],
   "source": [
    "_o_dict['astropy_table']['name']"
   ]
  },
  {
   "cell_type": "code",
   "execution_count": 26,
   "metadata": {},
   "outputs": [],
   "source": [
    "\n",
    "from astropy import coordinates"
   ]
  },
  {
   "cell_type": "code",
   "execution_count": 53,
   "metadata": {},
   "outputs": [],
   "source": [
    "c=coordinates.SkyCoord.from_name('Mrk 421')"
   ]
  },
  {
   "cell_type": "code",
   "execution_count": 44,
   "metadata": {},
   "outputs": [
    {
     "data": {
      "text/plain": [
       "<SkyCoord (ICRS): (ra, dec) in deg\n",
       "    (33.57474799, 51.74776278)>"
      ]
     },
     "execution_count": 44,
     "metadata": {},
     "output_type": "execute_result"
    }
   ],
   "source": [
    "c"
   ]
  },
  {
   "cell_type": "code",
   "execution_count": null,
   "metadata": {},
   "outputs": [],
   "source": []
  }
 ],
 "metadata": {
  "kernelspec": {
   "display_name": "Python 3",
   "language": "python",
   "name": "python3"
  },
  "language_info": {
   "codemirror_mode": {
    "name": "ipython",
    "version": 3
   },
   "file_extension": ".py",
   "mimetype": "text/x-python",
   "name": "python",
   "nbconvert_exporter": "python",
   "pygments_lexer": "ipython3",
   "version": "3.7.3"
  },
  "toc": {
   "base_numbering": 1.0,
   "nav_menu": {},
   "number_sections": false,
   "sideBar": false,
   "skip_h1_title": false,
   "title_cell": "Table of Contents",
   "title_sidebar": "Contents",
   "toc_cell": false,
   "toc_position": {},
   "toc_section_display": false,
   "toc_window_display": false
  }
 },
 "nbformat": 4,
 "nbformat_minor": 4
}

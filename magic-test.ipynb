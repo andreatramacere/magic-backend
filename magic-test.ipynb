{
  "cells": [
    {
      "cell_type": "code",
      "source": [
        "from astropy.table import Table\n",
        "import json\n",
        "import  base64\n",
        "import pickle\n",
        "import requests\n",
        "from astropy.io import ascii\n",
        "from collections import OrderedDict\n",
        "import sys\n",
        "import inspect\n"
      ],
      "outputs": [],
      "execution_count": 1,
      "metadata": {}
    },
    {
      "cell_type": "code",
      "source": [
        "class NoTraceBackWithLineNumber(Exception):\n",
        "    def __init__(self, msg):\n",
        "        try:\n",
        "            ln = sys.exc_info()[-1].tb_lineno\n",
        "        except AttributeError:\n",
        "            ln = inspect.currentframe().f_back.f_lineno\n",
        "        self.args = \"{0.__name__} (line {1}): {2}\".format(type(self), ln, msg),\n",
        "        sys.exit(self)\n",
        "\n",
        "class APIError(NoTraceBackWithLineNumber):\n",
        "    pass"
      ],
      "outputs": [],
      "execution_count": 2,
      "metadata": {}
    },
    {
      "cell_type": "code",
      "source": [
        "def show_catalog(cat,s=''):\n",
        "    if isinstance(cat, dict):\n",
        "        for k in cat.keys():\n",
        "            print('%s:%s'%(s,k))\n",
        "            show_catalog(cat[k],s=' '*2)\n",
        "    elif isinstance(cat, list) or isinstance(cat, tuple):\n",
        "        for item in cat:\n",
        "            show_catalog(item,s=' '*2)\n",
        "    else:\n",
        "       \n",
        "        print('%s %s'%(s,cat))\n",
        "\n"
      ],
      "outputs": [],
      "execution_count": 3,
      "metadata": {}
    },
    {
      "cell_type": "code",
      "source": [
        "def query_magic(url='http://localhost',port=5000,product='catalog',api='api/v1.0/magic',params=None):\n",
        "    s='%s:%d/%s/%s'%(url,port,api,product)\n",
        "   \n",
        "    print(s)\n",
        "    res = requests.get(s,params=params)\n",
        "    #print(res.json())\n",
        "    if 'error_message' in res.json():\n",
        "        raise APIError('error on remote server: %s'%res.json()['error_message'])\n",
        "\n",
        "    return res"
      ],
      "outputs": [],
      "execution_count": 4,
      "metadata": {}
    },
    {
      "cell_type": "code",
      "source": [
        "res = query_magic(product='catalog')\n",
        "cat_rec=json.loads(res.json(), object_pairs_hook=OrderedDict)\n",
        "print (json.dumps(cat_rec, indent=4))\n",
        "#show_catalog(cat_rec)\n"
      ],
      "outputs": [
        {
          "output_type": "stream",
          "name": "stdout",
          "text": [
            "http://localhost:5000/api/v1.0/magic/catalog\n",
            "{\n",
            "    \"File_info\": \"Fdate = 20190819 Fvers = 1 Fgen = Michele Doro, michele.doro@unipd.it Fmail = magic_sapo@mpp.mpg.de Flink = XXXX\",\n",
            "    \"Paper info\": {\n",
            "        \"Pref\": \"Astrophysical Journal Supplement XXX\",\n",
            "        \"Pdoi\": \"https:// doi.org/XXX\",\n",
            "        \"Parxiv\": \"http://arxiv.org/abs/arXiv:XXX\",\n",
            "        \"Pcoll\": \"magic\",\n",
            "        \"Pcauthor\": \"Elisa Prandini, Cornelia Arcaro, Vandad Fallah Ramazani\",\n",
            "        \"Pads\": \"XX\",\n",
            "        \"Pinspire\": \"XXX\"\n",
            "    },\n",
            "    \"Targets in file\": {\n",
            "        \"Tpname01\": \"TXS0210+515\",\n",
            "        \"Taname01\": \"BZBJ0214+5144; 1RXSJ021417.8+514457; 87GB02109+5130; GB6J0214+5145; 5BZGJ0214+5144; GB6B0210+5131; 2WHSPJ021417.8+514451; 2FHLJ0214.9+5149\",\n",
            "        \"Tpname02\": \"TXS0637-128\",\n",
            "        \"Taname02\": null,\n",
            "        \"Tpname03\": \"BZBJ0809+3455\",\n",
            "        \"Taname03\": null,\n",
            "        \"Tpname04\": \"RBS0723\",\n",
            "        \"Taname04\": null,\n",
            "        \"Tpname05\": \"1ES0927+500\",\n",
            "        \"Taname05\": null,\n",
            "        \"Tpname06\": \"RBS0921\",\n",
            "        \"Taname06\": null,\n",
            "        \"Tpname07\": \"1ES1426+428\",\n",
            "        \"Taname07\": null,\n",
            "        \"Tpname08\": \"1ES2037+521\",\n",
            "        \"Taname09\": null,\n",
            "        \"Tpname09\": \"RGBJ2042+244\",\n",
            "        \"Tpname10\": \"RGBJ2323+147\",\n",
            "        \"Taname10\": null,\n",
            "        \"Tpname11\": \"1ES0229+200\",\n",
            "        \"Taname11\": null\n",
            "    },\n",
            "    \"File list MAGIC\": [\n",
            "        \"magic_19e_sed_fig1_target_all.ecsv\",\n",
            "        \"magic_19e_sed_fig1_target01.ecsv\",\n",
            "        \"magic_19e_sed_fig1_target04.ecsv\",\n",
            "        \"magic_19e_sed_fig1_target07.ecsv\",\n",
            "        \"magic_19e_sed_fig1_target08.ecsv\",\n",
            "        \"magic_19e_sed_fig1_target09.ecsv\"\n",
            "    ],\n",
            "    \"File list MWL\": [\n",
            "        \"magic_19e_lc1_fig2_target_all.ecsv\",\n",
            "        \"magic_19e_lc1_fig2_target01.ecsv\",\n",
            "        \"magic_19e_lc1_fig2_target02.ecsv\",\n",
            "        \"magic_19e_lc1_fig2_target03.ecsv\",\n",
            "        \"magic_19e_lc1_fig2_target04.ecsv\",\n",
            "        \"magic_19e_lc1_fig2_target05.ecsv\",\n",
            "        \"magic_19e_lc1_fig2_target06.ecsv\",\n",
            "        \"magic_19e_lc1_fig2_target07.ecsv\",\n",
            "        \"magic_19e_lc1_fig2_target08.ecsv\",\n",
            "        \"magic_19e_lc1_fig2_target09.ecsv\",\n",
            "        \"magic_19e_lc1_fig2_target010.ecsv\",\n",
            "        \"magic_19e_lc1_fig2_target011.ecsv\",\n",
            "        \"magic_19e_sed_fig3_mwl_target_all.ecsv\",\n",
            "        \"magic_19e_sed_fig3_mwl_target11.ecsv\",\n",
            "        \"magic_19e_sed_fig3_mwl_target07.ecsv\",\n",
            "        \"magic_19e_sed_fig3_mwl_target04.ecsv\",\n",
            "        \"magic_19e_sed_fig3_mwl_target08.ecsv\",\n",
            "        \"magic_19e_sed_fig3_mwl_target09.ecsv\",\n",
            "        \"magic_19e_sed_fig3_mwl_target01.ecsv\",\n",
            "        \"magic_19e_sed_fig3_nofit_target_all.ecsv\",\n",
            "        \"magic_19e_sed_fig3_nofit_target11.ecsv\",\n",
            "        \"magic_19e_sed_fig3_nofit_target07.ecsv\",\n",
            "        \"magic_19e_sed_fig3_nofit_target04.ecsv\",\n",
            "        \"magic_19e_sed_fig3_nofit_target08.ecsv\",\n",
            "        \"magic_19e_sed_fig3_nofit_target09.ecsv\",\n",
            "        \"magic_19e_sed_fig3_nofit_target01.ecsv\",\n",
            "        \"magic_19e_sed_fig4_mwl_target_all.ecsv\",\n",
            "        \"magic_19e_sed_fig4_mwl_target05.ecsv\",\n",
            "        \"magic_19e_sed_fig4_mwl_target03.ecsv\",\n",
            "        \"magic_19e_sed_fig4_mwl_target10.ecsv\",\n",
            "        \"magic_19e_sed_fig4_mwl_target02.ecsv\",\n",
            "        \"magic_19e_sed_fig4_nofit_target_all.ecsv\",\n",
            "        \"magic_19e_sed_fig4_nofit_target05.ecsv\",\n",
            "        \"magic_19e_sed_fig4_nofit_target03.ecsv\",\n",
            "        \"magic_19e_sed_fig4_nofit_target10.ecsv\",\n",
            "        \"magic_19e_sed_fig4_nofit_target02.ecsv\"\n",
            "    ],\n",
            "    \"File on demands (available on request to Fmail)\": [\n",
            "        \"magic_19e_sed1_fig1_target01_eblcorrected.ecsv\",\n",
            "        \"magic_19e_sed1_fig1_target04_eblcorrected.ecsv\",\n",
            "        \"magic_19e_sed1_fig1_target07_eblcorrected.ecsv\",\n",
            "        \"magic_19e_sed1_fig1_target08_eblcorrected.ecsv\",\n",
            "        \"magic_19e_sed1_fig1_target09_eblcorrected.ecsv\",\n",
            "        \"magic_19e_sed_fig3_model_target_all.ecsv\",\n",
            "        \"magic_19e_sed_fig3_model_target11.ecsv\",\n",
            "        \"magic_19e_sed_fig3_model_target07.ecsv\",\n",
            "        \"magic_19e_sed_fig3_model_target04.ecsv\",\n",
            "        \"magic_19e_sed_fig3_model_target08.ecsv\",\n",
            "        \"magic_19e_sed_fig3_model_target09.ecsv\",\n",
            "        \"magic_19e_sed_fig3_model_target01.ecsv\",\n",
            "        \"magic_19e_sed_fig4_model_target_all.ecsv\",\n",
            "        \"magic_19e_sed_fig4_model_target05.ecsv\",\n",
            "        \"magic_19e_sed_fig4_model_target03.ecsv\",\n",
            "        \"magic_19e_sed_fig4_model_target10.ecsv\",\n",
            "        \"magic_19e_sed_fig4_model_target02.ecsv\"\n",
            "    ],\n",
            "    \"Comments\": null\n",
            "}\n"
          ]
        }
      ],
      "execution_count": 5,
      "metadata": {
        "scrolled": false
      }
    },
    {
      "cell_type": "code",
      "source": [
        "res = query_magic(product='data',params=dict(file_name='magic_19e_sed_fig3_mwl_target01.ecsv'))\n",
        "_o_dict=json.loads(res.json())\n",
        "t_rec = ascii.read(_o_dict['astropy_table']['ascii'])\n"
      ],
      "outputs": [
        {
          "output_type": "stream",
          "name": "stdout",
          "text": [
            "http://localhost:5000/api/v1.0/magic/data\n"
          ]
        }
      ],
      "execution_count": 14,
      "metadata": {}
    },
    {
      "cell_type": "code",
      "source": [
        "t_rec\n"
      ],
      "outputs": [
        {
          "output_type": "error",
          "ename": "NameError",
          "evalue": "name 't_rec' is not defined",
          "traceback": [
            "\u001b[0;31m---------------------------------------------------------------------------\u001b[0m",
            "\u001b[0;31mNameError\u001b[0m                                 Traceback (most recent call last)",
            "\u001b[0;32m<ipython-input-10-8b5d7593da18>\u001b[0m in \u001b[0;36m<module>\u001b[0;34m\u001b[0m\n\u001b[0;32m----> 1\u001b[0;31m \u001b[0mt_rec\u001b[0m\u001b[0;34m\u001b[0m\u001b[0;34m\u001b[0m\u001b[0m\n\u001b[0m",
            "\u001b[0;31mNameError\u001b[0m: name 't_rec' is not defined"
          ]
        }
      ],
      "execution_count": 10,
      "metadata": {}
    },
    {
      "cell_type": "code",
      "source": [
        "_o_dict['astropy_table']['name']"
      ],
      "outputs": [
        {
          "output_type": "execute_result",
          "execution_count": 59,
          "data": {
            "text/plain": [
              "'MAGIC TABLE'"
            ]
          },
          "metadata": {}
        }
      ],
      "execution_count": 59,
      "metadata": {}
    },
    {
      "cell_type": "code",
      "source": [
        "\n",
        "from astropy import coordinates"
      ],
      "outputs": [],
      "execution_count": 60,
      "metadata": {}
    },
    {
      "cell_type": "code",
      "source": [
        "c=coordinates.SkyCoord.from_name('Mrk 421')"
      ],
      "outputs": [],
      "execution_count": 61,
      "metadata": {}
    },
    {
      "cell_type": "code",
      "source": [
        "c"
      ],
      "outputs": [
        {
          "output_type": "execute_result",
          "execution_count": 62,
          "data": {
            "text/plain": [
              "<SkyCoord (ICRS): (ra, dec) in deg\n",
              "    (166.113808, 38.20883287)>"
            ]
          },
          "metadata": {}
        }
      ],
      "execution_count": 62,
      "metadata": {}
    },
    {
      "cell_type": "code",
      "source": [],
      "outputs": [],
      "execution_count": null,
      "metadata": {}
    }
  ],
  "metadata": {
    "kernelspec": {
      "name": "python3",
      "language": "python",
      "display_name": "Python 3"
    },
    "language_info": {
      "name": "python",
      "version": "3.7.3",
      "mimetype": "text/x-python",
      "codemirror_mode": {
        "name": "ipython",
        "version": 3
      },
      "pygments_lexer": "ipython3",
      "nbconvert_exporter": "python",
      "file_extension": ".py"
    },
    "toc": {
      "toc_position": {},
      "skip_h1_title": false,
      "number_sections": false,
      "title_cell": "Table of Contents",
      "toc_window_display": false,
      "base_numbering": 1,
      "toc_section_display": false,
      "title_sidebar": "Contents",
      "toc_cell": false,
      "nav_menu": {},
      "sideBar": false
    },
    "kernel_info": {
      "name": "python3"
    },
    "nteract": {
      "version": "0.15.0"
    }
  },
  "nbformat": 4,
  "nbformat_minor": 4
}
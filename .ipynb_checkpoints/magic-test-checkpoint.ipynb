{
 "cells": [
  {
   "cell_type": "code",
   "execution_count": 16,
   "metadata": {},
   "outputs": [],
   "source": [
    "from astropy.table import Table\n",
    "import json\n",
    "import  base64\n",
    "import pickle\n",
    "import requests\n",
    "from astropy.io import ascii\n",
    "from collections import OrderedDict\n",
    "import sys\n",
    "import inspect\n"
   ]
  },
  {
   "cell_type": "code",
   "execution_count": 17,
   "metadata": {},
   "outputs": [],
   "source": [
    "class NoTraceBackWithLineNumber(Exception):\n",
    "    def __init__(self, msg):\n",
    "        try:\n",
    "            ln = sys.exc_info()[-1].tb_lineno\n",
    "        except AttributeError:\n",
    "            ln = inspect.currentframe().f_back.f_lineno\n",
    "        self.args = \"{0.__name__} (line {1}): {2}\".format(type(self), ln, msg),\n",
    "        sys.exit(self)\n",
    "\n",
    "class APIError(NoTraceBackWithLineNumber):\n",
    "    pass"
   ]
  },
  {
   "cell_type": "code",
   "execution_count": 18,
   "metadata": {},
   "outputs": [],
   "source": [
    "def show_catalog(cat,s=''):\n",
    "    if isinstance(cat, dict):\n",
    "        for k in cat.keys():\n",
    "            print('%s:%s'%(s,k))\n",
    "            show_catalog(cat[k],s=' '*2)\n",
    "    elif isinstance(cat, list) or isinstance(cat, tuple):\n",
    "        for item in cat:\n",
    "            show_catalog(item,s=' '*2)\n",
    "    else:\n",
    "       \n",
    "        print('%s %s'%(s,cat))\n",
    "\n"
   ]
  },
  {
   "cell_type": "code",
   "execution_count": 19,
   "metadata": {},
   "outputs": [],
   "source": [
    "def query_magic(url='http://localhost',port=32790,product='catalog',api='api/v1.0/magic',params=None):\n",
    "    s='%s:%d/%s/get-%s'%(url,port,api,product)\n",
    "    \n",
    "    \n",
    "    res = requests.get(s,params=params)\n",
    "    #print(res.json())\n",
    "    if 'error_message' in res.json():\n",
    "        raise APIError('error on remote server: %s'%res.json()['error_message'])\n",
    "\n",
    "    return res"
   ]
  },
  {
   "cell_type": "code",
   "execution_count": 20,
   "metadata": {},
   "outputs": [
    {
     "name": "stdout",
     "output_type": "stream",
     "text": [
      "{\n",
      "    \"File on demands (available on request to Fmail)\": [\n",
      "        \"magic_19e_sed1_fig1_target01_eblcorrected.ecsv\",\n",
      "        \"magic_19e_sed1_fig1_target04_eblcorrected.ecsv\",\n",
      "        \"magic_19e_sed1_fig1_target07_eblcorrected.ecsv\",\n",
      "        \"magic_19e_sed1_fig1_target08_eblcorrected.ecsv\",\n",
      "        \"magic_19e_sed1_fig1_target09_eblcorrected.ecsv\",\n",
      "        \"magic_19e_sed_fig3_model_target_all.ecsv\",\n",
      "        \"magic_19e_sed_fig3_model_target11.ecsv\",\n",
      "        \"magic_19e_sed_fig3_model_target07.ecsv\",\n",
      "        \"magic_19e_sed_fig3_model_target04.ecsv\",\n",
      "        \"magic_19e_sed_fig3_model_target08.ecsv\",\n",
      "        \"magic_19e_sed_fig3_model_target09.ecsv\",\n",
      "        \"magic_19e_sed_fig3_model_target01.ecsv\",\n",
      "        \"magic_19e_sed_fig4_model_target_all.ecsv\",\n",
      "        \"magic_19e_sed_fig4_model_target05.ecsv\",\n",
      "        \"magic_19e_sed_fig4_model_target03.ecsv\",\n",
      "        \"magic_19e_sed_fig4_model_target10.ecsv\",\n",
      "        \"magic_19e_sed_fig4_model_target02.ecsv\"\n",
      "    ],\n",
      "    \"File list MAGIC\": [\n",
      "        \"magic_19e_sed_fig1_target_all.ecsv\",\n",
      "        \"magic_19e_sed_fig1_target01.ecsv\",\n",
      "        \"magic_19e_sed_fig1_target04.ecsv\",\n",
      "        \"magic_19e_sed_fig1_target07.ecsv\",\n",
      "        \"magic_19e_sed_fig1_target08.ecsv\",\n",
      "        \"magic_19e_sed_fig1_target09.ecsv\"\n",
      "    ],\n",
      "    \"File list MWL\": [\n",
      "        \"magic_19e_lc1_fig2_target_all.ecsv\",\n",
      "        \"magic_19e_lc1_fig2_target01.ecsv\",\n",
      "        \"magic_19e_lc1_fig2_target02.ecsv\",\n",
      "        \"magic_19e_lc1_fig2_target03.ecsv\",\n",
      "        \"magic_19e_lc1_fig2_target04.ecsv\",\n",
      "        \"magic_19e_lc1_fig2_target05.ecsv\",\n",
      "        \"magic_19e_lc1_fig2_target06.ecsv\",\n",
      "        \"magic_19e_lc1_fig2_target07.ecsv\",\n",
      "        \"magic_19e_lc1_fig2_target08.ecsv\",\n",
      "        \"magic_19e_lc1_fig2_target09.ecsv\",\n",
      "        \"magic_19e_lc1_fig2_target010.ecsv\",\n",
      "        \"magic_19e_lc1_fig2_target011.ecsv\",\n",
      "        \"magic_19e_sed_fig3_mwl_target_all.ecsv\",\n",
      "        \"magic_19e_sed_fig3_mwl_target11.ecsv\",\n",
      "        \"magic_19e_sed_fig3_mwl_target07.ecsv\",\n",
      "        \"magic_19e_sed_fig3_mwl_target04.ecsv\",\n",
      "        \"magic_19e_sed_fig3_mwl_target08.ecsv\",\n",
      "        \"magic_19e_sed_fig3_mwl_target09.ecsv\",\n",
      "        \"magic_19e_sed_fig3_mwl_target01.ecsv\",\n",
      "        \"magic_19e_sed_fig3_nofit_target_all.ecsv\",\n",
      "        \"magic_19e_sed_fig3_nofit_target11.ecsv\",\n",
      "        \"magic_19e_sed_fig3_nofit_target07.ecsv\",\n",
      "        \"magic_19e_sed_fig3_nofit_target04.ecsv\",\n",
      "        \"magic_19e_sed_fig3_nofit_target08.ecsv\",\n",
      "        \"magic_19e_sed_fig3_nofit_target09.ecsv\",\n",
      "        \"magic_19e_sed_fig3_nofit_target01.ecsv\",\n",
      "        \"magic_19e_sed_fig4_mwl_target_all.ecsv\",\n",
      "        \"magic_19e_sed_fig4_mwl_target05.ecsv\",\n",
      "        \"magic_19e_sed_fig4_mwl_target03.ecsv\",\n",
      "        \"magic_19e_sed_fig4_mwl_target10.ecsv\",\n",
      "        \"magic_19e_sed_fig4_mwl_target02.ecsv\",\n",
      "        \"magic_19e_sed_fig4_nofit_target_all.ecsv\",\n",
      "        \"magic_19e_sed_fig4_nofit_target05.ecsv\",\n",
      "        \"magic_19e_sed_fig4_nofit_target03.ecsv\",\n",
      "        \"magic_19e_sed_fig4_nofit_target10.ecsv\",\n",
      "        \"magic_19e_sed_fig4_nofit_target02.ecsv\"\n",
      "    ],\n",
      "    \"Paper info\": {\n",
      "        \"Pads\": \"XX\",\n",
      "        \"Pcoll\": \"magic\",\n",
      "        \"Pdoi\": \"https:// doi.org/XXX\",\n",
      "        \"Parxiv\": \"http://arxiv.org/abs/arXiv:XXX\",\n",
      "        \"Pinspire\": \"XXX\",\n",
      "        \"Pref\": \"Astrophysical Journal Supplement XXX\",\n",
      "        \"Pcauthor\": \"Elisa Prandini, Cornelia Arcaro, Vandad Fallah Ramazani\"\n",
      "    },\n",
      "    \"Targets in file\": {\n",
      "        \"Taname11\": null,\n",
      "        \"Taname10\": null,\n",
      "        \"Tpname05\": \"1ES0927+500\",\n",
      "        \"Tpname04\": \"RBS0723\",\n",
      "        \"Tpname10\": \"RGBJ2323+147\",\n",
      "        \"Tpname11\": \"1ES0229+200\",\n",
      "        \"Tpname01\": \"TXS0210+515\",\n",
      "        \"Tpname03\": \"BZBJ0809+3455\",\n",
      "        \"Tpname02\": \"TXS0637-128\",\n",
      "        \"Tpname06\": \"RBS0921\",\n",
      "        \"Tpname09\": \"RGBJ2042+244\",\n",
      "        \"Tpname08\": \"1ES2037+521\",\n",
      "        \"Tpname07\": \"1ES1426+428\",\n",
      "        \"Taname04\": null,\n",
      "        \"Taname05\": null,\n",
      "        \"Taname06\": null,\n",
      "        \"Taname07\": null,\n",
      "        \"Taname01\": \"BZBJ0214+5144; 1RXSJ021417.8+514457; 87GB02109+5130; GB6J0214+5145; 5BZGJ0214+5144; GB6B0210+5131; 2WHSPJ021417.8+514451; 2FHLJ0214.9+5149\",\n",
      "        \"Taname02\": null,\n",
      "        \"Taname03\": null,\n",
      "        \"Taname09\": null\n",
      "    },\n",
      "    \"File_info\": \"Fdate = 20190819 Fvers = 1 Fgen = Michele Doro, michele.doro@unipd.it Fmail = magic_sapo@mpp.mpg.de Flink = XXXX\",\n",
      "    \"Comments\": null\n",
      "}\n"
     ]
    }
   ],
   "source": [
    "res = query_magic(product='catalog')\n",
    "cat_rec=json.loads(res.json(), object_pairs_hook=OrderedDict)\n",
    "print (json.dumps(cat_rec, indent=4))\n",
    "#show_catalog(cat_rec)"
   ]
  },
  {
   "cell_type": "code",
   "execution_count": 60,
   "metadata": {},
   "outputs": [],
   "source": [
    "res = query_magic(product='data',params=dict(file_name='magic_19e_sed_fig1_target01.ecsv'))\n",
    "_o_dict=json.loads(res.json())\n",
    "t_rec = ascii.read(_o_dict['astropy_table']['ascii'])\n",
    "#_o_dict['astropy_table']"
   ]
  },
  {
   "cell_type": "code",
   "execution_count": 61,
   "metadata": {},
   "outputs": [
    {
     "data": {
      "text/html": [
       "<i>Table masked=True length=3</i>\n",
       "<table id=\"table4715298152\" class=\"table-striped table-bordered table-condensed\">\n",
       "<thead><tr><th>energy</th><th>energy_wlo</th><th>energy_wup</th><th>nufnu</th><th>nufnu_elo</th><th>nufnu_eup</th><th>tstart</th><th>tstop</th><th>texpo</th><th>comments</th></tr></thead>\n",
       "<thead><tr><th>GeV</th><th>GeV</th><th>GeV</th><th>TeV / (cm2 s)</th><th>TeV / (cm2 s)</th><th>TeV / (cm2 s)</th><th>mjd</th><th>mjd</th><th>h</th><th>latex</th></tr></thead>\n",
       "<thead><tr><th>float32</th><th>float32</th><th>float32</th><th>float32</th><th>float32</th><th>float32</th><th>float32</th><th>float32</th><th>float32</th><th>str1</th></tr></thead>\n",
       "<tr><td>598.132</td><td>nan</td><td>nan</td><td>8.89748e-13</td><td>3.7871e-13</td><td>3.7871e-13</td><td>57370.0</td><td>58042.0</td><td>28.6</td><td>--</td></tr>\n",
       "<tr><td>1502.44</td><td>nan</td><td>nan</td><td>1.40498e-13</td><td>5.23943e-14</td><td>5.23943e-14</td><td>57370.0</td><td>58042.0</td><td>28.6</td><td>--</td></tr>\n",
       "<tr><td>3773.96</td><td>nan</td><td>nan</td><td>2.43844e-14</td><td>9.36573e-15</td><td>9.36573e-15</td><td>57370.0</td><td>58042.0</td><td>28.6</td><td>--</td></tr>\n",
       "</table>"
      ],
      "text/plain": [
       "<Table masked=True length=3>\n",
       " energy energy_wlo energy_wup     nufnu     ...  tstart  tstop   texpo  comments\n",
       "  GeV      GeV        GeV     TeV / (cm2 s) ...   mjd     mjd      h     latex  \n",
       "float32  float32    float32      float32    ... float32 float32 float32   str1  \n",
       "------- ---------- ---------- ------------- ... ------- ------- ------- --------\n",
       "598.132        nan        nan   8.89748e-13 ... 57370.0 58042.0    28.6       --\n",
       "1502.44        nan        nan   1.40498e-13 ... 57370.0 58042.0    28.6       --\n",
       "3773.96        nan        nan   2.43844e-14 ... 57370.0 58042.0    28.6       --"
      ]
     },
     "execution_count": 61,
     "metadata": {},
     "output_type": "execute_result"
    }
   ],
   "source": [
    "t_rec"
   ]
  },
  {
   "cell_type": "code",
   "execution_count": 36,
   "metadata": {},
   "outputs": [
    {
     "data": {
      "text/plain": [
       "{'binary': None,\n",
       " 'meta_data': '{}',\n",
       " 'ascii': '# %ECSV 0.9\\n# ---\\n# datatype:\\n# - {name: freq, unit: 1 / s, datatype: float32, description: Frequency}\\n# - {name: freq_elo, unit: 1 / s, datatype: float32, description: \"Lower Stat error\\\\\\n#     \\\\ (1 sigma) on \\\\u2018freq\\\\u2018\"}\\n# - {name: freq_eup, unit: 1 / s, datatype: float32, description: \"Upper Stat error\\\\\\n#     \\\\ (1 sigma) on \\\\u2018freq\\\\u2018\"}\\n# - {name: nufnu, unit: erg / (cm2 s), datatype: float32, description: \"Differential\\\\\\n#     \\\\ photon flux at \\\\u2018freq\\'\"}\\n# - {name: nufnu_elo, unit: erg / (cm2 s), datatype: float32, description: \"Lower Stat\\\\\\n#     \\\\ error (1 sigma) on \\\\u2018nufnu\\\\u2018\"}\\n# - {name: nufnu_eup, unit: erg / (cm2 s), datatype: float32, description: \"Upper Stat\\\\\\n#     \\\\ error (1 sigma) on \\\\u2018nufnu\\\\u2018\"}\\n# - {name: tstart, unit: mjd, datatype: float32, description: MJD start}\\n# - {name: tstop, unit: mjd, datatype: float32, description: MJD stop}\\n# - {name: texpo, unit: s, datatype: float32, description: Exposure time}\\n# - {name: comments, unit: latex, datatype: string, description: Comments}\\n# meta: !!omap\\n# - {Filename: magic_19e_sed_fig3_nofit_target01.ecsv}\\n# - {Source: TXS 0210+515}\\n# schema: astropy-2.0\\nfreq freq_elo freq_eup nufnu nufnu_elo nufnu_eup tstart tstop texpo comments\\n1400000000.0 0.0 0.0 4.128e-15 1.2396e-16 1.2396e-16 49231.5 50508.5 nan NVSS\\n468000000000000.0 0.0 0.0 3.36e-11 2.17e-12 2.17e-12 nan nan nan NED\\n240000000000000.0 0.0 0.0 3.1e-11 9.87e-13 9.87e-13 nan nan nan NED\\n240000000000000.0 0.0 0.0 3.41e-11 1.87e-12 1.87e-12 nan nan nan NED\\n240000000000000.0 0.0 0.0 2.34e-11 3.91e-13 3.91e-13 nan nan nan NED\\n240000000000000.0 0.0 0.0 1.2e-11 5.53e-13 5.53e-13 nan nan nan NED\\n182000000000000.0 0.0 0.0 4.04e-11 2.02e-12 2.02e-12 nan nan nan NED\\n182000000000000.0 0.0 0.0 2.36e-11 4.17e-13 4.17e-13 nan nan nan NED\\n182000000000000.0 0.0 0.0 3.11e-11 1.17e-12 1.17e-12 nan nan nan NED\\n182000000000000.0 0.0 0.0 1.26e-11 6.51e-13 6.51e-13 nan nan nan NED\\n138000000000000.0 0.0 0.0 2.78e-11 1.61e-12 1.61e-12 nan nan nan NED\\n138000000000000.0 0.0 0.0 1.68e-11 3.44e-13 3.44e-13 nan nan nan NED\\n138000000000000.0 0.0 0.0 2.14e-11 1.05e-12 1.05e-12 nan nan nan NED\\n138000000000000.0 0.0 0.0 8.8e-12 4.13e-13 4.13e-13 nan nan nan NED\\n4850000000.0 0.0 0.0 1.35e-14 1.5e-15 1.5e-15 nan nan nan NED\\n4850000000.0 0.0 0.0 1.31e-14 1.97e-15 1.97e-15 nan nan nan NED\\n1400000000.0 0.0 0.0 4.13e-15 1.25e-16 1.25e-16 nan nan nan NED\\n365000000.0 0.0 0.0 2.06e-15 1.5e-16 0.15 nan nan nan NED\\n138600000000000.0 0.0 0.0 8.9365e-12 4.1565e-13 4.1565e-13 nan nan nan Vizier\\n181800000000000.0 0.0 0.0 1.2922e-11 6.7247e-13 6.7247e-13 nan nan nan Vizier\\n242000000000000.0 0.0 0.0 1.2001e-11 5.5651e-13 5.5651e-13 nan nan nan Vizier\\n138600000000000.0 0.0 0.0 8.9365e-12 4.1565e-13 4.1565e-13 nan nan nan Vizier\\n181800000000000.0 0.0 0.0 1.2922e-11 7.0883e-13 7.0883e-13 nan nan nan Vizier\\n242000000000000.0 0.0 0.0 1.2001e-11 5.5651e-13 5.5651e-13 nan nan nan Vizier\\n136900000000000.0 0.0 0.0 1.2033e-11 8.2134e-14 8.2134e-14 nan nan nan Vizier\\n136900000000000.0 0.0 0.0 8.5419e-12 3.9698e-13 3.9698e-13 nan nan nan Vizier\\n183900000000000.0 0.0 0.0 1.7877e-11 2.7588e-13 2.7588e-13 nan nan nan Vizier\\n183900000000000.0 0.0 0.0 1.2948e-11 6.6211e-13 6.6211e-13 nan nan nan Vizier\\n239800000000000.0 0.0 0.0 1.722e-11 1.1991e-13 1.1991e-13 nan nan nan Vizier\\n239800000000000.0 0.0 0.0 1.2135e-11 5.5161e-13 5.5161e-13 nan nan nan Vizier\\n13570000000000.0 0.0 0.0 1.0518e-12 1.1128e-13 1.1128e-13 nan nan nan Vizier\\n25930000000000.0 0.0 0.0 1.2345e-12 3.6308e-14 3.6308e-14 nan nan nan Vizier\\n65170000000000.0 0.0 0.0 3.5714e-12 7.1689e-14 7.1689e-14 nan nan nan Vizier\\n89490000000000.0 0.0 0.0 6.7475e-12 1.4318e-13 1.4318e-13 nan nan nan Vizier\\n138600000000000.0 0.0 0.0 8.9365e-12 4.1565e-13 4.1565e-13 nan nan nan Vizier\\n181800000000000.0 0.0 0.0 1.2922e-11 6.7247e-13 6.7247e-13 nan nan nan Vizier\\n242000000000000.0 0.0 0.0 1.2001e-11 5.5651e-13 5.5651e-13 nan nan nan Vizier\\n13570000000000.0 0.0 0.0 1.1264e-12 1.2621e-13 1.2621e-13 nan nan nan Vizier\\n25930000000000.0 0.0 0.0 1.2526e-12 4.1494e-14 4.1494e-14 nan nan nan Vizier\\n65170000000000.0 0.0 0.0 3.6692e-12 7.1689e-14 7.1689e-14 nan nan nan Vizier\\n89490000000000.0 0.0 0.0 6.6223e-12 1.4318e-13 1.4318e-13 nan nan nan Vizier\\n138600000000000.0 0.0 0.0 8.9365e-12 4.1565e-13 4.1565e-13 nan nan nan Vizier\\n181800000000000.0 0.0 0.0 1.2922e-11 6.7247e-13 6.7247e-13 nan nan nan Vizier\\n242000000000000.0 0.0 0.0 1.2001e-11 5.5651e-13 5.5651e-13 nan nan nan Vizier\\n1400000000.0 0.0 0.0 6.342e-15 1.4e-16 1.4e-16 nan nan nan Vizier\\n138600000000000.0 0.0 0.0 8.9365e-12 4.1565e-13 4.1565e-13 nan nan nan Vizier\\n181800000000000.0 0.0 0.0 1.2922e-11 6.7247e-13 6.7247e-13 nan nan nan Vizier\\n242000000000000.0 0.0 0.0 1.2001e-11 5.5651e-13 5.5651e-13 nan nan nan Vizier\\n138600000000000.0 0.0 0.0 8.9365e-12 4.1565e-13 4.1565e-13 nan nan nan Vizier\\n181800000000000.0 0.0 0.0 1.2922e-11 6.7247e-13 6.7247e-13 nan nan nan Vizier\\n242000000000000.0 0.0 0.0 1.2001e-11 5.5651e-13 5.5651e-13 nan nan nan Vizier\\n4800000000.0 0.0 0.0 9.936e-15 1.536e-15 1.536e-15 nan nan nan Vizier\\n13630000000000.0 0.0 0.0 6.8649e-13 1.4552e-13 1.4552e-13 55231.117 55232.242 nan allWISE\\n24980000000000.0 0.0 0.0 9.3996e-13 3.0321e-14 3.0321e-14 55231.117 55232.242 nan allWISE\\n65170000000000.0 0.0 0.0 4.0049e-12 6.6933e-14 6.6933e-14 55231.117 55232.242 nan allWISE\\n88170000000000.0 0.0 0.0 7.5514e-12 1.2071e-13 1.2071e-13 55231.117 55232.242 nan allWISE\\n1475000000000000.0 0.0 0.0 4.003e-12 7.5308e-14 7.5308e-14 54811.844 nan nan UVOT\\n1157000000000000.0 0.0 0.0 3.7721e-12 8.742e-14 8.742e-14 54811.844 nan nan UVOT\\n856300000000000.0 0.0 0.0 4.6577e-12 1.0953e-13 1.0953e-13 54811.844 nan nan UVOT\\n692500000000000.0 0.0 0.0 8.6962e-12 1.9344e-13 1.9344e-13 54811.844 nan nan UVOT\\n1475000000000000.0 0.0 0.0 3.1655e-12 2.6643e-14 2.6643e-14 54810.16 nan nan UVOT\\n1345000000000000.0 0.0 0.0 3.6405e-12 4.171e-14 4.171e-14 54810.16 nan nan UVOT\\n1157000000000000.0 0.0 0.0 3.4165e-12 4.4223e-14 4.4223e-14 54810.16 nan nan UVOT\\n856300000000000.0 0.0 0.0 4.6367e-12 6.2281e-14 6.2281e-14 54810.16 nan nan UVOT\\n856300000000000.0 0.0 0.0 1.7542e-12 3.8878e-14 3.8878e-14 54810.16 nan nan UVOT\\n692500000000000.0 0.0 0.0 8.4929e-12 1.1272e-13 1.1272e-13 54810.16 nan nan UVOT\\n692500000000000.0 0.0 0.0 3.4129e-12 6.8868e-14 6.8868e-14 54810.16 nan nan UVOT\\n555000000000000.0 0.0 0.0 1.7653e-11 2.6419e-13 2.6419e-13 54810.16 nan nan UVOT\\n1345000000000000.0 0.0 0.0 3.5937e-12 2.4925e-14 2.4925e-14 55090.016 nan nan UVOT\\n1.081e+18 0.0 0.0 9.258e-12 4.0275e-13 4.0275e-13 55090.016 55090.96 nan 1SWXRT\\n2.418e+17 0.0 0.0 6.3538e-12 1.8373e-13 1.8373e-13 55090.016 55090.96 nan 1SWXRT\\n4.836e+17 0.0 0.0 7.1194e-12 1.8041e-13 1.8041e-13 55090.016 55090.96 nan 1SWXRT\\n1.081e+18 0.0 0.0 4.0731e-12 5.4757e-13 5.4757e-13 54811.844 54811.918 nan 1SWXRT\\n2.418e+17 0.0 0.0 8.7336e-12 6.4128e-13 6.4128e-13 54811.844 54811.918 nan 1SWXRT\\n4.836e+17 0.0 0.0 6.4744e-12 4.3927e-13 4.3927e-13 54811.844 54811.918 nan 1SWXRT\\n1.081e+18 0.0 0.0 5.985e-12 2.4446e-13 2.4446e-13 54810.16 54810.316 nan 1SWXRT\\n2.418e+17 0.0 0.0 1.2582e-11 3.0002e-13 3.0002e-13 54810.16 54810.316 nan 1SWXRT\\n4.836e+17 0.0 0.0 9.1773e-12 2.1119e-13 2.1119e-13 54810.16 54810.316 nan 1SWXRT\\n1.081e+18 0.0 0.0 8.1673e-12 2.4555e-13 2.4555e-13 54810.16 55090.957 nan 1SXPS\\n3.419e+17 0.0 0.0 8.3466e-12 2.1549e-13 2.1549e-13 54810.16 55090.957 nan 1SXPS\\n4.188e+17 0.0 0.0 7.9988e-12 1.3342e-13 1.3342e-13 54810.16 55090.957 nan 1SXPS\\n1.325e+17 0.0 0.0 6.7805e-12 2.2565e-13 2.2565e-13 54810.16 55090.957 nan 1SXPS\\n2.42e+17 0.0 0.0 4.8101e-12 3.3222e-13 3.3222e-13 47892.5 48257.5 nan RASS\\n2.42e+17 0.0 0.0 4.0441e-12 2.8735e-13 2.8735e-13 48104.0 48499.0 nan RX2CAT\\n6.622e+18 0.0 0.0 2.908e-12 1.7245e-12 1.7245e-12 53340.5 54525.5 nan \"BAT 54M CAT\"\\n1.147e+19 0.0 0.0 2.5739e-12 1.5085e-12 1.5085e-12 53340.5 54525.5 nan \"BAT 54M CAT\"\\n1.147e+19 0.0 0.0 3.7584e-12 4.763e-13 4.763e-13 53411.426 56501.426 nan \"BAT 100M Palermo Catalog\"\\n1.452e+24 0.0 0.0 9.1272e-13 2.7865e-13 2.7865e-13 54682.656 56139.95 nan \"Fermi/LAT (3FGL)\"\\n1.452e+25 0.0 0.0 6.1414e-13 3.3053e-13 3.3053e-13 54682.656 56139.95 nan \"Fermi/LAT (3FGL)\"\\n1.452e+23 0.0 0.0 4.8866e-13 3.4406e-13 3.4406e-13 54682.656 56139.95 nan \"Fermi/LAT (3FGL)\"\\n4.84e+22 0.0 0.0 2.7362e-12 7.8026e-13 7.8026e-13 54682.656 56139.95 nan \"Fermi/LAT (3FGL)\"\\n',\n",
       " 'name': 'MAGIC TABLE'}"
      ]
     },
     "execution_count": 36,
     "metadata": {},
     "output_type": "execute_result"
    }
   ],
   "source": [
    "_o_dict['']"
   ]
  },
  {
   "cell_type": "code",
   "execution_count": 176,
   "metadata": {},
   "outputs": [
    {
     "data": {
      "text/latex": [
       "$[7.7369751 \\times 10^{-14},~1.3544076 \\times 10^{-9},~6.1603694 \\times 10^{-10},~1.1671623 \\times 10^{-9},~2.4404301 \\times 10^{-10},~3.4515546 \\times 10^{-10},~1.2607849 \\times 10^{-9},~2.6027094 \\times 10^{-10},~7.3025658 \\times 10^{-10},~4.0632225 \\times 10^{-10},~1.0048831 \\times 10^{-9},~2.1470792 \\times 10^{-10},~6.5535849 \\times 10^{-10},~2.5777436 \\times 10^{-10},~9.3622636 \\times 10^{-13},~1.2295773 \\times 10^{-12},~7.801887 \\times 10^{-14},~93.622643,~2.5942834 \\times 10^{-10},~4.1972278 \\times 10^{-10},~3.4734626 \\times 10^{-10},~2.5942834 \\times 10^{-10},~4.4241694 \\times 10^{-10},~3.4734626 \\times 10^{-10},~5.1264014 \\times 10^{-11},~2.4777544 \\times 10^{-10},~1.7219078 \\times 10^{-10},~4.132566 \\times 10^{-10},~7.4841938 \\times 10^{-11},~3.4428788 \\times 10^{-10},~6.9455518 \\times 10^{-11},~2.2661673 \\times 10^{-11},~4.4744757 \\times 10^{-11},~8.9365931 \\times 10^{-11},~2.5942834 \\times 10^{-10},~4.1972278 \\times 10^{-10},~3.4734626 \\times 10^{-10},~7.8774084 \\times 10^{-11},~2.5898519 \\times 10^{-11},~4.4744757 \\times 10^{-11},~8.9365931 \\times 10^{-11},~2.5942834 \\times 10^{-10},~4.1972278 \\times 10^{-10},~3.4734626 \\times 10^{-10},~8.7381132 \\times 10^{-14},~2.5942834 \\times 10^{-10},~4.1972278 \\times 10^{-10},~3.4734626 \\times 10^{-10},~2.5942834 \\times 10^{-10},~4.1972278 \\times 10^{-10},~3.4734626 \\times 10^{-10},~9.586959 \\times 10^{-13},~9.0826444 \\times 10^{-11},~1.8924881 \\times 10^{-11},~4.1776294 \\times 10^{-11},~7.5341261 \\times 10^{-11},~4.7003557 \\times 10^{-11},~5.4563274 \\times 10^{-11},~6.8363253 \\times 10^{-11},~1.2073575 \\times 10^{-10},~1.6629254 \\times 10^{-11},~2.6033335 \\times 10^{-11},~2.7601827 \\times 10^{-11},~3.8872742 \\times 10^{-11},~2.426574 \\times 10^{-11},~7.0354292 \\times 10^{-11},~4.2984026 \\times 10^{-11},~1.6489445 \\times 10^{-10},~1.5556962 \\times 10^{-11},~2.5137678 \\times 10^{-10},~1.1467525 \\times 10^{-10},~1.1260307 \\times 10^{-10},~3.4176634 \\times 10^{-10},~4.0025552 \\times 10^{-10},~2.741708 \\times 10^{-10},~1.5257993 \\times 10^{-10},~1.8725776 \\times 10^{-10},~1.3181443 \\times 10^{-10},~1.5326027 \\times 10^{-10},~1.3449829 \\times 10^{-10},~8.3274214 \\times 10^{-11},~1.4083966 \\times 10^{-10},~2.0735544 \\times 10^{-10},~1.7934977 \\times 10^{-10},~1.0763483 \\times 10^{-9},~9.4153174 \\times 10^{-10},~2.9728309 \\times 10^{-10},~1.7391966 \\times 10^{-10},~2.0630062 \\times 10^{-10},~2.1474537 \\times 10^{-10},~4.8700005 \\times 10^{-10}] \\; \\mathrm{\\frac{GeV}{s\\,cm^{2}}}$"
      ],
      "text/plain": [
       "<Quantity [7.73697512e-14, 1.35440759e-09, 6.16036944e-10, 1.16716226e-09,\n",
       "           2.44043008e-10, 3.45155460e-10, 1.26078492e-09, 2.60270944e-10,\n",
       "           7.30256577e-10, 4.06322254e-10, 1.00488307e-09, 2.14707918e-10,\n",
       "           6.55358490e-10, 2.57774357e-10, 9.36226357e-13, 1.22957731e-12,\n",
       "           7.80188698e-14, 9.36226425e+01, 2.59428340e-10, 4.19722784e-10,\n",
       "           3.47346263e-10, 2.59428340e-10, 4.42416936e-10, 3.47346263e-10,\n",
       "           5.12640139e-11, 2.47775439e-10, 1.72190776e-10, 4.13256596e-10,\n",
       "           7.48419382e-11, 3.44287876e-10, 6.94555177e-11, 2.26616729e-11,\n",
       "           4.47447565e-11, 8.93659313e-11, 2.59428340e-10, 4.19722784e-10,\n",
       "           3.47346263e-10, 7.87740845e-11, 2.58985194e-11, 4.47447565e-11,\n",
       "           8.93659313e-11, 2.59428340e-10, 4.19722784e-10, 3.47346263e-10,\n",
       "           8.73811318e-14, 2.59428340e-10, 4.19722784e-10, 3.47346263e-10,\n",
       "           2.59428340e-10, 4.19722784e-10, 3.47346263e-10, 9.58695905e-13,\n",
       "           9.08264436e-11, 1.89248808e-11, 4.17762942e-11, 7.53412610e-11,\n",
       "           4.70035573e-11, 5.45632740e-11, 6.83632526e-11, 1.20735755e-10,\n",
       "           1.66292535e-11, 2.60333352e-11, 2.76018271e-11, 3.88727418e-11,\n",
       "           2.42657405e-11, 7.03542918e-11, 4.29840261e-11, 1.64894445e-10,\n",
       "           1.55569620e-11, 2.51376781e-10, 1.14675248e-10, 1.12603066e-10,\n",
       "           3.41766337e-10, 4.00255523e-10, 2.74170797e-10, 1.52579935e-10,\n",
       "           1.87257765e-10, 1.31814434e-10, 1.53260266e-10, 1.34498288e-10,\n",
       "           8.32742139e-11, 1.40839659e-10, 2.07355438e-10, 1.79349771e-10,\n",
       "           1.07634834e-09, 9.41531741e-10, 2.97283087e-10, 1.73919656e-10,\n",
       "           2.06300615e-10, 2.14745374e-10, 4.87000051e-10] GeV / (cm2 s)>"
      ]
     },
     "execution_count": 176,
     "metadata": {},
     "output_type": "execute_result"
    }
   ],
   "source": [
    "t_rec['nufnu_eup'].to('GeV/cm2 s')"
   ]
  },
  {
   "cell_type": "code",
   "execution_count": 177,
   "metadata": {},
   "outputs": [
    {
     "data": {
      "text/plain": [
       "OrderedDict([('Filename', 'magic_19e_sed_fig3_nofit_target01.ecsv'),\n",
       "             ('Source', 'TXS 0210+515')])"
      ]
     },
     "execution_count": 177,
     "metadata": {},
     "output_type": "execute_result"
    }
   ],
   "source": [
    "t_rec.meta"
   ]
  },
  {
   "cell_type": "code",
   "execution_count": null,
   "metadata": {},
   "outputs": [],
   "source": []
  }
 ],
 "metadata": {
  "kernelspec": {
   "display_name": "Python 3",
   "language": "python",
   "name": "python3"
  },
  "language_info": {
   "codemirror_mode": {
    "name": "ipython",
    "version": 3
   },
   "file_extension": ".py",
   "mimetype": "text/x-python",
   "name": "python",
   "nbconvert_exporter": "python",
   "pygments_lexer": "ipython3",
   "version": "3.7.3"
  },
  "toc": {
   "base_numbering": 1,
   "nav_menu": {},
   "number_sections": false,
   "sideBar": false,
   "skip_h1_title": false,
   "title_cell": "Table of Contents",
   "title_sidebar": "Contents",
   "toc_cell": false,
   "toc_position": {},
   "toc_section_display": false,
   "toc_window_display": false
  }
 },
 "nbformat": 4,
 "nbformat_minor": 4
}

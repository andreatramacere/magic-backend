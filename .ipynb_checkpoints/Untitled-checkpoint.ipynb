{
 "cells": [
  {
   "cell_type": "code",
   "execution_count": 114,
   "metadata": {},
   "outputs": [],
   "source": [
    "from astropy.table import Table\n",
    "import json\n",
    "import  base64\n",
    "import pickle\n",
    "import requests\n",
    "from astropy.io import ascii\n",
    "from collections import OrderedDict"
   ]
  },
  {
   "cell_type": "code",
   "execution_count": 126,
   "metadata": {},
   "outputs": [],
   "source": [
    "def show_catalog(cat,s=''):\n",
    "    if isinstance(cat, dict):\n",
    "        for k in cat.keys():\n",
    "            print('%s:%s'%(s,k))\n",
    "            show_catalog(cat[k],s=' '*2)\n",
    "    elif isinstance(cat, list) or isinstance(cat, tuple):\n",
    "        for item in cat:\n",
    "            show_catalog(item,s=' '*2)\n",
    "    else:\n",
    "       \n",
    "        print('%s %s'%(s,cat))\n",
    "\n"
   ]
  },
  {
   "cell_type": "code",
   "execution_count": 127,
   "metadata": {},
   "outputs": [],
   "source": [
    "def query_magic(url='http://localhost',port=32790,product='catalog',api='api/v1.0/magic',params=None):\n",
    "    s='%s:%d/%s/get-%s'%(url,port,api,product)\n",
    "    \n",
    "    \n",
    "    res = requests.get(s,params=params)\n",
    "    #print(res.json())\n",
    "    if 'error_message' in res.json():\n",
    "        raise Warning('error on remote server',res.json()['error_message'])\n",
    "    \n",
    "    return res"
   ]
  },
  {
   "cell_type": "code",
   "execution_count": 128,
   "metadata": {
    "scrolled": false
   },
   "outputs": [
    {
     "name": "stdout",
     "output_type": "stream",
     "text": [
      "{\n",
      "    \"File on demands (available on request to Fmail)\": [\n",
      "        \"magic_19e_sed1_fig1_target01_eblcorrected.ecsv\",\n",
      "        \"magic_19e_sed1_fig1_target04_eblcorrected.ecsv\",\n",
      "        \"magic_19e_sed1_fig1_target07_eblcorrected.ecsv\",\n",
      "        \"magic_19e_sed1_fig1_target08_eblcorrected.ecsv\",\n",
      "        \"magic_19e_sed1_fig1_target09_eblcorrected.ecsv\",\n",
      "        \"magic_19e_sed_fig3_model_target_all.ecsv\",\n",
      "        \"magic_19e_sed_fig3_model_target11.ecsv\",\n",
      "        \"magic_19e_sed_fig3_model_target07.ecsv\",\n",
      "        \"magic_19e_sed_fig3_model_target04.ecsv\",\n",
      "        \"magic_19e_sed_fig3_model_target08.ecsv\",\n",
      "        \"magic_19e_sed_fig3_model_target09.ecsv\",\n",
      "        \"magic_19e_sed_fig3_model_target01.ecsv\",\n",
      "        \"magic_19e_sed_fig4_model_target_all.ecsv\",\n",
      "        \"magic_19e_sed_fig4_model_target05.ecsv\",\n",
      "        \"magic_19e_sed_fig4_model_target03.ecsv\",\n",
      "        \"magic_19e_sed_fig4_model_target10.ecsv\",\n",
      "        \"magic_19e_sed_fig4_model_target02.ecsv\"\n",
      "    ],\n",
      "    \"File list MAGIC\": [\n",
      "        \"magic_19e_sed_fig1_target_all.ecsv\",\n",
      "        \"magic_19e_sed_fig1_target01.ecsv\",\n",
      "        \"magic_19e_sed_fig1_target04.ecsv\",\n",
      "        \"magic_19e_sed_fig1_target07.ecsv\",\n",
      "        \"magic_19e_sed_fig1_target08.ecsv\",\n",
      "        \"magic_19e_sed_fig1_target09.ecsv\"\n",
      "    ],\n",
      "    \"File list MWL\": [\n",
      "        \"magic_19e_lc1_fig2_target_all.ecsv\",\n",
      "        \"magic_19e_lc1_fig2_target01.ecsv\",\n",
      "        \"magic_19e_lc1_fig2_target02.ecsv\",\n",
      "        \"magic_19e_lc1_fig2_target03.ecsv\",\n",
      "        \"magic_19e_lc1_fig2_target04.ecsv\",\n",
      "        \"magic_19e_lc1_fig2_target05.ecsv\",\n",
      "        \"magic_19e_lc1_fig2_target06.ecsv\",\n",
      "        \"magic_19e_lc1_fig2_target07.ecsv\",\n",
      "        \"magic_19e_lc1_fig2_target08.ecsv\",\n",
      "        \"magic_19e_lc1_fig2_target09.ecsv\",\n",
      "        \"magic_19e_lc1_fig2_target010.ecsv\",\n",
      "        \"magic_19e_lc1_fig2_target011.ecsv\",\n",
      "        \"magic_19e_sed_fig3_mwl_target_all.ecsv\",\n",
      "        \"magic_19e_sed_fig3_mwl_target11.ecsv\",\n",
      "        \"magic_19e_sed_fig3_mwl_target07.ecsv\",\n",
      "        \"magic_19e_sed_fig3_mwl_target04.ecsv\",\n",
      "        \"magic_19e_sed_fig3_mwl_target08.ecsv\",\n",
      "        \"magic_19e_sed_fig3_mwl_target09.ecsv\",\n",
      "        \"magic_19e_sed_fig3_mwl_target01.ecsv\",\n",
      "        \"magic_19e_sed_fig3_nofit_target_all.ecsv\",\n",
      "        \"magic_19e_sed_fig3_nofit_target11.ecsv\",\n",
      "        \"magic_19e_sed_fig3_nofit_target07.ecsv\",\n",
      "        \"magic_19e_sed_fig3_nofit_target04.ecsv\",\n",
      "        \"magic_19e_sed_fig3_nofit_target08.ecsv\",\n",
      "        \"magic_19e_sed_fig3_nofit_target09.ecsv\",\n",
      "        \"magic_19e_sed_fig3_nofit_target01.ecsv\",\n",
      "        \"magic_19e_sed_fig4_mwl_target_all.ecsv\",\n",
      "        \"magic_19e_sed_fig4_mwl_target05.ecsv\",\n",
      "        \"magic_19e_sed_fig4_mwl_target03.ecsv\",\n",
      "        \"magic_19e_sed_fig4_mwl_target10.ecsv\",\n",
      "        \"magic_19e_sed_fig4_mwl_target02.ecsv\",\n",
      "        \"magic_19e_sed_fig4_nofit_target_all.ecsv\",\n",
      "        \"magic_19e_sed_fig4_nofit_target05.ecsv\",\n",
      "        \"magic_19e_sed_fig4_nofit_target03.ecsv\",\n",
      "        \"magic_19e_sed_fig4_nofit_target10.ecsv\",\n",
      "        \"magic_19e_sed_fig4_nofit_target02.ecsv\"\n",
      "    ],\n",
      "    \"Paper info\": {\n",
      "        \"Pads\": \"XX\",\n",
      "        \"Pcoll\": \"magic\",\n",
      "        \"Pdoi\": \"https:// doi.org/XXX\",\n",
      "        \"Parxiv\": \"http://arxiv.org/abs/arXiv:XXX\",\n",
      "        \"Pinspire\": \"XXX\",\n",
      "        \"Pref\": \"Astrophysical Journal Supplement XXX\",\n",
      "        \"Pcauthor\": \"Elisa Prandini, Cornelia Arcaro, Vandad Fallah Ramazani\"\n",
      "    },\n",
      "    \"Targets in file\": {\n",
      "        \"Taname11\": null,\n",
      "        \"Taname10\": null,\n",
      "        \"Tpname05\": \"1ES0927+500\",\n",
      "        \"Tpname04\": \"RBS0723\",\n",
      "        \"Tpname10\": \"RGBJ2323+147\",\n",
      "        \"Tpname11\": \"1ES0229+200\",\n",
      "        \"Tpname01\": \"TXS0210+515\",\n",
      "        \"Tpname03\": \"BZBJ0809+3455\",\n",
      "        \"Tpname02\": \"TXS0637-128\",\n",
      "        \"Tpname06\": \"RBS0921\",\n",
      "        \"Tpname09\": \"RGBJ2042+244\",\n",
      "        \"Tpname08\": \"1ES2037+521\",\n",
      "        \"Tpname07\": \"1ES1426+428\",\n",
      "        \"Taname04\": null,\n",
      "        \"Taname05\": null,\n",
      "        \"Taname06\": null,\n",
      "        \"Taname07\": null,\n",
      "        \"Taname01\": \"BZBJ0214+5144; 1RXSJ021417.8+514457; 87GB02109+5130; GB6J0214+5145; 5BZGJ0214+5144; GB6B0210+5131; 2WHSPJ021417.8+514451; 2FHLJ0214.9+5149\",\n",
      "        \"Taname02\": null,\n",
      "        \"Taname03\": null,\n",
      "        \"Taname09\": null\n",
      "    },\n",
      "    \"File_info\": \"Fdate = 20190819 Fvers = 1 Fgen = Michele Doro, michele.doro@unipd.it Fmail = magic_sapo@mpp.mpg.de Flink = XXXX\",\n",
      "    \"Comments\": null\n",
      "}\n"
     ]
    }
   ],
   "source": [
    "res = query_magic(product='catalog')\n",
    "cat_rec=json.loads(res.json(), object_pairs_hook=OrderedDict)\n",
    "print (json.dumps(cat_rec, indent=4))\n",
    "#show_catalog(cat_rec)"
   ]
  },
  {
   "cell_type": "code",
   "execution_count": 130,
   "metadata": {
    "scrolled": false
   },
   "outputs": [
    {
     "ename": "Exception",
     "evalue": "('error on remote server', 'table file is empty/corrupted or missing')",
     "output_type": "error",
     "traceback": [
      "\u001b[0;31m---------------------------------------------------------------------------\u001b[0m",
      "\u001b[0;31mException\u001b[0m                                 Traceback (most recent call last)",
      "\u001b[0;32m<ipython-input-130-60471ce8f1b6>\u001b[0m in \u001b[0;36m<module>\u001b[0;34m\u001b[0m\n\u001b[0;32m----> 1\u001b[0;31m \u001b[0mres\u001b[0m \u001b[0;34m=\u001b[0m \u001b[0mquery_magic\u001b[0m\u001b[0;34m(\u001b[0m\u001b[0mproduct\u001b[0m\u001b[0;34m=\u001b[0m\u001b[0;34m'data'\u001b[0m\u001b[0;34m,\u001b[0m\u001b[0mparams\u001b[0m\u001b[0;34m=\u001b[0m\u001b[0mdict\u001b[0m\u001b[0;34m(\u001b[0m\u001b[0mfile_name\u001b[0m\u001b[0;34m=\u001b[0m\u001b[0;34m'magic_19e_sed_fig3_nofit_target10.ecsv'\u001b[0m\u001b[0;34m)\u001b[0m\u001b[0;34m)\u001b[0m\u001b[0;34m\u001b[0m\u001b[0;34m\u001b[0m\u001b[0m\n\u001b[0m\u001b[1;32m      2\u001b[0m \u001b[0;31m#_o_dict=json.loads(res.json())\u001b[0m\u001b[0;34m\u001b[0m\u001b[0;34m\u001b[0m\u001b[0;34m\u001b[0m\u001b[0m\n\u001b[1;32m      3\u001b[0m \u001b[0;31m#t_rec = ascii.read(_o_dict['astropy_table']['ascii'])\u001b[0m\u001b[0;34m\u001b[0m\u001b[0;34m\u001b[0m\u001b[0;34m\u001b[0m\u001b[0m\n\u001b[1;32m      4\u001b[0m \u001b[0;31m#t_rec\u001b[0m\u001b[0;34m\u001b[0m\u001b[0;34m\u001b[0m\u001b[0;34m\u001b[0m\u001b[0m\n",
      "\u001b[0;32m<ipython-input-127-9acc3879c4f7>\u001b[0m in \u001b[0;36mquery_magic\u001b[0;34m(url, port, product, api, params)\u001b[0m\n\u001b[1;32m      6\u001b[0m     \u001b[0;31m#print(res.json())\u001b[0m\u001b[0;34m\u001b[0m\u001b[0;34m\u001b[0m\u001b[0;34m\u001b[0m\u001b[0m\n\u001b[1;32m      7\u001b[0m     \u001b[0;32mif\u001b[0m \u001b[0;34m'error_message'\u001b[0m \u001b[0;32min\u001b[0m \u001b[0mres\u001b[0m\u001b[0;34m.\u001b[0m\u001b[0mjson\u001b[0m\u001b[0;34m(\u001b[0m\u001b[0;34m)\u001b[0m\u001b[0;34m:\u001b[0m\u001b[0;34m\u001b[0m\u001b[0;34m\u001b[0m\u001b[0m\n\u001b[0;32m----> 8\u001b[0;31m         \u001b[0;32mraise\u001b[0m \u001b[0mException\u001b[0m\u001b[0;34m(\u001b[0m\u001b[0;34m'error on remote server'\u001b[0m\u001b[0;34m,\u001b[0m\u001b[0mres\u001b[0m\u001b[0;34m.\u001b[0m\u001b[0mjson\u001b[0m\u001b[0;34m(\u001b[0m\u001b[0;34m)\u001b[0m\u001b[0;34m[\u001b[0m\u001b[0;34m'error_message'\u001b[0m\u001b[0;34m]\u001b[0m\u001b[0;34m)\u001b[0m\u001b[0;34m\u001b[0m\u001b[0;34m\u001b[0m\u001b[0m\n\u001b[0m\u001b[1;32m      9\u001b[0m \u001b[0;34m\u001b[0m\u001b[0m\n\u001b[1;32m     10\u001b[0m     \u001b[0;32mreturn\u001b[0m \u001b[0mres\u001b[0m\u001b[0;34m\u001b[0m\u001b[0;34m\u001b[0m\u001b[0m\n",
      "\u001b[0;31mException\u001b[0m: ('error on remote server', 'table file is empty/corrupted or missing')"
     ]
    }
   ],
   "source": [
    "res = query_magic(product='data',params=dict(file_name='magic_19e_sed_fig3_nofit_target10.ecsv'))\n",
    "#_o_dict=json.loads(res.json())\n",
    "#t_rec = ascii.read(_o_dict['astropy_table']['ascii'])\n",
    "#t_rec"
   ]
  },
  {
   "cell_type": "code",
   "execution_count": null,
   "metadata": {},
   "outputs": [],
   "source": []
  }
 ],
 "metadata": {
  "kernelspec": {
   "display_name": "Python 3",
   "language": "python",
   "name": "python3"
  },
  "language_info": {
   "codemirror_mode": {
    "name": "ipython",
    "version": 3
   },
   "file_extension": ".py",
   "mimetype": "text/x-python",
   "name": "python",
   "nbconvert_exporter": "python",
   "pygments_lexer": "ipython3",
   "version": "3.7.3"
  },
  "toc": {
   "base_numbering": 1,
   "nav_menu": {},
   "number_sections": false,
   "sideBar": false,
   "skip_h1_title": false,
   "title_cell": "Table of Contents",
   "title_sidebar": "Contents",
   "toc_cell": false,
   "toc_position": {},
   "toc_section_display": false,
   "toc_window_display": false
  }
 },
 "nbformat": 4,
 "nbformat_minor": 2
}
